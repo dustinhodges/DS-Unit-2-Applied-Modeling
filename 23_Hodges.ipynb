{
 "cells": [
  {
   "cell_type": "code",
   "execution_count": 91,
   "metadata": {},
   "outputs": [
    {
     "data": {
      "text/plain": [
       "(51920, 15)"
      ]
     },
     "execution_count": 91,
     "metadata": {},
     "output_type": "execute_result"
    }
   ],
   "source": [
    "import pandas as pd\n",
    "\n",
    "urlstops = 'https://raw.githubusercontent.com/dustinhodges/DS-Unit-2-Applied-Modeling/master/MplsStops.csv'\n",
    "urldemo = 'https://raw.githubusercontent.com/dustinhodges/DS-Unit-2-Applied-Modeling/master/MplsDemo.csv'\n",
    "\n",
    "stops = pd.read_csv(urlstops)\n",
    "stops.shape"
   ]
  },
  {
   "cell_type": "code",
   "execution_count": 92,
   "metadata": {},
   "outputs": [
    {
     "data": {
      "text/html": [
       "<div>\n",
       "<style scoped>\n",
       "    .dataframe tbody tr th:only-of-type {\n",
       "        vertical-align: middle;\n",
       "    }\n",
       "\n",
       "    .dataframe tbody tr th {\n",
       "        vertical-align: top;\n",
       "    }\n",
       "\n",
       "    .dataframe thead th {\n",
       "        text-align: right;\n",
       "    }\n",
       "</style>\n",
       "<table border=\"1\" class=\"dataframe\">\n",
       "  <thead>\n",
       "    <tr style=\"text-align: right;\">\n",
       "      <th></th>\n",
       "      <th>Unnamed: 0</th>\n",
       "      <th>idNum</th>\n",
       "      <th>date</th>\n",
       "      <th>problem</th>\n",
       "      <th>MDC</th>\n",
       "      <th>citationIssued</th>\n",
       "      <th>personSearch</th>\n",
       "      <th>vehicleSearch</th>\n",
       "      <th>preRace</th>\n",
       "      <th>race</th>\n",
       "      <th>gender</th>\n",
       "      <th>lat</th>\n",
       "      <th>long</th>\n",
       "      <th>policePrecinct</th>\n",
       "      <th>neighborhood</th>\n",
       "    </tr>\n",
       "  </thead>\n",
       "  <tbody>\n",
       "    <tr>\n",
       "      <th>0</th>\n",
       "      <td>6823</td>\n",
       "      <td>17-000003</td>\n",
       "      <td>2017-01-01 00:00:42</td>\n",
       "      <td>suspicious</td>\n",
       "      <td>MDC</td>\n",
       "      <td>NaN</td>\n",
       "      <td>NO</td>\n",
       "      <td>NO</td>\n",
       "      <td>Unknown</td>\n",
       "      <td>Unknown</td>\n",
       "      <td>Unknown</td>\n",
       "      <td>44.966617</td>\n",
       "      <td>-93.246458</td>\n",
       "      <td>1</td>\n",
       "      <td>Cedar Riverside</td>\n",
       "    </tr>\n",
       "    <tr>\n",
       "      <th>1</th>\n",
       "      <td>6824</td>\n",
       "      <td>17-000007</td>\n",
       "      <td>2017-01-01 00:03:07</td>\n",
       "      <td>suspicious</td>\n",
       "      <td>MDC</td>\n",
       "      <td>NaN</td>\n",
       "      <td>NO</td>\n",
       "      <td>NO</td>\n",
       "      <td>Unknown</td>\n",
       "      <td>Unknown</td>\n",
       "      <td>Male</td>\n",
       "      <td>44.980450</td>\n",
       "      <td>-93.271340</td>\n",
       "      <td>1</td>\n",
       "      <td>Downtown West</td>\n",
       "    </tr>\n",
       "    <tr>\n",
       "      <th>2</th>\n",
       "      <td>6825</td>\n",
       "      <td>17-000073</td>\n",
       "      <td>2017-01-01 00:23:15</td>\n",
       "      <td>traffic</td>\n",
       "      <td>MDC</td>\n",
       "      <td>NaN</td>\n",
       "      <td>NO</td>\n",
       "      <td>NO</td>\n",
       "      <td>Unknown</td>\n",
       "      <td>White</td>\n",
       "      <td>Female</td>\n",
       "      <td>44.948350</td>\n",
       "      <td>-93.275380</td>\n",
       "      <td>5</td>\n",
       "      <td>Whittier</td>\n",
       "    </tr>\n",
       "    <tr>\n",
       "      <th>3</th>\n",
       "      <td>6826</td>\n",
       "      <td>17-000092</td>\n",
       "      <td>2017-01-01 00:33:48</td>\n",
       "      <td>suspicious</td>\n",
       "      <td>MDC</td>\n",
       "      <td>NaN</td>\n",
       "      <td>NO</td>\n",
       "      <td>NO</td>\n",
       "      <td>Unknown</td>\n",
       "      <td>East African</td>\n",
       "      <td>Male</td>\n",
       "      <td>44.948360</td>\n",
       "      <td>-93.281350</td>\n",
       "      <td>5</td>\n",
       "      <td>Whittier</td>\n",
       "    </tr>\n",
       "    <tr>\n",
       "      <th>4</th>\n",
       "      <td>6827</td>\n",
       "      <td>17-000098</td>\n",
       "      <td>2017-01-01 00:37:58</td>\n",
       "      <td>traffic</td>\n",
       "      <td>MDC</td>\n",
       "      <td>NaN</td>\n",
       "      <td>NO</td>\n",
       "      <td>NO</td>\n",
       "      <td>Unknown</td>\n",
       "      <td>White</td>\n",
       "      <td>Female</td>\n",
       "      <td>44.979078</td>\n",
       "      <td>-93.262076</td>\n",
       "      <td>1</td>\n",
       "      <td>Downtown West</td>\n",
       "    </tr>\n",
       "  </tbody>\n",
       "</table>\n",
       "</div>"
      ],
      "text/plain": [
       "   Unnamed: 0      idNum                 date     problem  MDC citationIssued  \\\n",
       "0        6823  17-000003  2017-01-01 00:00:42  suspicious  MDC            NaN   \n",
       "1        6824  17-000007  2017-01-01 00:03:07  suspicious  MDC            NaN   \n",
       "2        6825  17-000073  2017-01-01 00:23:15     traffic  MDC            NaN   \n",
       "3        6826  17-000092  2017-01-01 00:33:48  suspicious  MDC            NaN   \n",
       "4        6827  17-000098  2017-01-01 00:37:58     traffic  MDC            NaN   \n",
       "\n",
       "  personSearch vehicleSearch  preRace          race   gender        lat  \\\n",
       "0           NO            NO  Unknown       Unknown  Unknown  44.966617   \n",
       "1           NO            NO  Unknown       Unknown     Male  44.980450   \n",
       "2           NO            NO  Unknown         White   Female  44.948350   \n",
       "3           NO            NO  Unknown  East African     Male  44.948360   \n",
       "4           NO            NO  Unknown         White   Female  44.979078   \n",
       "\n",
       "        long  policePrecinct     neighborhood  \n",
       "0 -93.246458               1  Cedar Riverside  \n",
       "1 -93.271340               1    Downtown West  \n",
       "2 -93.275380               5         Whittier  \n",
       "3 -93.281350               5         Whittier  \n",
       "4 -93.262076               1    Downtown West  "
      ]
     },
     "execution_count": 92,
     "metadata": {},
     "output_type": "execute_result"
    }
   ],
   "source": [
    "stops.head()"
   ]
  },
  {
   "cell_type": "code",
   "execution_count": 93,
   "metadata": {},
   "outputs": [
    {
     "data": {
      "text/html": [
       "<div>\n",
       "<style scoped>\n",
       "    .dataframe tbody tr th:only-of-type {\n",
       "        vertical-align: middle;\n",
       "    }\n",
       "\n",
       "    .dataframe tbody tr th {\n",
       "        vertical-align: top;\n",
       "    }\n",
       "\n",
       "    .dataframe thead th {\n",
       "        text-align: right;\n",
       "    }\n",
       "</style>\n",
       "<table border=\"1\" class=\"dataframe\">\n",
       "  <thead>\n",
       "    <tr style=\"text-align: right;\">\n",
       "      <th></th>\n",
       "      <th>Unnamed: 0</th>\n",
       "      <th>neighborhood</th>\n",
       "      <th>population</th>\n",
       "      <th>white</th>\n",
       "      <th>black</th>\n",
       "      <th>foreignBorn</th>\n",
       "      <th>hhIncome</th>\n",
       "      <th>poverty</th>\n",
       "      <th>collegeGrad</th>\n",
       "    </tr>\n",
       "  </thead>\n",
       "  <tbody>\n",
       "    <tr>\n",
       "      <th>0</th>\n",
       "      <td>1</td>\n",
       "      <td>Cedar Riverside</td>\n",
       "      <td>8247</td>\n",
       "      <td>0.353</td>\n",
       "      <td>0.464</td>\n",
       "      <td>0.408</td>\n",
       "      <td>18892</td>\n",
       "      <td>0.060</td>\n",
       "      <td>0.258</td>\n",
       "    </tr>\n",
       "    <tr>\n",
       "      <th>1</th>\n",
       "      <td>3</td>\n",
       "      <td>Phillips West</td>\n",
       "      <td>5184</td>\n",
       "      <td>0.199</td>\n",
       "      <td>0.538</td>\n",
       "      <td>0.318</td>\n",
       "      <td>18404</td>\n",
       "      <td>0.042</td>\n",
       "      <td>0.211</td>\n",
       "    </tr>\n",
       "    <tr>\n",
       "      <th>2</th>\n",
       "      <td>4</td>\n",
       "      <td>Downtown West</td>\n",
       "      <td>7141</td>\n",
       "      <td>0.561</td>\n",
       "      <td>0.211</td>\n",
       "      <td>0.203</td>\n",
       "      <td>67086</td>\n",
       "      <td>0.057</td>\n",
       "      <td>0.551</td>\n",
       "    </tr>\n",
       "    <tr>\n",
       "      <th>3</th>\n",
       "      <td>5</td>\n",
       "      <td>Downtown East</td>\n",
       "      <td>1674</td>\n",
       "      <td>0.543</td>\n",
       "      <td>0.221</td>\n",
       "      <td>0.221</td>\n",
       "      <td>70669</td>\n",
       "      <td>0.071</td>\n",
       "      <td>0.577</td>\n",
       "    </tr>\n",
       "    <tr>\n",
       "      <th>4</th>\n",
       "      <td>6</td>\n",
       "      <td>Shingle Creek</td>\n",
       "      <td>3249</td>\n",
       "      <td>0.407</td>\n",
       "      <td>0.259</td>\n",
       "      <td>0.140</td>\n",
       "      <td>59414</td>\n",
       "      <td>0.110</td>\n",
       "      <td>0.247</td>\n",
       "    </tr>\n",
       "  </tbody>\n",
       "</table>\n",
       "</div>"
      ],
      "text/plain": [
       "   Unnamed: 0     neighborhood  population  white  black  foreignBorn  \\\n",
       "0           1  Cedar Riverside        8247  0.353  0.464        0.408   \n",
       "1           3    Phillips West        5184  0.199  0.538        0.318   \n",
       "2           4    Downtown West        7141  0.561  0.211        0.203   \n",
       "3           5    Downtown East        1674  0.543  0.221        0.221   \n",
       "4           6    Shingle Creek        3249  0.407  0.259        0.140   \n",
       "\n",
       "   hhIncome  poverty  collegeGrad  \n",
       "0     18892    0.060        0.258  \n",
       "1     18404    0.042        0.211  \n",
       "2     67086    0.057        0.551  \n",
       "3     70669    0.071        0.577  \n",
       "4     59414    0.110        0.247  "
      ]
     },
     "execution_count": 93,
     "metadata": {},
     "output_type": "execute_result"
    }
   ],
   "source": [
    "demo = pd.read_csv(urldemo)\n",
    "demo.head()"
   ]
  },
  {
   "cell_type": "code",
   "execution_count": 94,
   "metadata": {},
   "outputs": [
    {
     "name": "stdout",
     "output_type": "stream",
     "text": [
      "(51920, 23)\n"
     ]
    },
    {
     "data": {
      "text/html": [
       "<div>\n",
       "<style scoped>\n",
       "    .dataframe tbody tr th:only-of-type {\n",
       "        vertical-align: middle;\n",
       "    }\n",
       "\n",
       "    .dataframe tbody tr th {\n",
       "        vertical-align: top;\n",
       "    }\n",
       "\n",
       "    .dataframe thead th {\n",
       "        text-align: right;\n",
       "    }\n",
       "</style>\n",
       "<table border=\"1\" class=\"dataframe\">\n",
       "  <thead>\n",
       "    <tr style=\"text-align: right;\">\n",
       "      <th></th>\n",
       "      <th>Unnamed: 0_x</th>\n",
       "      <th>idNum</th>\n",
       "      <th>date</th>\n",
       "      <th>problem</th>\n",
       "      <th>MDC</th>\n",
       "      <th>citationIssued</th>\n",
       "      <th>personSearch</th>\n",
       "      <th>vehicleSearch</th>\n",
       "      <th>preRace</th>\n",
       "      <th>race</th>\n",
       "      <th>...</th>\n",
       "      <th>policePrecinct</th>\n",
       "      <th>neighborhood</th>\n",
       "      <th>Unnamed: 0_y</th>\n",
       "      <th>population</th>\n",
       "      <th>white</th>\n",
       "      <th>black</th>\n",
       "      <th>foreignBorn</th>\n",
       "      <th>hhIncome</th>\n",
       "      <th>poverty</th>\n",
       "      <th>collegeGrad</th>\n",
       "    </tr>\n",
       "  </thead>\n",
       "  <tbody>\n",
       "    <tr>\n",
       "      <th>0</th>\n",
       "      <td>6823</td>\n",
       "      <td>17-000003</td>\n",
       "      <td>2017-01-01 00:00:42</td>\n",
       "      <td>suspicious</td>\n",
       "      <td>MDC</td>\n",
       "      <td>NaN</td>\n",
       "      <td>NO</td>\n",
       "      <td>NO</td>\n",
       "      <td>Unknown</td>\n",
       "      <td>Unknown</td>\n",
       "      <td>...</td>\n",
       "      <td>1</td>\n",
       "      <td>Cedar Riverside</td>\n",
       "      <td>1.0</td>\n",
       "      <td>8247.0</td>\n",
       "      <td>0.353</td>\n",
       "      <td>0.464</td>\n",
       "      <td>0.408</td>\n",
       "      <td>18892.0</td>\n",
       "      <td>0.06</td>\n",
       "      <td>0.258</td>\n",
       "    </tr>\n",
       "    <tr>\n",
       "      <th>1</th>\n",
       "      <td>6834</td>\n",
       "      <td>17-000161</td>\n",
       "      <td>2017-01-01 01:15:01</td>\n",
       "      <td>traffic</td>\n",
       "      <td>other</td>\n",
       "      <td>NaN</td>\n",
       "      <td>NaN</td>\n",
       "      <td>NaN</td>\n",
       "      <td>NaN</td>\n",
       "      <td>NaN</td>\n",
       "      <td>...</td>\n",
       "      <td>1</td>\n",
       "      <td>Cedar Riverside</td>\n",
       "      <td>1.0</td>\n",
       "      <td>8247.0</td>\n",
       "      <td>0.353</td>\n",
       "      <td>0.464</td>\n",
       "      <td>0.408</td>\n",
       "      <td>18892.0</td>\n",
       "      <td>0.06</td>\n",
       "      <td>0.258</td>\n",
       "    </tr>\n",
       "    <tr>\n",
       "      <th>2</th>\n",
       "      <td>6909</td>\n",
       "      <td>17-001251</td>\n",
       "      <td>2017-01-01 23:45:15</td>\n",
       "      <td>traffic</td>\n",
       "      <td>other</td>\n",
       "      <td>NaN</td>\n",
       "      <td>NaN</td>\n",
       "      <td>NaN</td>\n",
       "      <td>NaN</td>\n",
       "      <td>NaN</td>\n",
       "      <td>...</td>\n",
       "      <td>1</td>\n",
       "      <td>Cedar Riverside</td>\n",
       "      <td>1.0</td>\n",
       "      <td>8247.0</td>\n",
       "      <td>0.353</td>\n",
       "      <td>0.464</td>\n",
       "      <td>0.408</td>\n",
       "      <td>18892.0</td>\n",
       "      <td>0.06</td>\n",
       "      <td>0.258</td>\n",
       "    </tr>\n",
       "    <tr>\n",
       "      <th>3</th>\n",
       "      <td>6992</td>\n",
       "      <td>17-002190</td>\n",
       "      <td>2017-01-02 21:46:12</td>\n",
       "      <td>suspicious</td>\n",
       "      <td>MDC</td>\n",
       "      <td>NaN</td>\n",
       "      <td>NO</td>\n",
       "      <td>NO</td>\n",
       "      <td>White</td>\n",
       "      <td>White</td>\n",
       "      <td>...</td>\n",
       "      <td>1</td>\n",
       "      <td>Cedar Riverside</td>\n",
       "      <td>1.0</td>\n",
       "      <td>8247.0</td>\n",
       "      <td>0.353</td>\n",
       "      <td>0.464</td>\n",
       "      <td>0.408</td>\n",
       "      <td>18892.0</td>\n",
       "      <td>0.06</td>\n",
       "      <td>0.258</td>\n",
       "    </tr>\n",
       "    <tr>\n",
       "      <th>4</th>\n",
       "      <td>7134</td>\n",
       "      <td>17-003851</td>\n",
       "      <td>2017-01-04 09:06:24</td>\n",
       "      <td>traffic</td>\n",
       "      <td>other</td>\n",
       "      <td>NaN</td>\n",
       "      <td>NaN</td>\n",
       "      <td>NaN</td>\n",
       "      <td>NaN</td>\n",
       "      <td>NaN</td>\n",
       "      <td>...</td>\n",
       "      <td>1</td>\n",
       "      <td>Cedar Riverside</td>\n",
       "      <td>1.0</td>\n",
       "      <td>8247.0</td>\n",
       "      <td>0.353</td>\n",
       "      <td>0.464</td>\n",
       "      <td>0.408</td>\n",
       "      <td>18892.0</td>\n",
       "      <td>0.06</td>\n",
       "      <td>0.258</td>\n",
       "    </tr>\n",
       "  </tbody>\n",
       "</table>\n",
       "<p>5 rows × 23 columns</p>\n",
       "</div>"
      ],
      "text/plain": [
       "   Unnamed: 0_x      idNum                 date     problem    MDC  \\\n",
       "0          6823  17-000003  2017-01-01 00:00:42  suspicious    MDC   \n",
       "1          6834  17-000161  2017-01-01 01:15:01     traffic  other   \n",
       "2          6909  17-001251  2017-01-01 23:45:15     traffic  other   \n",
       "3          6992  17-002190  2017-01-02 21:46:12  suspicious    MDC   \n",
       "4          7134  17-003851  2017-01-04 09:06:24     traffic  other   \n",
       "\n",
       "  citationIssued personSearch vehicleSearch  preRace     race  ...  \\\n",
       "0            NaN           NO            NO  Unknown  Unknown  ...   \n",
       "1            NaN          NaN           NaN      NaN      NaN  ...   \n",
       "2            NaN          NaN           NaN      NaN      NaN  ...   \n",
       "3            NaN           NO            NO    White    White  ...   \n",
       "4            NaN          NaN           NaN      NaN      NaN  ...   \n",
       "\n",
       "  policePrecinct     neighborhood  Unnamed: 0_y  population  white  black  \\\n",
       "0              1  Cedar Riverside           1.0      8247.0  0.353  0.464   \n",
       "1              1  Cedar Riverside           1.0      8247.0  0.353  0.464   \n",
       "2              1  Cedar Riverside           1.0      8247.0  0.353  0.464   \n",
       "3              1  Cedar Riverside           1.0      8247.0  0.353  0.464   \n",
       "4              1  Cedar Riverside           1.0      8247.0  0.353  0.464   \n",
       "\n",
       "   foreignBorn  hhIncome  poverty  collegeGrad  \n",
       "0        0.408   18892.0     0.06        0.258  \n",
       "1        0.408   18892.0     0.06        0.258  \n",
       "2        0.408   18892.0     0.06        0.258  \n",
       "3        0.408   18892.0     0.06        0.258  \n",
       "4        0.408   18892.0     0.06        0.258  \n",
       "\n",
       "[5 rows x 23 columns]"
      ]
     },
     "execution_count": 94,
     "metadata": {},
     "output_type": "execute_result"
    }
   ],
   "source": [
    "minn = pd.merge(stops, demo, how='outer', on='neighborhood')\n",
    "\n",
    "print(minn.shape)\n",
    "minn.head()"
   ]
  },
  {
   "cell_type": "markdown",
   "metadata": {},
   "source": [
    "[ ] Choose your target. Which column in your tabular dataset will you predict?\n",
    "\n",
    "'outcome', a newly engineered column will be our target. First we will clean three other columns in order to combine them:"
   ]
  },
  {
   "cell_type": "code",
   "execution_count": 95,
   "metadata": {},
   "outputs": [
    {
     "data": {
      "text/plain": [
       "NO     15899\n",
       "YES     3211\n",
       "Name: citationIssued, dtype: int64"
      ]
     },
     "execution_count": 95,
     "metadata": {},
     "output_type": "execute_result"
    }
   ],
   "source": [
    "minn['citationIssued'].value_counts()"
   ]
  },
  {
   "cell_type": "code",
   "execution_count": 96,
   "metadata": {},
   "outputs": [
    {
     "data": {
      "text/plain": [
       "NO     38462\n",
       "YES     5237\n",
       "Name: personSearch, dtype: int64"
      ]
     },
     "execution_count": 96,
     "metadata": {},
     "output_type": "execute_result"
    }
   ],
   "source": [
    "minn['personSearch'].value_counts()"
   ]
  },
  {
   "cell_type": "code",
   "execution_count": 97,
   "metadata": {},
   "outputs": [
    {
     "data": {
      "text/plain": [
       "NO     40579\n",
       "YES     3120\n",
       "Name: vehicleSearch, dtype: int64"
      ]
     },
     "execution_count": 97,
     "metadata": {},
     "output_type": "execute_result"
    }
   ],
   "source": [
    "minn['vehicleSearch'].value_counts()"
   ]
  },
  {
   "cell_type": "code",
   "execution_count": 98,
   "metadata": {},
   "outputs": [],
   "source": [
    "minn[['citationIssued', 'personSearch', 'vehicleSearch']] = minn[['citationIssued', 'personSearch', 'vehicleSearch']].fillna('Unknown')\n"
   ]
  },
  {
   "cell_type": "code",
   "execution_count": 99,
   "metadata": {},
   "outputs": [
    {
     "data": {
      "text/html": [
       "<div>\n",
       "<style scoped>\n",
       "    .dataframe tbody tr th:only-of-type {\n",
       "        vertical-align: middle;\n",
       "    }\n",
       "\n",
       "    .dataframe tbody tr th {\n",
       "        vertical-align: top;\n",
       "    }\n",
       "\n",
       "    .dataframe thead th {\n",
       "        text-align: right;\n",
       "    }\n",
       "</style>\n",
       "<table border=\"1\" class=\"dataframe\">\n",
       "  <thead>\n",
       "    <tr style=\"text-align: right;\">\n",
       "      <th></th>\n",
       "      <th>Unnamed: 0_x</th>\n",
       "      <th>idNum</th>\n",
       "      <th>date</th>\n",
       "      <th>problem</th>\n",
       "      <th>MDC</th>\n",
       "      <th>citationIssued</th>\n",
       "      <th>personSearch</th>\n",
       "      <th>vehicleSearch</th>\n",
       "      <th>preRace</th>\n",
       "      <th>race</th>\n",
       "      <th>...</th>\n",
       "      <th>policePrecinct</th>\n",
       "      <th>neighborhood</th>\n",
       "      <th>Unnamed: 0_y</th>\n",
       "      <th>population</th>\n",
       "      <th>white</th>\n",
       "      <th>black</th>\n",
       "      <th>foreignBorn</th>\n",
       "      <th>hhIncome</th>\n",
       "      <th>poverty</th>\n",
       "      <th>collegeGrad</th>\n",
       "    </tr>\n",
       "  </thead>\n",
       "  <tbody>\n",
       "    <tr>\n",
       "      <th>0</th>\n",
       "      <td>6823</td>\n",
       "      <td>17-000003</td>\n",
       "      <td>2017-01-01 00:00:42</td>\n",
       "      <td>suspicious</td>\n",
       "      <td>MDC</td>\n",
       "      <td>Unknown</td>\n",
       "      <td>NO</td>\n",
       "      <td>NO</td>\n",
       "      <td>Unknown</td>\n",
       "      <td>Unknown</td>\n",
       "      <td>...</td>\n",
       "      <td>1</td>\n",
       "      <td>Cedar Riverside</td>\n",
       "      <td>1.0</td>\n",
       "      <td>8247.0</td>\n",
       "      <td>0.353</td>\n",
       "      <td>0.464</td>\n",
       "      <td>0.408</td>\n",
       "      <td>18892.0</td>\n",
       "      <td>0.06</td>\n",
       "      <td>0.258</td>\n",
       "    </tr>\n",
       "    <tr>\n",
       "      <th>1</th>\n",
       "      <td>6834</td>\n",
       "      <td>17-000161</td>\n",
       "      <td>2017-01-01 01:15:01</td>\n",
       "      <td>traffic</td>\n",
       "      <td>other</td>\n",
       "      <td>Unknown</td>\n",
       "      <td>Unknown</td>\n",
       "      <td>Unknown</td>\n",
       "      <td>NaN</td>\n",
       "      <td>NaN</td>\n",
       "      <td>...</td>\n",
       "      <td>1</td>\n",
       "      <td>Cedar Riverside</td>\n",
       "      <td>1.0</td>\n",
       "      <td>8247.0</td>\n",
       "      <td>0.353</td>\n",
       "      <td>0.464</td>\n",
       "      <td>0.408</td>\n",
       "      <td>18892.0</td>\n",
       "      <td>0.06</td>\n",
       "      <td>0.258</td>\n",
       "    </tr>\n",
       "    <tr>\n",
       "      <th>2</th>\n",
       "      <td>6909</td>\n",
       "      <td>17-001251</td>\n",
       "      <td>2017-01-01 23:45:15</td>\n",
       "      <td>traffic</td>\n",
       "      <td>other</td>\n",
       "      <td>Unknown</td>\n",
       "      <td>Unknown</td>\n",
       "      <td>Unknown</td>\n",
       "      <td>NaN</td>\n",
       "      <td>NaN</td>\n",
       "      <td>...</td>\n",
       "      <td>1</td>\n",
       "      <td>Cedar Riverside</td>\n",
       "      <td>1.0</td>\n",
       "      <td>8247.0</td>\n",
       "      <td>0.353</td>\n",
       "      <td>0.464</td>\n",
       "      <td>0.408</td>\n",
       "      <td>18892.0</td>\n",
       "      <td>0.06</td>\n",
       "      <td>0.258</td>\n",
       "    </tr>\n",
       "    <tr>\n",
       "      <th>3</th>\n",
       "      <td>6992</td>\n",
       "      <td>17-002190</td>\n",
       "      <td>2017-01-02 21:46:12</td>\n",
       "      <td>suspicious</td>\n",
       "      <td>MDC</td>\n",
       "      <td>Unknown</td>\n",
       "      <td>NO</td>\n",
       "      <td>NO</td>\n",
       "      <td>White</td>\n",
       "      <td>White</td>\n",
       "      <td>...</td>\n",
       "      <td>1</td>\n",
       "      <td>Cedar Riverside</td>\n",
       "      <td>1.0</td>\n",
       "      <td>8247.0</td>\n",
       "      <td>0.353</td>\n",
       "      <td>0.464</td>\n",
       "      <td>0.408</td>\n",
       "      <td>18892.0</td>\n",
       "      <td>0.06</td>\n",
       "      <td>0.258</td>\n",
       "    </tr>\n",
       "    <tr>\n",
       "      <th>4</th>\n",
       "      <td>7134</td>\n",
       "      <td>17-003851</td>\n",
       "      <td>2017-01-04 09:06:24</td>\n",
       "      <td>traffic</td>\n",
       "      <td>other</td>\n",
       "      <td>Unknown</td>\n",
       "      <td>Unknown</td>\n",
       "      <td>Unknown</td>\n",
       "      <td>NaN</td>\n",
       "      <td>NaN</td>\n",
       "      <td>...</td>\n",
       "      <td>1</td>\n",
       "      <td>Cedar Riverside</td>\n",
       "      <td>1.0</td>\n",
       "      <td>8247.0</td>\n",
       "      <td>0.353</td>\n",
       "      <td>0.464</td>\n",
       "      <td>0.408</td>\n",
       "      <td>18892.0</td>\n",
       "      <td>0.06</td>\n",
       "      <td>0.258</td>\n",
       "    </tr>\n",
       "  </tbody>\n",
       "</table>\n",
       "<p>5 rows × 23 columns</p>\n",
       "</div>"
      ],
      "text/plain": [
       "   Unnamed: 0_x      idNum                 date     problem    MDC  \\\n",
       "0          6823  17-000003  2017-01-01 00:00:42  suspicious    MDC   \n",
       "1          6834  17-000161  2017-01-01 01:15:01     traffic  other   \n",
       "2          6909  17-001251  2017-01-01 23:45:15     traffic  other   \n",
       "3          6992  17-002190  2017-01-02 21:46:12  suspicious    MDC   \n",
       "4          7134  17-003851  2017-01-04 09:06:24     traffic  other   \n",
       "\n",
       "  citationIssued personSearch vehicleSearch  preRace     race  ...  \\\n",
       "0        Unknown           NO            NO  Unknown  Unknown  ...   \n",
       "1        Unknown      Unknown       Unknown      NaN      NaN  ...   \n",
       "2        Unknown      Unknown       Unknown      NaN      NaN  ...   \n",
       "3        Unknown           NO            NO    White    White  ...   \n",
       "4        Unknown      Unknown       Unknown      NaN      NaN  ...   \n",
       "\n",
       "  policePrecinct     neighborhood  Unnamed: 0_y  population  white  black  \\\n",
       "0              1  Cedar Riverside           1.0      8247.0  0.353  0.464   \n",
       "1              1  Cedar Riverside           1.0      8247.0  0.353  0.464   \n",
       "2              1  Cedar Riverside           1.0      8247.0  0.353  0.464   \n",
       "3              1  Cedar Riverside           1.0      8247.0  0.353  0.464   \n",
       "4              1  Cedar Riverside           1.0      8247.0  0.353  0.464   \n",
       "\n",
       "   foreignBorn  hhIncome  poverty  collegeGrad  \n",
       "0        0.408   18892.0     0.06        0.258  \n",
       "1        0.408   18892.0     0.06        0.258  \n",
       "2        0.408   18892.0     0.06        0.258  \n",
       "3        0.408   18892.0     0.06        0.258  \n",
       "4        0.408   18892.0     0.06        0.258  \n",
       "\n",
       "[5 rows x 23 columns]"
      ]
     },
     "execution_count": 99,
     "metadata": {},
     "output_type": "execute_result"
    }
   ],
   "source": [
    "minn.head()"
   ]
  },
  {
   "cell_type": "code",
   "execution_count": 100,
   "metadata": {},
   "outputs": [
    {
     "data": {
      "text/plain": [
       "UnknownNONO              21406\n",
       "NONONO                   13805\n",
       "UnknownUnknownUnknown     8221\n",
       "YESNONO                   2662\n",
       "UnknownYESYES             1452\n",
       "UnknownYESNO              1422\n",
       "NOYESNO                   1076\n",
       "NOYESYES                   828\n",
       "UnknownNOYES               309\n",
       "YESYESYES                  251\n",
       "YESYESNO                   208\n",
       "NONOYES                    190\n",
       "YESNOYES                    90\n",
       "Name: outcome, dtype: int64"
      ]
     },
     "execution_count": 100,
     "metadata": {},
     "output_type": "execute_result"
    }
   ],
   "source": [
    "end = minn['citationIssued'] + minn['personSearch'] + minn['vehicleSearch']\n",
    "minn['outcome'] = end\n",
    "\n",
    "minn['outcome'].value_counts()"
   ]
  },
  {
   "cell_type": "markdown",
   "metadata": {},
   "source": [
    "[ ] Is your problem regression or classification?\n",
    "\n",
    "Classification. Now we will define and refine our classes:"
   ]
  },
  {
   "cell_type": "code",
   "execution_count": 101,
   "metadata": {},
   "outputs": [
    {
     "data": {
      "text/plain": [
       "none                 35211\n",
       "unknown               8221\n",
       "search                5277\n",
       "citation              2662\n",
       "search + citation      549\n",
       "Name: outcome, dtype: int64"
      ]
     },
     "execution_count": 101,
     "metadata": {},
     "output_type": "execute_result"
    }
   ],
   "source": [
    "minn.outcome = minn.outcome.replace({\"UnknownNONO\": \"none\",\n",
    "                                     \"NONONO\": \"none\",\n",
    "                                     \"UnknownUnknownUnknown\": \"unknown\",\n",
    "                                     \"YESNONO\": \"citation\",\n",
    "                                     \"UnknownYESYES\": \"search\",\n",
    "                                     \"UnknownYESNO\": \"search\",\n",
    "                                     \"NOYESNO\": \"search\",\n",
    "                                     \"NOYESYES\": \"search\",\n",
    "                                     \"UnknownNOYES\": \"search\",\n",
    "                                     \"YESYESYES\": \"search + citation\",\n",
    "                                     \"YESYESNO\": \"search + citation\",\n",
    "                                     \"NONOYES\": \"search\",\n",
    "                                     \"YESNOYES\": \"search + citation\"}\n",
    "                                   ) \n",
    "\n",
    "minn['outcome'].value_counts()"
   ]
  },
  {
   "cell_type": "code",
   "execution_count": 102,
   "metadata": {},
   "outputs": [
    {
     "data": {
      "text/plain": [
       "51920"
      ]
     },
     "execution_count": 102,
     "metadata": {},
     "output_type": "execute_result"
    }
   ],
   "source": [
    "none = 35211\n",
    "unknown = 8221\n",
    "search = 5277\n",
    "citation = 2662\n",
    "both = 549\n",
    "total = none + unknown + search + citation + both\n",
    "total"
   ]
  },
  {
   "cell_type": "code",
   "execution_count": 103,
   "metadata": {},
   "outputs": [
    {
     "data": {
      "text/plain": [
       "0.6781779661016949"
      ]
     },
     "execution_count": 103,
     "metadata": {},
     "output_type": "execute_result"
    }
   ],
   "source": [
    "none / total"
   ]
  },
  {
   "cell_type": "code",
   "execution_count": 104,
   "metadata": {},
   "outputs": [
    {
     "data": {
      "text/plain": [
       "0.010573959938366718"
      ]
     },
     "execution_count": 104,
     "metadata": {},
     "output_type": "execute_result"
    }
   ],
   "source": [
    "both / total"
   ]
  },
  {
   "cell_type": "markdown",
   "metadata": {},
   "source": [
    "[ ] How is your target distributed?\n",
    "Classification: How many classes? Are the classes imbalanced?\n",
    "Regression: Is the target right-skewed? If so, you may want to log transform the target.\n",
    "\n",
    "'outcome' has 5 discrete classes: \n",
    "none, unknown, search, citation, search + citation.\n",
    "\n",
    "'none' occurs 68% of the time. 'search + citation' occurs 1% of the time."
   ]
  },
  {
   "cell_type": "code",
   "execution_count": 105,
   "metadata": {},
   "outputs": [
    {
     "data": {
      "text/plain": [
       "Black              15220\n",
       "White              11703\n",
       "Unknown             9219\n",
       "East African        2188\n",
       "Latino              1858\n",
       "Native American     1516\n",
       "Other               1348\n",
       "Asian                647\n",
       "Name: race, dtype: int64"
      ]
     },
     "execution_count": 105,
     "metadata": {},
     "output_type": "execute_result"
    }
   ],
   "source": [
    "minn['race'].value_counts()"
   ]
  },
  {
   "cell_type": "code",
   "execution_count": 106,
   "metadata": {},
   "outputs": [
    {
     "data": {
      "text/plain": [
       "traffic       26098\n",
       "suspicious    25822\n",
       "Name: problem, dtype: int64"
      ]
     },
     "execution_count": 106,
     "metadata": {},
     "output_type": "execute_result"
    }
   ],
   "source": [
    "minn['problem'].value_counts()"
   ]
  },
  {
   "cell_type": "markdown",
   "metadata": {},
   "source": [
    "[ ] Choose which observations you will use to train, validate, and test your model.\n",
    "Are some observations outliers? Will you exclude them?\n",
    "Will you do a random split or a time-based split?\n",
    "\n",
    "There are no 'outliers' in this case with the possible exception of 'unknown' values where presumably the data was not recorded by police officers. We will not exclude them because we want our app to handle incomplete input information.\n",
    "I will use a random split for train, test, validation."
   ]
  },
  {
   "cell_type": "markdown",
   "metadata": {},
   "source": [
    "[ ] Choose your evaluation metric(s).\n",
    "Classification: Is your majority class frequency > 50% and < 70% ? If so, you can just use accuracy if you want. Outside that range, accuracy could be misleading. What evaluation metric will you choose, in addition to or instead of accuracy?"
   ]
  },
  {
   "cell_type": "markdown",
   "metadata": {},
   "source": [
    "I can use accuracy but I'll also want to explore precision and recall for certain classes. For example, predicting a particular outcome for a particular demographic etc could be \"false alarm\" or \"failure to warn\". Must decide which is worse..."
   ]
  },
  {
   "cell_type": "code",
   "execution_count": 107,
   "metadata": {},
   "outputs": [
    {
     "name": "stdout",
     "output_type": "stream",
     "text": [
      "(51920, 24)\n"
     ]
    },
    {
     "data": {
      "text/html": [
       "<div>\n",
       "<style scoped>\n",
       "    .dataframe tbody tr th:only-of-type {\n",
       "        vertical-align: middle;\n",
       "    }\n",
       "\n",
       "    .dataframe tbody tr th {\n",
       "        vertical-align: top;\n",
       "    }\n",
       "\n",
       "    .dataframe thead th {\n",
       "        text-align: right;\n",
       "    }\n",
       "</style>\n",
       "<table border=\"1\" class=\"dataframe\">\n",
       "  <thead>\n",
       "    <tr style=\"text-align: right;\">\n",
       "      <th></th>\n",
       "      <th>Unnamed: 0_x</th>\n",
       "      <th>idNum</th>\n",
       "      <th>date</th>\n",
       "      <th>problem</th>\n",
       "      <th>MDC</th>\n",
       "      <th>citationIssued</th>\n",
       "      <th>personSearch</th>\n",
       "      <th>vehicleSearch</th>\n",
       "      <th>preRace</th>\n",
       "      <th>race</th>\n",
       "      <th>...</th>\n",
       "      <th>neighborhood</th>\n",
       "      <th>Unnamed: 0_y</th>\n",
       "      <th>population</th>\n",
       "      <th>white</th>\n",
       "      <th>black</th>\n",
       "      <th>foreignBorn</th>\n",
       "      <th>hhIncome</th>\n",
       "      <th>poverty</th>\n",
       "      <th>collegeGrad</th>\n",
       "      <th>outcome</th>\n",
       "    </tr>\n",
       "  </thead>\n",
       "  <tbody>\n",
       "    <tr>\n",
       "      <th>0</th>\n",
       "      <td>6823</td>\n",
       "      <td>17-000003</td>\n",
       "      <td>2017-01-01 00:00:42</td>\n",
       "      <td>suspicious</td>\n",
       "      <td>MDC</td>\n",
       "      <td>Unknown</td>\n",
       "      <td>NO</td>\n",
       "      <td>NO</td>\n",
       "      <td>Unknown</td>\n",
       "      <td>Unknown</td>\n",
       "      <td>...</td>\n",
       "      <td>Cedar Riverside</td>\n",
       "      <td>1.0</td>\n",
       "      <td>8247.0</td>\n",
       "      <td>0.353</td>\n",
       "      <td>0.464</td>\n",
       "      <td>0.408</td>\n",
       "      <td>18892.0</td>\n",
       "      <td>0.06</td>\n",
       "      <td>0.258</td>\n",
       "      <td>none</td>\n",
       "    </tr>\n",
       "    <tr>\n",
       "      <th>1</th>\n",
       "      <td>6834</td>\n",
       "      <td>17-000161</td>\n",
       "      <td>2017-01-01 01:15:01</td>\n",
       "      <td>traffic</td>\n",
       "      <td>other</td>\n",
       "      <td>Unknown</td>\n",
       "      <td>Unknown</td>\n",
       "      <td>Unknown</td>\n",
       "      <td>NaN</td>\n",
       "      <td>NaN</td>\n",
       "      <td>...</td>\n",
       "      <td>Cedar Riverside</td>\n",
       "      <td>1.0</td>\n",
       "      <td>8247.0</td>\n",
       "      <td>0.353</td>\n",
       "      <td>0.464</td>\n",
       "      <td>0.408</td>\n",
       "      <td>18892.0</td>\n",
       "      <td>0.06</td>\n",
       "      <td>0.258</td>\n",
       "      <td>unknown</td>\n",
       "    </tr>\n",
       "    <tr>\n",
       "      <th>2</th>\n",
       "      <td>6909</td>\n",
       "      <td>17-001251</td>\n",
       "      <td>2017-01-01 23:45:15</td>\n",
       "      <td>traffic</td>\n",
       "      <td>other</td>\n",
       "      <td>Unknown</td>\n",
       "      <td>Unknown</td>\n",
       "      <td>Unknown</td>\n",
       "      <td>NaN</td>\n",
       "      <td>NaN</td>\n",
       "      <td>...</td>\n",
       "      <td>Cedar Riverside</td>\n",
       "      <td>1.0</td>\n",
       "      <td>8247.0</td>\n",
       "      <td>0.353</td>\n",
       "      <td>0.464</td>\n",
       "      <td>0.408</td>\n",
       "      <td>18892.0</td>\n",
       "      <td>0.06</td>\n",
       "      <td>0.258</td>\n",
       "      <td>unknown</td>\n",
       "    </tr>\n",
       "    <tr>\n",
       "      <th>3</th>\n",
       "      <td>6992</td>\n",
       "      <td>17-002190</td>\n",
       "      <td>2017-01-02 21:46:12</td>\n",
       "      <td>suspicious</td>\n",
       "      <td>MDC</td>\n",
       "      <td>Unknown</td>\n",
       "      <td>NO</td>\n",
       "      <td>NO</td>\n",
       "      <td>White</td>\n",
       "      <td>White</td>\n",
       "      <td>...</td>\n",
       "      <td>Cedar Riverside</td>\n",
       "      <td>1.0</td>\n",
       "      <td>8247.0</td>\n",
       "      <td>0.353</td>\n",
       "      <td>0.464</td>\n",
       "      <td>0.408</td>\n",
       "      <td>18892.0</td>\n",
       "      <td>0.06</td>\n",
       "      <td>0.258</td>\n",
       "      <td>none</td>\n",
       "    </tr>\n",
       "    <tr>\n",
       "      <th>4</th>\n",
       "      <td>7134</td>\n",
       "      <td>17-003851</td>\n",
       "      <td>2017-01-04 09:06:24</td>\n",
       "      <td>traffic</td>\n",
       "      <td>other</td>\n",
       "      <td>Unknown</td>\n",
       "      <td>Unknown</td>\n",
       "      <td>Unknown</td>\n",
       "      <td>NaN</td>\n",
       "      <td>NaN</td>\n",
       "      <td>...</td>\n",
       "      <td>Cedar Riverside</td>\n",
       "      <td>1.0</td>\n",
       "      <td>8247.0</td>\n",
       "      <td>0.353</td>\n",
       "      <td>0.464</td>\n",
       "      <td>0.408</td>\n",
       "      <td>18892.0</td>\n",
       "      <td>0.06</td>\n",
       "      <td>0.258</td>\n",
       "      <td>unknown</td>\n",
       "    </tr>\n",
       "  </tbody>\n",
       "</table>\n",
       "<p>5 rows × 24 columns</p>\n",
       "</div>"
      ],
      "text/plain": [
       "   Unnamed: 0_x      idNum                 date     problem    MDC  \\\n",
       "0          6823  17-000003  2017-01-01 00:00:42  suspicious    MDC   \n",
       "1          6834  17-000161  2017-01-01 01:15:01     traffic  other   \n",
       "2          6909  17-001251  2017-01-01 23:45:15     traffic  other   \n",
       "3          6992  17-002190  2017-01-02 21:46:12  suspicious    MDC   \n",
       "4          7134  17-003851  2017-01-04 09:06:24     traffic  other   \n",
       "\n",
       "  citationIssued personSearch vehicleSearch  preRace     race  ...  \\\n",
       "0        Unknown           NO            NO  Unknown  Unknown  ...   \n",
       "1        Unknown      Unknown       Unknown      NaN      NaN  ...   \n",
       "2        Unknown      Unknown       Unknown      NaN      NaN  ...   \n",
       "3        Unknown           NO            NO    White    White  ...   \n",
       "4        Unknown      Unknown       Unknown      NaN      NaN  ...   \n",
       "\n",
       "      neighborhood  Unnamed: 0_y  population  white  black  foreignBorn  \\\n",
       "0  Cedar Riverside           1.0      8247.0  0.353  0.464        0.408   \n",
       "1  Cedar Riverside           1.0      8247.0  0.353  0.464        0.408   \n",
       "2  Cedar Riverside           1.0      8247.0  0.353  0.464        0.408   \n",
       "3  Cedar Riverside           1.0      8247.0  0.353  0.464        0.408   \n",
       "4  Cedar Riverside           1.0      8247.0  0.353  0.464        0.408   \n",
       "\n",
       "   hhIncome  poverty  collegeGrad  outcome  \n",
       "0   18892.0     0.06        0.258     none  \n",
       "1   18892.0     0.06        0.258  unknown  \n",
       "2   18892.0     0.06        0.258  unknown  \n",
       "3   18892.0     0.06        0.258     none  \n",
       "4   18892.0     0.06        0.258  unknown  \n",
       "\n",
       "[5 rows x 24 columns]"
      ]
     },
     "execution_count": 107,
     "metadata": {},
     "output_type": "execute_result"
    }
   ],
   "source": [
    "print(minn.shape)\n",
    "minn.head()"
   ]
  },
  {
   "cell_type": "markdown",
   "metadata": {},
   "source": [
    "[ ] Begin to clean and explore your data."
   ]
  },
  {
   "cell_type": "code",
   "execution_count": 118,
   "metadata": {},
   "outputs": [
    {
     "data": {
      "text/plain": [
       "False    43699\n",
       "True      8221\n",
       "Name: preRace, dtype: int64"
      ]
     },
     "execution_count": 118,
     "metadata": {},
     "output_type": "execute_result"
    }
   ],
   "source": [
    "minn['preRace'].isnull().value_counts()"
   ]
  },
  {
   "cell_type": "code",
   "execution_count": 121,
   "metadata": {},
   "outputs": [
    {
     "data": {
      "text/plain": [
       "False    43699\n",
       "True      8221\n",
       "Name: race, dtype: int64"
      ]
     },
     "execution_count": 121,
     "metadata": {},
     "output_type": "execute_result"
    }
   ],
   "source": [
    "minn['race'].isnull().value_counts()"
   ]
  },
  {
   "cell_type": "code",
   "execution_count": 120,
   "metadata": {},
   "outputs": [
    {
     "data": {
      "text/plain": [
       "Black              15220\n",
       "White              11703\n",
       "Unknown             9219\n",
       "East African        2188\n",
       "Latino              1858\n",
       "Native American     1516\n",
       "Other               1348\n",
       "Asian                647\n",
       "Name: race, dtype: int64"
      ]
     },
     "execution_count": 120,
     "metadata": {},
     "output_type": "execute_result"
    }
   ],
   "source": [
    "minn['race'].value_counts()"
   ]
  },
  {
   "cell_type": "code",
   "execution_count": 109,
   "metadata": {},
   "outputs": [
    {
     "data": {
      "text/plain": [
       "Unknown            28337\n",
       "Black               6805\n",
       "White               6004\n",
       "Native American      908\n",
       "Latino               528\n",
       "Other                484\n",
       "East African         481\n",
       "Asian                152\n",
       "Name: preRace, dtype: int64"
      ]
     },
     "execution_count": 109,
     "metadata": {},
     "output_type": "execute_result"
    }
   ],
   "source": [
    "minn['preRace'].value_counts()"
   ]
  },
  {
   "cell_type": "code",
   "execution_count": 127,
   "metadata": {},
   "outputs": [
    {
     "data": {
      "text/plain": [
       "False    51920\n",
       "Name: policePrecinct, dtype: int64"
      ]
     },
     "execution_count": 127,
     "metadata": {},
     "output_type": "execute_result"
    }
   ],
   "source": [
    "minn['policePrecinct'].isnull().value_counts()"
   ]
  },
  {
   "cell_type": "markdown",
   "metadata": {},
   "source": [
    "visualizations, "
   ]
  },
  {
   "cell_type": "markdown",
   "metadata": {},
   "source": [
    "[ ] Begin to choose which features, if any, to exclude. Would some features \"leak\" future information?"
   ]
  },
  {
   "cell_type": "code",
   "execution_count": 112,
   "metadata": {},
   "outputs": [
    {
     "data": {
      "text/plain": [
       "((33228, 24), (8308, 24), (10384, 24))"
      ]
     },
     "execution_count": 112,
     "metadata": {},
     "output_type": "execute_result"
    }
   ],
   "source": [
    "import numpy as np\n",
    "from sklearn.model_selection import train_test_split\n",
    "\n",
    "train = minn.copy()\n",
    "train, test = train_test_split(train, train_size=0.80, test_size=0.20,\n",
    "                               stratify=train['outcome'], random_state=42)\n",
    "train, val = train_test_split(train, train_size=0.80, test_size=0.20,\n",
    "                             stratify=train['outcome'], random_state=42)\n",
    "\n",
    "train.shape, val.shape, test.shape"
   ]
  },
  {
   "cell_type": "code",
   "execution_count": 123,
   "metadata": {},
   "outputs": [
    {
     "data": {
      "text/plain": [
       "Index(['Unnamed: 0_x', 'idNum', 'date', 'problem', 'MDC', 'citationIssued',\n",
       "       'personSearch', 'vehicleSearch', 'preRace', 'race', 'gender', 'lat',\n",
       "       'long', 'policePrecinct', 'neighborhood', 'Unnamed: 0_y', 'population',\n",
       "       'white', 'black', 'foreignBorn', 'hhIncome', 'poverty', 'collegeGrad',\n",
       "       'outcome'],\n",
       "      dtype='object')"
      ]
     },
     "execution_count": 123,
     "metadata": {},
     "output_type": "execute_result"
    }
   ],
   "source": [
    "minn.columns"
   ]
  },
  {
   "cell_type": "code",
   "execution_count": 130,
   "metadata": {},
   "outputs": [],
   "source": [
    "def wrangle(X):\n",
    "    \n",
    "    X = X.copy()\n",
    "    \n",
    "    X[['race_MISSING']] = X[['race']].isnull()\n",
    "    X[['gender_MISSING']] = X[['gender']].isnull()\n",
    "\n",
    "    unusable_variance = ['Unnamed: 0_x', 'idNum','citationIssued',\n",
    "                         'personSearch', 'vehicleSearch', 'Unnamed: 0_y']\n",
    "    X = X.drop(columns=unusable_variance)\n",
    "    \n",
    "    return X\n",
    "\n",
    "train = wrangle(train)\n",
    "val = wrangle(val)\n",
    "test = wrangle(test)"
   ]
  },
  {
   "cell_type": "markdown",
   "metadata": {},
   "source": [
    "\n",
    "engineer:\n",
    "\n",
    "time of day, time of year from date, race of neighborhood, demographics etc...\n",
    "racialconfusion,\n",
    "\n",
    "string encode policePrecinct\n"
   ]
  },
  {
   "cell_type": "code",
   "execution_count": 133,
   "metadata": {},
   "outputs": [
    {
     "data": {
      "text/plain": [
       "(33228, 20)"
      ]
     },
     "execution_count": 133,
     "metadata": {},
     "output_type": "execute_result"
    }
   ],
   "source": [
    "train.shape"
   ]
  },
  {
   "cell_type": "code",
   "execution_count": 135,
   "metadata": {},
   "outputs": [
    {
     "data": {
      "text/html": [
       "<div>\n",
       "<style scoped>\n",
       "    .dataframe tbody tr th:only-of-type {\n",
       "        vertical-align: middle;\n",
       "    }\n",
       "\n",
       "    .dataframe tbody tr th {\n",
       "        vertical-align: top;\n",
       "    }\n",
       "\n",
       "    .dataframe thead th {\n",
       "        text-align: right;\n",
       "    }\n",
       "</style>\n",
       "<table border=\"1\" class=\"dataframe\">\n",
       "  <thead>\n",
       "    <tr style=\"text-align: right;\">\n",
       "      <th></th>\n",
       "      <th>lat</th>\n",
       "      <th>long</th>\n",
       "      <th>policePrecinct</th>\n",
       "      <th>population</th>\n",
       "      <th>white</th>\n",
       "      <th>black</th>\n",
       "      <th>foreignBorn</th>\n",
       "      <th>hhIncome</th>\n",
       "      <th>poverty</th>\n",
       "      <th>collegeGrad</th>\n",
       "    </tr>\n",
       "  </thead>\n",
       "  <tbody>\n",
       "    <tr>\n",
       "      <th>count</th>\n",
       "      <td>33228.000000</td>\n",
       "      <td>33228.000000</td>\n",
       "      <td>33228.000000</td>\n",
       "      <td>31801.000000</td>\n",
       "      <td>31801.000000</td>\n",
       "      <td>31801.000000</td>\n",
       "      <td>31801.000000</td>\n",
       "      <td>31801.000000</td>\n",
       "      <td>31801.000000</td>\n",
       "      <td>31801.000000</td>\n",
       "    </tr>\n",
       "    <tr>\n",
       "      <th>mean</th>\n",
       "      <td>44.973769</td>\n",
       "      <td>-93.272687</td>\n",
       "      <td>3.259059</td>\n",
       "      <td>6422.811264</td>\n",
       "      <td>0.531930</td>\n",
       "      <td>0.218627</td>\n",
       "      <td>0.182038</td>\n",
       "      <td>49491.380743</td>\n",
       "      <td>0.062660</td>\n",
       "      <td>0.418305</td>\n",
       "    </tr>\n",
       "    <tr>\n",
       "      <th>std</th>\n",
       "      <td>0.031091</td>\n",
       "      <td>0.023871</td>\n",
       "      <td>1.385751</td>\n",
       "      <td>3262.137120</td>\n",
       "      <td>0.226651</td>\n",
       "      <td>0.149072</td>\n",
       "      <td>0.087904</td>\n",
       "      <td>21983.027158</td>\n",
       "      <td>0.021793</td>\n",
       "      <td>0.187075</td>\n",
       "    </tr>\n",
       "    <tr>\n",
       "      <th>min</th>\n",
       "      <td>44.890460</td>\n",
       "      <td>-93.329100</td>\n",
       "      <td>1.000000</td>\n",
       "      <td>240.000000</td>\n",
       "      <td>0.087000</td>\n",
       "      <td>0.004000</td>\n",
       "      <td>0.029000</td>\n",
       "      <td>17469.000000</td>\n",
       "      <td>0.031000</td>\n",
       "      <td>0.122000</td>\n",
       "    </tr>\n",
       "    <tr>\n",
       "      <th>25%</th>\n",
       "      <td>44.949258</td>\n",
       "      <td>-93.289520</td>\n",
       "      <td>2.000000</td>\n",
       "      <td>4609.000000</td>\n",
       "      <td>0.285000</td>\n",
       "      <td>0.095000</td>\n",
       "      <td>0.121000</td>\n",
       "      <td>35855.000000</td>\n",
       "      <td>0.048000</td>\n",
       "      <td>0.236000</td>\n",
       "    </tr>\n",
       "    <tr>\n",
       "      <th>50%</th>\n",
       "      <td>44.974679</td>\n",
       "      <td>-93.276030</td>\n",
       "      <td>3.000000</td>\n",
       "      <td>5934.000000</td>\n",
       "      <td>0.561000</td>\n",
       "      <td>0.196000</td>\n",
       "      <td>0.167000</td>\n",
       "      <td>44733.000000</td>\n",
       "      <td>0.057000</td>\n",
       "      <td>0.399000</td>\n",
       "    </tr>\n",
       "    <tr>\n",
       "      <th>75%</th>\n",
       "      <td>44.999135</td>\n",
       "      <td>-93.254930</td>\n",
       "      <td>4.000000</td>\n",
       "      <td>8097.000000</td>\n",
       "      <td>0.735000</td>\n",
       "      <td>0.297000</td>\n",
       "      <td>0.215000</td>\n",
       "      <td>67086.000000</td>\n",
       "      <td>0.074000</td>\n",
       "      <td>0.568000</td>\n",
       "    </tr>\n",
       "    <tr>\n",
       "      <th>max</th>\n",
       "      <td>45.051227</td>\n",
       "      <td>-93.198869</td>\n",
       "      <td>5.000000</td>\n",
       "      <td>16022.000000</td>\n",
       "      <td>0.902000</td>\n",
       "      <td>0.656000</td>\n",
       "      <td>0.408000</td>\n",
       "      <td>118750.000000</td>\n",
       "      <td>0.135000</td>\n",
       "      <td>0.837000</td>\n",
       "    </tr>\n",
       "  </tbody>\n",
       "</table>\n",
       "</div>"
      ],
      "text/plain": [
       "                lat          long  policePrecinct    population         white  \\\n",
       "count  33228.000000  33228.000000    33228.000000  31801.000000  31801.000000   \n",
       "mean      44.973769    -93.272687        3.259059   6422.811264      0.531930   \n",
       "std        0.031091      0.023871        1.385751   3262.137120      0.226651   \n",
       "min       44.890460    -93.329100        1.000000    240.000000      0.087000   \n",
       "25%       44.949258    -93.289520        2.000000   4609.000000      0.285000   \n",
       "50%       44.974679    -93.276030        3.000000   5934.000000      0.561000   \n",
       "75%       44.999135    -93.254930        4.000000   8097.000000      0.735000   \n",
       "max       45.051227    -93.198869        5.000000  16022.000000      0.902000   \n",
       "\n",
       "              black   foreignBorn       hhIncome       poverty   collegeGrad  \n",
       "count  31801.000000  31801.000000   31801.000000  31801.000000  31801.000000  \n",
       "mean       0.218627      0.182038   49491.380743      0.062660      0.418305  \n",
       "std        0.149072      0.087904   21983.027158      0.021793      0.187075  \n",
       "min        0.004000      0.029000   17469.000000      0.031000      0.122000  \n",
       "25%        0.095000      0.121000   35855.000000      0.048000      0.236000  \n",
       "50%        0.196000      0.167000   44733.000000      0.057000      0.399000  \n",
       "75%        0.297000      0.215000   67086.000000      0.074000      0.568000  \n",
       "max        0.656000      0.408000  118750.000000      0.135000      0.837000  "
      ]
     },
     "execution_count": 135,
     "metadata": {},
     "output_type": "execute_result"
    }
   ],
   "source": [
    "train.describe()"
   ]
  },
  {
   "cell_type": "code",
   "execution_count": 136,
   "metadata": {},
   "outputs": [],
   "source": [
    "target = 'outcome'\n",
    "\n",
    "X_train = train.drop(columns=target)\n",
    "y_train = train[target]\n",
    "X_val = val.drop(columns=target)\n",
    "y_val = val[target]\n",
    "X_test = test.drop(columns=target)\n",
    "y_test = test[target]"
   ]
  },
  {
   "cell_type": "code",
   "execution_count": 137,
   "metadata": {},
   "outputs": [
    {
     "name": "stdout",
     "output_type": "stream",
     "text": [
      "Validation Accuracy 0.8084978334135773\n"
     ]
    }
   ],
   "source": [
    "import category_encoders as ce\n",
    "from sklearn.impute import SimpleImputer\n",
    "from sklearn.ensemble import RandomForestClassifier\n",
    "\n",
    "from sklearn.pipeline import make_pipeline\n",
    "\n",
    "pipeline = make_pipeline(\n",
    "    ce.OrdinalEncoder(), \n",
    "    SimpleImputer(strategy='median'), \n",
    "    RandomForestClassifier(n_estimators=100, random_state=42, n_jobs=-1)\n",
    ")\n",
    "\n",
    "pipeline.fit(X_train, y_train)\n",
    "print('Validation Accuracy', pipeline.score(X_val, y_val))"
   ]
  },
  {
   "cell_type": "markdown",
   "metadata": {},
   "source": [
    "Fit a model. Does it beat your baseline?\n",
    "\n",
    "Our baseline is 68% \n",
    "With minimal feature engineering \n",
    "and basic RandomForestClassifier model, \n",
    "we're up to 81%. A good Start!"
   ]
  },
  {
   "cell_type": "markdown",
   "metadata": {},
   "source": [
    "Unit 2, Sprint 3, Module 2\n",
    "Permutation & Boosting\n",
    "\n",
    " \n",
    "Continue to clean and explore your data. Make exploratory visualizations.\n",
    "Complete Engineering with initial ideas. \n",
    "\n",
    "Try xgboost.\n",
    "Get your model's permutation importances.\n",
    "\n"
   ]
  },
  {
   "cell_type": "code",
   "execution_count": 138,
   "metadata": {},
   "outputs": [
    {
     "data": {
      "text/plain": [
       "RandomForestClassifier(bootstrap=True, class_weight=None, criterion='gini',\n",
       "                       max_depth=None, max_features='auto', max_leaf_nodes=None,\n",
       "                       min_impurity_decrease=0.0, min_impurity_split=None,\n",
       "                       min_samples_leaf=1, min_samples_split=2,\n",
       "                       min_weight_fraction_leaf=0.0, n_estimators=100,\n",
       "                       n_jobs=-1, oob_score=False, random_state=42, verbose=0,\n",
       "                       warm_start=False)"
      ]
     },
     "execution_count": 138,
     "metadata": {},
     "output_type": "execute_result"
    }
   ],
   "source": [
    "transformers = make_pipeline(\n",
    "    ce.OrdinalEncoder(),\n",
    "    SimpleImputer(strategy='median')\n",
    ")\n",
    "\n",
    "X_train_transformed = transformers.fit_transform(X_train)\n",
    "X_val_transformed = transformers.transform(X_val)\n",
    "\n",
    "model = RandomForestClassifier(n_estimators=100, random_state=42, n_jobs=-1)\n",
    "model.fit(X_train_transformed, y_train)"
   ]
  },
  {
   "cell_type": "code",
   "execution_count": 139,
   "metadata": {},
   "outputs": [
    {
     "data": {
      "text/plain": [
       "PermutationImportance(cv='prefit',\n",
       "                      estimator=RandomForestClassifier(bootstrap=True,\n",
       "                                                       class_weight=None,\n",
       "                                                       criterion='gini',\n",
       "                                                       max_depth=None,\n",
       "                                                       max_features='auto',\n",
       "                                                       max_leaf_nodes=None,\n",
       "                                                       min_impurity_decrease=0.0,\n",
       "                                                       min_impurity_split=None,\n",
       "                                                       min_samples_leaf=1,\n",
       "                                                       min_samples_split=2,\n",
       "                                                       min_weight_fraction_leaf=0.0,\n",
       "                                                       n_estimators=100,\n",
       "                                                       n_jobs=-1,\n",
       "                                                       oob_score=False,\n",
       "                                                       random_state=42,\n",
       "                                                       verbose=0,\n",
       "                                                       warm_start=False),\n",
       "                      n_iter=5, random_state=42, refit=True,\n",
       "                      scoring='accuracy')"
      ]
     },
     "execution_count": 139,
     "metadata": {},
     "output_type": "execute_result"
    }
   ],
   "source": [
    "import eli5\n",
    "from eli5.sklearn import PermutationImportance\n",
    "\n",
    "permuter = PermutationImportance(\n",
    "    model,\n",
    "    scoring='accuracy',\n",
    "    n_iter=5,\n",
    "    random_state=42\n",
    ")\n",
    "\n",
    "permuter.fit(X_val_transformed, y_val)"
   ]
  },
  {
   "cell_type": "code",
   "execution_count": 140,
   "metadata": {},
   "outputs": [
    {
     "data": {
      "text/plain": [
       "MDC               0.027058\n",
       "problem           0.008690\n",
       "race_MISSING      0.000313\n",
       "date             -0.000169\n",
       "gender_MISSING   -0.001444\n",
       "preRace          -0.004935\n",
       "gender           -0.006259\n",
       "poverty          -0.006572\n",
       "foreignBorn      -0.007174\n",
       "population       -0.007559\n",
       "race             -0.008883\n",
       "hhIncome         -0.009389\n",
       "collegeGrad      -0.009557\n",
       "long             -0.010014\n",
       "policePrecinct   -0.010496\n",
       "black            -0.011122\n",
       "lat              -0.011290\n",
       "neighborhood     -0.013048\n",
       "white            -0.013987\n",
       "dtype: float64"
      ]
     },
     "execution_count": 140,
     "metadata": {},
     "output_type": "execute_result"
    }
   ],
   "source": [
    "feature_names = X_val.columns.tolist()\n",
    "pd.Series(permuter.feature_importances_,\n",
    "         feature_names).sort_values(ascending=False)"
   ]
  },
  {
   "cell_type": "code",
   "execution_count": 141,
   "metadata": {},
   "outputs": [
    {
     "data": {
      "text/html": [
       "\n",
       "    <style>\n",
       "    table.eli5-weights tr:hover {\n",
       "        filter: brightness(85%);\n",
       "    }\n",
       "</style>\n",
       "\n",
       "\n",
       "\n",
       "    \n",
       "\n",
       "    \n",
       "\n",
       "    \n",
       "\n",
       "    \n",
       "\n",
       "    \n",
       "\n",
       "    \n",
       "\n",
       "\n",
       "    \n",
       "\n",
       "    \n",
       "\n",
       "    \n",
       "\n",
       "    \n",
       "\n",
       "    \n",
       "\n",
       "    \n",
       "\n",
       "\n",
       "    \n",
       "\n",
       "    \n",
       "\n",
       "    \n",
       "\n",
       "    \n",
       "\n",
       "    \n",
       "        <table class=\"eli5-weights eli5-feature-importances\" style=\"border-collapse: collapse; border: none; margin-top: 0em; table-layout: auto;\">\n",
       "    <thead>\n",
       "    <tr style=\"border: none;\">\n",
       "        <th style=\"padding: 0 1em 0 0.5em; text-align: right; border: none;\">Weight</th>\n",
       "        <th style=\"padding: 0 0.5em 0 0.5em; text-align: left; border: none;\">Feature</th>\n",
       "    </tr>\n",
       "    </thead>\n",
       "    <tbody>\n",
       "    \n",
       "        <tr style=\"background-color: hsl(120, 100.00%, 80.00%); border: none;\">\n",
       "            <td style=\"padding: 0 1em 0 0.5em; text-align: right; border: none;\">\n",
       "                0.0271\n",
       "                \n",
       "                    &plusmn; 0.0022\n",
       "                \n",
       "            </td>\n",
       "            <td style=\"padding: 0 0.5em 0 0.5em; text-align: left; border: none;\">\n",
       "                MDC\n",
       "            </td>\n",
       "        </tr>\n",
       "    \n",
       "        <tr style=\"background-color: hsl(120, 100.00%, 90.97%); border: none;\">\n",
       "            <td style=\"padding: 0 1em 0 0.5em; text-align: right; border: none;\">\n",
       "                0.0087\n",
       "                \n",
       "                    &plusmn; 0.0033\n",
       "                \n",
       "            </td>\n",
       "            <td style=\"padding: 0 0.5em 0 0.5em; text-align: left; border: none;\">\n",
       "                problem\n",
       "            </td>\n",
       "        </tr>\n",
       "    \n",
       "        <tr style=\"background-color: hsl(120, 100.00%, 99.12%); border: none;\">\n",
       "            <td style=\"padding: 0 1em 0 0.5em; text-align: right; border: none;\">\n",
       "                0.0003\n",
       "                \n",
       "                    &plusmn; 0.0009\n",
       "                \n",
       "            </td>\n",
       "            <td style=\"padding: 0 0.5em 0 0.5em; text-align: left; border: none;\">\n",
       "                race_MISSING\n",
       "            </td>\n",
       "        </tr>\n",
       "    \n",
       "        <tr style=\"background-color: hsl(0, 100.00%, 99.43%); border: none;\">\n",
       "            <td style=\"padding: 0 1em 0 0.5em; text-align: right; border: none;\">\n",
       "                -0.0002\n",
       "                \n",
       "                    &plusmn; 0.0001\n",
       "                \n",
       "            </td>\n",
       "            <td style=\"padding: 0 0.5em 0 0.5em; text-align: left; border: none;\">\n",
       "                date\n",
       "            </td>\n",
       "        </tr>\n",
       "    \n",
       "        <tr style=\"background-color: hsl(0, 100.00%, 97.43%); border: none;\">\n",
       "            <td style=\"padding: 0 1em 0 0.5em; text-align: right; border: none;\">\n",
       "                -0.0014\n",
       "                \n",
       "                    &plusmn; 0.0012\n",
       "                \n",
       "            </td>\n",
       "            <td style=\"padding: 0 0.5em 0 0.5em; text-align: left; border: none;\">\n",
       "                gender_MISSING\n",
       "            </td>\n",
       "        </tr>\n",
       "    \n",
       "        <tr style=\"background-color: hsl(0, 100.00%, 93.92%); border: none;\">\n",
       "            <td style=\"padding: 0 1em 0 0.5em; text-align: right; border: none;\">\n",
       "                -0.0049\n",
       "                \n",
       "                    &plusmn; 0.0011\n",
       "                \n",
       "            </td>\n",
       "            <td style=\"padding: 0 0.5em 0 0.5em; text-align: left; border: none;\">\n",
       "                preRace\n",
       "            </td>\n",
       "        </tr>\n",
       "    \n",
       "        <tr style=\"background-color: hsl(0, 100.00%, 92.82%); border: none;\">\n",
       "            <td style=\"padding: 0 1em 0 0.5em; text-align: right; border: none;\">\n",
       "                -0.0063\n",
       "                \n",
       "                    &plusmn; 0.0019\n",
       "                \n",
       "            </td>\n",
       "            <td style=\"padding: 0 0.5em 0 0.5em; text-align: left; border: none;\">\n",
       "                gender\n",
       "            </td>\n",
       "        </tr>\n",
       "    \n",
       "        <tr style=\"background-color: hsl(0, 100.00%, 92.57%); border: none;\">\n",
       "            <td style=\"padding: 0 1em 0 0.5em; text-align: right; border: none;\">\n",
       "                -0.0066\n",
       "                \n",
       "                    &plusmn; 0.0009\n",
       "                \n",
       "            </td>\n",
       "            <td style=\"padding: 0 0.5em 0 0.5em; text-align: left; border: none;\">\n",
       "                poverty\n",
       "            </td>\n",
       "        </tr>\n",
       "    \n",
       "        <tr style=\"background-color: hsl(0, 100.00%, 92.10%); border: none;\">\n",
       "            <td style=\"padding: 0 1em 0 0.5em; text-align: right; border: none;\">\n",
       "                -0.0072\n",
       "                \n",
       "                    &plusmn; 0.0008\n",
       "                \n",
       "            </td>\n",
       "            <td style=\"padding: 0 0.5em 0 0.5em; text-align: left; border: none;\">\n",
       "                foreignBorn\n",
       "            </td>\n",
       "        </tr>\n",
       "    \n",
       "        <tr style=\"background-color: hsl(0, 100.00%, 91.81%); border: none;\">\n",
       "            <td style=\"padding: 0 1em 0 0.5em; text-align: right; border: none;\">\n",
       "                -0.0076\n",
       "                \n",
       "                    &plusmn; 0.0009\n",
       "                \n",
       "            </td>\n",
       "            <td style=\"padding: 0 0.5em 0 0.5em; text-align: left; border: none;\">\n",
       "                population\n",
       "            </td>\n",
       "        </tr>\n",
       "    \n",
       "        <tr style=\"background-color: hsl(0, 100.00%, 90.83%); border: none;\">\n",
       "            <td style=\"padding: 0 1em 0 0.5em; text-align: right; border: none;\">\n",
       "                -0.0089\n",
       "                \n",
       "                    &plusmn; 0.0027\n",
       "                \n",
       "            </td>\n",
       "            <td style=\"padding: 0 0.5em 0 0.5em; text-align: left; border: none;\">\n",
       "                race\n",
       "            </td>\n",
       "        </tr>\n",
       "    \n",
       "        <tr style=\"background-color: hsl(0, 100.00%, 90.47%); border: none;\">\n",
       "            <td style=\"padding: 0 1em 0 0.5em; text-align: right; border: none;\">\n",
       "                -0.0094\n",
       "                \n",
       "                    &plusmn; 0.0021\n",
       "                \n",
       "            </td>\n",
       "            <td style=\"padding: 0 0.5em 0 0.5em; text-align: left; border: none;\">\n",
       "                hhIncome\n",
       "            </td>\n",
       "        </tr>\n",
       "    \n",
       "        <tr style=\"background-color: hsl(0, 100.00%, 90.35%); border: none;\">\n",
       "            <td style=\"padding: 0 1em 0 0.5em; text-align: right; border: none;\">\n",
       "                -0.0096\n",
       "                \n",
       "                    &plusmn; 0.0017\n",
       "                \n",
       "            </td>\n",
       "            <td style=\"padding: 0 0.5em 0 0.5em; text-align: left; border: none;\">\n",
       "                collegeGrad\n",
       "            </td>\n",
       "        </tr>\n",
       "    \n",
       "        <tr style=\"background-color: hsl(0, 100.00%, 90.03%); border: none;\">\n",
       "            <td style=\"padding: 0 1em 0 0.5em; text-align: right; border: none;\">\n",
       "                -0.0100\n",
       "                \n",
       "                    &plusmn; 0.0016\n",
       "                \n",
       "            </td>\n",
       "            <td style=\"padding: 0 0.5em 0 0.5em; text-align: left; border: none;\">\n",
       "                long\n",
       "            </td>\n",
       "        </tr>\n",
       "    \n",
       "        <tr style=\"background-color: hsl(0, 100.00%, 89.69%); border: none;\">\n",
       "            <td style=\"padding: 0 1em 0 0.5em; text-align: right; border: none;\">\n",
       "                -0.0105\n",
       "                \n",
       "                    &plusmn; 0.0031\n",
       "                \n",
       "            </td>\n",
       "            <td style=\"padding: 0 0.5em 0 0.5em; text-align: left; border: none;\">\n",
       "                policePrecinct\n",
       "            </td>\n",
       "        </tr>\n",
       "    \n",
       "        <tr style=\"background-color: hsl(0, 100.00%, 89.27%); border: none;\">\n",
       "            <td style=\"padding: 0 1em 0 0.5em; text-align: right; border: none;\">\n",
       "                -0.0111\n",
       "                \n",
       "                    &plusmn; 0.0033\n",
       "                \n",
       "            </td>\n",
       "            <td style=\"padding: 0 0.5em 0 0.5em; text-align: left; border: none;\">\n",
       "                black\n",
       "            </td>\n",
       "        </tr>\n",
       "    \n",
       "        <tr style=\"background-color: hsl(0, 100.00%, 89.15%); border: none;\">\n",
       "            <td style=\"padding: 0 1em 0 0.5em; text-align: right; border: none;\">\n",
       "                -0.0113\n",
       "                \n",
       "                    &plusmn; 0.0042\n",
       "                \n",
       "            </td>\n",
       "            <td style=\"padding: 0 0.5em 0 0.5em; text-align: left; border: none;\">\n",
       "                lat\n",
       "            </td>\n",
       "        </tr>\n",
       "    \n",
       "        <tr style=\"background-color: hsl(0, 100.00%, 88.00%); border: none;\">\n",
       "            <td style=\"padding: 0 1em 0 0.5em; text-align: right; border: none;\">\n",
       "                -0.0130\n",
       "                \n",
       "                    &plusmn; 0.0013\n",
       "                \n",
       "            </td>\n",
       "            <td style=\"padding: 0 0.5em 0 0.5em; text-align: left; border: none;\">\n",
       "                neighborhood\n",
       "            </td>\n",
       "        </tr>\n",
       "    \n",
       "        <tr style=\"background-color: hsl(0, 100.00%, 87.40%); border: none;\">\n",
       "            <td style=\"padding: 0 1em 0 0.5em; text-align: right; border: none;\">\n",
       "                -0.0140\n",
       "                \n",
       "                    &plusmn; 0.0036\n",
       "                \n",
       "            </td>\n",
       "            <td style=\"padding: 0 0.5em 0 0.5em; text-align: left; border: none;\">\n",
       "                white\n",
       "            </td>\n",
       "        </tr>\n",
       "    \n",
       "    \n",
       "    </tbody>\n",
       "</table>\n",
       "    \n",
       "\n",
       "    \n",
       "\n",
       "\n",
       "    \n",
       "\n",
       "    \n",
       "\n",
       "    \n",
       "\n",
       "    \n",
       "\n",
       "    \n",
       "\n",
       "    \n",
       "\n",
       "\n",
       "\n"
      ],
      "text/plain": [
       "<IPython.core.display.HTML object>"
      ]
     },
     "execution_count": 141,
     "metadata": {},
     "output_type": "execute_result"
    }
   ],
   "source": [
    "feature_names = X_val.columns.tolist()\n",
    "\n",
    "eli5.show_weights(\n",
    "    permuter,\n",
    "    top=None, # show permutation importances for all features\n",
    "    feature_names=feature_names\n",
    ")"
   ]
  },
  {
   "cell_type": "code",
   "execution_count": 142,
   "metadata": {},
   "outputs": [
    {
     "name": "stdout",
     "output_type": "stream",
     "text": [
      "Shape before removing features: (33228, 19)\n"
     ]
    }
   ],
   "source": [
    "print('Shape before removing features:', X_train.shape)"
   ]
  },
  {
   "cell_type": "code",
   "execution_count": 143,
   "metadata": {},
   "outputs": [],
   "source": [
    "minimum_importance = 0\n",
    "mask = permuter.feature_importances_ > minimum_importance\n",
    "features = X_train.columns[mask]\n",
    "X_train = X_train[features]"
   ]
  },
  {
   "cell_type": "code",
   "execution_count": 144,
   "metadata": {},
   "outputs": [
    {
     "name": "stdout",
     "output_type": "stream",
     "text": [
      "Shape after removing features: (33228, 3)\n"
     ]
    }
   ],
   "source": [
    "print('Shape after removing features:', X_train.shape)"
   ]
  },
  {
   "cell_type": "code",
   "execution_count": 145,
   "metadata": {},
   "outputs": [
    {
     "name": "stdout",
     "output_type": "stream",
     "text": [
      "Validation Accuracy 0.8365430909966297\n"
     ]
    }
   ],
   "source": [
    "X_val = X_val[features]\n",
    "\n",
    "pipeline = make_pipeline(\n",
    "    ce.OrdinalEncoder(), \n",
    "    SimpleImputer(strategy='median'), \n",
    "    RandomForestClassifier(n_estimators=100, random_state=42, n_jobs=-1)\n",
    ")\n",
    "\n",
    "# Fit on train, score on val\n",
    "pipeline.fit(X_train, y_train)\n",
    "print('Validation Accuracy', pipeline.score(X_val, y_val))"
   ]
  },
  {
   "cell_type": "code",
   "execution_count": 147,
   "metadata": {},
   "outputs": [
    {
     "data": {
      "text/plain": [
       "MDC      27967\n",
       "other     5261\n",
       "Name: MDC, dtype: int64"
      ]
     },
     "execution_count": 147,
     "metadata": {},
     "output_type": "execute_result"
    }
   ],
   "source": [
    "train['MDC'].value_counts()"
   ]
  },
  {
   "cell_type": "code",
   "execution_count": 148,
   "metadata": {},
   "outputs": [
    {
     "data": {
      "text/plain": [
       "Pipeline(memory=None,\n",
       "         steps=[('ordinalencoder',\n",
       "                 OrdinalEncoder(cols=['problem', 'MDC'], drop_invariant=False,\n",
       "                                handle_missing='value', handle_unknown='value',\n",
       "                                mapping=[{'col': 'problem',\n",
       "                                          'data_type': dtype('O'),\n",
       "                                          'mapping': traffic       1\n",
       "suspicious    2\n",
       "NaN          -2\n",
       "dtype: int64},\n",
       "                                         {'col': 'MDC', 'data_type': dtype('O'),\n",
       "                                          'mapping': MDC      1\n",
       "other    2\n",
       "NaN     -2\n",
       "dtype: int64}],\n",
       "                                return_df=True, verbose=0)),\n",
       "                (...\n",
       "                 XGBClassifier(base_score=0.5, booster='gbtree',\n",
       "                               colsample_bylevel=1, colsample_bynode=1,\n",
       "                               colsample_bytree=1, gamma=0, learning_rate=0.1,\n",
       "                               max_delta_step=0, max_depth=3,\n",
       "                               min_child_weight=1, missing=None,\n",
       "                               n_estimators=100, n_jobs=-1, nthread=None,\n",
       "                               objective='multi:softprob', random_state=42,\n",
       "                               reg_alpha=0, reg_lambda=1, scale_pos_weight=1,\n",
       "                               seed=None, silent=None, subsample=1,\n",
       "                               verbosity=1))],\n",
       "         verbose=False)"
      ]
     },
     "execution_count": 148,
     "metadata": {},
     "output_type": "execute_result"
    }
   ],
   "source": [
    "from xgboost import XGBClassifier\n",
    "\n",
    "pipeline = make_pipeline(\n",
    "    ce.OrdinalEncoder(), \n",
    "    XGBClassifier(n_estimators=100, random_state=42, n_jobs=-1)\n",
    ")\n",
    "\n",
    "pipeline.fit(X_train, y_train)"
   ]
  },
  {
   "cell_type": "code",
   "execution_count": 149,
   "metadata": {},
   "outputs": [
    {
     "name": "stdout",
     "output_type": "stream",
     "text": [
      "Validation Accuracy 0.8365430909966297\n"
     ]
    }
   ],
   "source": [
    "from sklearn.metrics import accuracy_score\n",
    "y_pred = pipeline.predict(X_val)\n",
    "print('Validation Accuracy', accuracy_score(y_val, y_pred))"
   ]
  },
  {
   "cell_type": "code",
   "execution_count": 151,
   "metadata": {},
   "outputs": [
    {
     "name": "stdout",
     "output_type": "stream",
     "text": [
      "[0]\tvalidation_0-merror:0.163477\tvalidation_1-merror:0.163457\n",
      "Multiple eval metrics have been passed: 'validation_1-merror' will be used for early stopping.\n",
      "\n",
      "Will train until validation_1-merror hasn't improved in 50 rounds.\n",
      "[1]\tvalidation_0-merror:0.163477\tvalidation_1-merror:0.163457\n",
      "[2]\tvalidation_0-merror:0.163477\tvalidation_1-merror:0.163457\n",
      "[3]\tvalidation_0-merror:0.163477\tvalidation_1-merror:0.163457\n",
      "[4]\tvalidation_0-merror:0.163477\tvalidation_1-merror:0.163457\n",
      "[5]\tvalidation_0-merror:0.163477\tvalidation_1-merror:0.163457\n",
      "[6]\tvalidation_0-merror:0.163477\tvalidation_1-merror:0.163457\n",
      "[7]\tvalidation_0-merror:0.163477\tvalidation_1-merror:0.163457\n",
      "[8]\tvalidation_0-merror:0.163477\tvalidation_1-merror:0.163457\n",
      "[9]\tvalidation_0-merror:0.163477\tvalidation_1-merror:0.163457\n",
      "[10]\tvalidation_0-merror:0.163477\tvalidation_1-merror:0.163457\n",
      "[11]\tvalidation_0-merror:0.163477\tvalidation_1-merror:0.163457\n",
      "[12]\tvalidation_0-merror:0.163477\tvalidation_1-merror:0.163457\n",
      "[13]\tvalidation_0-merror:0.163477\tvalidation_1-merror:0.163457\n",
      "[14]\tvalidation_0-merror:0.163477\tvalidation_1-merror:0.163457\n",
      "[15]\tvalidation_0-merror:0.163477\tvalidation_1-merror:0.163457\n",
      "[16]\tvalidation_0-merror:0.163477\tvalidation_1-merror:0.163457\n",
      "[17]\tvalidation_0-merror:0.163477\tvalidation_1-merror:0.163457\n",
      "[18]\tvalidation_0-merror:0.163477\tvalidation_1-merror:0.163457\n",
      "[19]\tvalidation_0-merror:0.163477\tvalidation_1-merror:0.163457\n",
      "[20]\tvalidation_0-merror:0.163477\tvalidation_1-merror:0.163457\n",
      "[21]\tvalidation_0-merror:0.163477\tvalidation_1-merror:0.163457\n",
      "[22]\tvalidation_0-merror:0.163477\tvalidation_1-merror:0.163457\n",
      "[23]\tvalidation_0-merror:0.163477\tvalidation_1-merror:0.163457\n",
      "[24]\tvalidation_0-merror:0.163477\tvalidation_1-merror:0.163457\n",
      "[25]\tvalidation_0-merror:0.163477\tvalidation_1-merror:0.163457\n",
      "[26]\tvalidation_0-merror:0.163477\tvalidation_1-merror:0.163457\n",
      "[27]\tvalidation_0-merror:0.163477\tvalidation_1-merror:0.163457\n",
      "[28]\tvalidation_0-merror:0.163477\tvalidation_1-merror:0.163457\n",
      "[29]\tvalidation_0-merror:0.163477\tvalidation_1-merror:0.163457\n",
      "[30]\tvalidation_0-merror:0.163477\tvalidation_1-merror:0.163457\n",
      "[31]\tvalidation_0-merror:0.163477\tvalidation_1-merror:0.163457\n",
      "[32]\tvalidation_0-merror:0.163477\tvalidation_1-merror:0.163457\n",
      "[33]\tvalidation_0-merror:0.163477\tvalidation_1-merror:0.163457\n",
      "[34]\tvalidation_0-merror:0.163477\tvalidation_1-merror:0.163457\n",
      "[35]\tvalidation_0-merror:0.163477\tvalidation_1-merror:0.163457\n",
      "[36]\tvalidation_0-merror:0.163477\tvalidation_1-merror:0.163457\n",
      "[37]\tvalidation_0-merror:0.163477\tvalidation_1-merror:0.163457\n",
      "[38]\tvalidation_0-merror:0.163477\tvalidation_1-merror:0.163457\n",
      "[39]\tvalidation_0-merror:0.163477\tvalidation_1-merror:0.163457\n",
      "[40]\tvalidation_0-merror:0.163477\tvalidation_1-merror:0.163457\n",
      "[41]\tvalidation_0-merror:0.163477\tvalidation_1-merror:0.163457\n",
      "[42]\tvalidation_0-merror:0.163477\tvalidation_1-merror:0.163457\n",
      "[43]\tvalidation_0-merror:0.163477\tvalidation_1-merror:0.163457\n",
      "[44]\tvalidation_0-merror:0.163477\tvalidation_1-merror:0.163457\n",
      "[45]\tvalidation_0-merror:0.163477\tvalidation_1-merror:0.163457\n",
      "[46]\tvalidation_0-merror:0.163477\tvalidation_1-merror:0.163457\n",
      "[47]\tvalidation_0-merror:0.163477\tvalidation_1-merror:0.163457\n",
      "[48]\tvalidation_0-merror:0.163477\tvalidation_1-merror:0.163457\n",
      "[49]\tvalidation_0-merror:0.163477\tvalidation_1-merror:0.163457\n",
      "[50]\tvalidation_0-merror:0.163477\tvalidation_1-merror:0.163457\n",
      "Stopping. Best iteration:\n",
      "[0]\tvalidation_0-merror:0.163477\tvalidation_1-merror:0.163457\n",
      "\n"
     ]
    },
    {
     "data": {
      "text/plain": [
       "XGBClassifier(base_score=0.5, booster='gbtree', colsample_bylevel=1,\n",
       "              colsample_bynode=1, colsample_bytree=1, gamma=0,\n",
       "              learning_rate=0.5, max_delta_step=0, max_depth=7,\n",
       "              min_child_weight=1, missing=None, n_estimators=1000, n_jobs=-1,\n",
       "              nthread=None, objective='multi:softprob', random_state=0,\n",
       "              reg_alpha=0, reg_lambda=1, scale_pos_weight=1, seed=None,\n",
       "              silent=None, subsample=1, verbosity=1)"
      ]
     },
     "execution_count": 151,
     "metadata": {},
     "output_type": "execute_result"
    }
   ],
   "source": [
    "encoder = ce.OrdinalEncoder()\n",
    "X_train_encoded = encoder.fit_transform(X_train)\n",
    "X_val_encoded = encoder.transform(X_val)\n",
    "\n",
    "model = XGBClassifier(\n",
    "    n_estimators=1000,\n",
    "    max_depth=7,\n",
    "    learning_rate=0.5,\n",
    "    n_jobs=-1\n",
    ")\n",
    "\n",
    "eval_set = [(X_train_encoded, y_train),\n",
    "           (X_val_encoded, y_val)]\n",
    "\n",
    "model.fit(X_train_encoded, y_train,\n",
    "         eval_set=eval_set,\n",
    "         eval_metric='merror',\n",
    "         early_stopping_rounds=50)"
   ]
  },
  {
   "cell_type": "code",
   "execution_count": 154,
   "metadata": {},
   "outputs": [
    {
     "data": {
      "image/png": "[encoded data removed]",
      "text/plain": [
       "<Figure size 432x288 with 1 Axes>"
      ]
     },
     "metadata": {
      "needs_background": "light"
     },
     "output_type": "display_data"
    }
   ],
   "source": [
    "import matplotlib.pyplot as plt\n",
    "\n",
    "results = model.evals_result()\n",
    "train_error = results['validation_0']['merror']\n",
    "val_error = results['validation_1']['merror']\n",
    "epoch = range(1, len(train_error)+1)\n",
    "plt.plot(epoch, train_error, label='Train')\n",
    "plt.plot(epoch, val_error, label='Validation')\n",
    "plt.ylabel('Classification Error')\n",
    "plt.xlabel('Model Complexity (n_estimators)')\n",
    "plt.ylim((0.18, 0.22)) # Zoom in\n",
    "plt.legend();"
   ]
  },
  {
   "cell_type": "code",
   "execution_count": null,
   "metadata": {},
   "outputs": [],
   "source": []
  },
  {
   "cell_type": "code",
   "execution_count": null,
   "metadata": {},
   "outputs": [],
   "source": []
  },
  {
   "cell_type": "code",
   "execution_count": null,
   "metadata": {},
   "outputs": [],
   "source": []
  },
  {
   "cell_type": "code",
   "execution_count": null,
   "metadata": {},
   "outputs": [],
   "source": []
  },
  {
   "cell_type": "code",
   "execution_count": null,
   "metadata": {},
   "outputs": [],
   "source": []
  }
 ],
 "metadata": {
  "kernelspec": {
   "display_name": "Python 3",
   "language": "python",
   "name": "python3"
  },
  "language_info": {
   "codemirror_mode": {
    "name": "ipython",
    "version": 3
   },
   "file_extension": ".py",
   "mimetype": "text/x-python",
   "name": "python",
   "nbconvert_exporter": "python",
   "pygments_lexer": "ipython3",
   "version": "3.7.5"
  }
 },
 "nbformat": 4,
 "nbformat_minor": 2
}
