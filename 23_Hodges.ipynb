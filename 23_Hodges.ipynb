{
 "cells": [
  {
   "cell_type": "code",
   "execution_count": 250,
   "metadata": {},
   "outputs": [
    {
     "data": {
      "text/plain": [
       "(51920, 15)"
      ]
     },
     "execution_count": 250,
     "metadata": {},
     "output_type": "execute_result"
    }
   ],
   "source": [
    "import pandas as pd\n",
    "\n",
    "urlstops = 'https://raw.githubusercontent.com/dustinhodges/DS-Unit-2-Applied-Modeling/master/MplsStops.csv'\n",
    "urldemo = 'https://raw.githubusercontent.com/dustinhodges/DS-Unit-2-Applied-Modeling/master/MplsDemo.csv'\n",
    "\n",
    "stops = pd.read_csv(urlstops)\n",
    "stops.shape"
   ]
  },
  {
   "cell_type": "code",
   "execution_count": 251,
   "metadata": {},
   "outputs": [
    {
     "data": {
      "text/html": [
       "<div>\n",
       "<style scoped>\n",
       "    .dataframe tbody tr th:only-of-type {\n",
       "        vertical-align: middle;\n",
       "    }\n",
       "\n",
       "    .dataframe tbody tr th {\n",
       "        vertical-align: top;\n",
       "    }\n",
       "\n",
       "    .dataframe thead th {\n",
       "        text-align: right;\n",
       "    }\n",
       "</style>\n",
       "<table border=\"1\" class=\"dataframe\">\n",
       "  <thead>\n",
       "    <tr style=\"text-align: right;\">\n",
       "      <th></th>\n",
       "      <th>Unnamed: 0</th>\n",
       "      <th>idNum</th>\n",
       "      <th>date</th>\n",
       "      <th>problem</th>\n",
       "      <th>MDC</th>\n",
       "      <th>citationIssued</th>\n",
       "      <th>personSearch</th>\n",
       "      <th>vehicleSearch</th>\n",
       "      <th>preRace</th>\n",
       "      <th>race</th>\n",
       "      <th>gender</th>\n",
       "      <th>lat</th>\n",
       "      <th>long</th>\n",
       "      <th>policePrecinct</th>\n",
       "      <th>neighborhood</th>\n",
       "    </tr>\n",
       "  </thead>\n",
       "  <tbody>\n",
       "    <tr>\n",
       "      <th>0</th>\n",
       "      <td>6823</td>\n",
       "      <td>17-000003</td>\n",
       "      <td>2017-01-01 00:00:42</td>\n",
       "      <td>suspicious</td>\n",
       "      <td>MDC</td>\n",
       "      <td>NaN</td>\n",
       "      <td>NO</td>\n",
       "      <td>NO</td>\n",
       "      <td>Unknown</td>\n",
       "      <td>Unknown</td>\n",
       "      <td>Unknown</td>\n",
       "      <td>44.966617</td>\n",
       "      <td>-93.246458</td>\n",
       "      <td>1</td>\n",
       "      <td>Cedar Riverside</td>\n",
       "    </tr>\n",
       "    <tr>\n",
       "      <th>1</th>\n",
       "      <td>6824</td>\n",
       "      <td>17-000007</td>\n",
       "      <td>2017-01-01 00:03:07</td>\n",
       "      <td>suspicious</td>\n",
       "      <td>MDC</td>\n",
       "      <td>NaN</td>\n",
       "      <td>NO</td>\n",
       "      <td>NO</td>\n",
       "      <td>Unknown</td>\n",
       "      <td>Unknown</td>\n",
       "      <td>Male</td>\n",
       "      <td>44.980450</td>\n",
       "      <td>-93.271340</td>\n",
       "      <td>1</td>\n",
       "      <td>Downtown West</td>\n",
       "    </tr>\n",
       "    <tr>\n",
       "      <th>2</th>\n",
       "      <td>6825</td>\n",
       "      <td>17-000073</td>\n",
       "      <td>2017-01-01 00:23:15</td>\n",
       "      <td>traffic</td>\n",
       "      <td>MDC</td>\n",
       "      <td>NaN</td>\n",
       "      <td>NO</td>\n",
       "      <td>NO</td>\n",
       "      <td>Unknown</td>\n",
       "      <td>White</td>\n",
       "      <td>Female</td>\n",
       "      <td>44.948350</td>\n",
       "      <td>-93.275380</td>\n",
       "      <td>5</td>\n",
       "      <td>Whittier</td>\n",
       "    </tr>\n",
       "    <tr>\n",
       "      <th>3</th>\n",
       "      <td>6826</td>\n",
       "      <td>17-000092</td>\n",
       "      <td>2017-01-01 00:33:48</td>\n",
       "      <td>suspicious</td>\n",
       "      <td>MDC</td>\n",
       "      <td>NaN</td>\n",
       "      <td>NO</td>\n",
       "      <td>NO</td>\n",
       "      <td>Unknown</td>\n",
       "      <td>East African</td>\n",
       "      <td>Male</td>\n",
       "      <td>44.948360</td>\n",
       "      <td>-93.281350</td>\n",
       "      <td>5</td>\n",
       "      <td>Whittier</td>\n",
       "    </tr>\n",
       "    <tr>\n",
       "      <th>4</th>\n",
       "      <td>6827</td>\n",
       "      <td>17-000098</td>\n",
       "      <td>2017-01-01 00:37:58</td>\n",
       "      <td>traffic</td>\n",
       "      <td>MDC</td>\n",
       "      <td>NaN</td>\n",
       "      <td>NO</td>\n",
       "      <td>NO</td>\n",
       "      <td>Unknown</td>\n",
       "      <td>White</td>\n",
       "      <td>Female</td>\n",
       "      <td>44.979078</td>\n",
       "      <td>-93.262076</td>\n",
       "      <td>1</td>\n",
       "      <td>Downtown West</td>\n",
       "    </tr>\n",
       "  </tbody>\n",
       "</table>\n",
       "</div>"
      ],
      "text/plain": [
       "   Unnamed: 0      idNum                 date     problem  MDC citationIssued  \\\n",
       "0        6823  17-000003  2017-01-01 00:00:42  suspicious  MDC            NaN   \n",
       "1        6824  17-000007  2017-01-01 00:03:07  suspicious  MDC            NaN   \n",
       "2        6825  17-000073  2017-01-01 00:23:15     traffic  MDC            NaN   \n",
       "3        6826  17-000092  2017-01-01 00:33:48  suspicious  MDC            NaN   \n",
       "4        6827  17-000098  2017-01-01 00:37:58     traffic  MDC            NaN   \n",
       "\n",
       "  personSearch vehicleSearch  preRace          race   gender        lat  \\\n",
       "0           NO            NO  Unknown       Unknown  Unknown  44.966617   \n",
       "1           NO            NO  Unknown       Unknown     Male  44.980450   \n",
       "2           NO            NO  Unknown         White   Female  44.948350   \n",
       "3           NO            NO  Unknown  East African     Male  44.948360   \n",
       "4           NO            NO  Unknown         White   Female  44.979078   \n",
       "\n",
       "        long  policePrecinct     neighborhood  \n",
       "0 -93.246458               1  Cedar Riverside  \n",
       "1 -93.271340               1    Downtown West  \n",
       "2 -93.275380               5         Whittier  \n",
       "3 -93.281350               5         Whittier  \n",
       "4 -93.262076               1    Downtown West  "
      ]
     },
     "execution_count": 251,
     "metadata": {},
     "output_type": "execute_result"
    }
   ],
   "source": [
    "stops.head()"
   ]
  },
  {
   "cell_type": "code",
   "execution_count": 252,
   "metadata": {},
   "outputs": [
    {
     "data": {
      "text/html": [
       "<div>\n",
       "<style scoped>\n",
       "    .dataframe tbody tr th:only-of-type {\n",
       "        vertical-align: middle;\n",
       "    }\n",
       "\n",
       "    .dataframe tbody tr th {\n",
       "        vertical-align: top;\n",
       "    }\n",
       "\n",
       "    .dataframe thead th {\n",
       "        text-align: right;\n",
       "    }\n",
       "</style>\n",
       "<table border=\"1\" class=\"dataframe\">\n",
       "  <thead>\n",
       "    <tr style=\"text-align: right;\">\n",
       "      <th></th>\n",
       "      <th>Unnamed: 0</th>\n",
       "      <th>neighborhood</th>\n",
       "      <th>population</th>\n",
       "      <th>white</th>\n",
       "      <th>black</th>\n",
       "      <th>foreignBorn</th>\n",
       "      <th>hhIncome</th>\n",
       "      <th>poverty</th>\n",
       "      <th>collegeGrad</th>\n",
       "    </tr>\n",
       "  </thead>\n",
       "  <tbody>\n",
       "    <tr>\n",
       "      <th>0</th>\n",
       "      <td>1</td>\n",
       "      <td>Cedar Riverside</td>\n",
       "      <td>8247</td>\n",
       "      <td>0.353</td>\n",
       "      <td>0.464</td>\n",
       "      <td>0.408</td>\n",
       "      <td>18892</td>\n",
       "      <td>0.060</td>\n",
       "      <td>0.258</td>\n",
       "    </tr>\n",
       "    <tr>\n",
       "      <th>1</th>\n",
       "      <td>3</td>\n",
       "      <td>Phillips West</td>\n",
       "      <td>5184</td>\n",
       "      <td>0.199</td>\n",
       "      <td>0.538</td>\n",
       "      <td>0.318</td>\n",
       "      <td>18404</td>\n",
       "      <td>0.042</td>\n",
       "      <td>0.211</td>\n",
       "    </tr>\n",
       "    <tr>\n",
       "      <th>2</th>\n",
       "      <td>4</td>\n",
       "      <td>Downtown West</td>\n",
       "      <td>7141</td>\n",
       "      <td>0.561</td>\n",
       "      <td>0.211</td>\n",
       "      <td>0.203</td>\n",
       "      <td>67086</td>\n",
       "      <td>0.057</td>\n",
       "      <td>0.551</td>\n",
       "    </tr>\n",
       "    <tr>\n",
       "      <th>3</th>\n",
       "      <td>5</td>\n",
       "      <td>Downtown East</td>\n",
       "      <td>1674</td>\n",
       "      <td>0.543</td>\n",
       "      <td>0.221</td>\n",
       "      <td>0.221</td>\n",
       "      <td>70669</td>\n",
       "      <td>0.071</td>\n",
       "      <td>0.577</td>\n",
       "    </tr>\n",
       "    <tr>\n",
       "      <th>4</th>\n",
       "      <td>6</td>\n",
       "      <td>Shingle Creek</td>\n",
       "      <td>3249</td>\n",
       "      <td>0.407</td>\n",
       "      <td>0.259</td>\n",
       "      <td>0.140</td>\n",
       "      <td>59414</td>\n",
       "      <td>0.110</td>\n",
       "      <td>0.247</td>\n",
       "    </tr>\n",
       "  </tbody>\n",
       "</table>\n",
       "</div>"
      ],
      "text/plain": [
       "   Unnamed: 0     neighborhood  population  white  black  foreignBorn  \\\n",
       "0           1  Cedar Riverside        8247  0.353  0.464        0.408   \n",
       "1           3    Phillips West        5184  0.199  0.538        0.318   \n",
       "2           4    Downtown West        7141  0.561  0.211        0.203   \n",
       "3           5    Downtown East        1674  0.543  0.221        0.221   \n",
       "4           6    Shingle Creek        3249  0.407  0.259        0.140   \n",
       "\n",
       "   hhIncome  poverty  collegeGrad  \n",
       "0     18892    0.060        0.258  \n",
       "1     18404    0.042        0.211  \n",
       "2     67086    0.057        0.551  \n",
       "3     70669    0.071        0.577  \n",
       "4     59414    0.110        0.247  "
      ]
     },
     "execution_count": 252,
     "metadata": {},
     "output_type": "execute_result"
    }
   ],
   "source": [
    "demo = pd.read_csv(urldemo)\n",
    "demo.head()"
   ]
  },
  {
   "cell_type": "code",
   "execution_count": 253,
   "metadata": {},
   "outputs": [
    {
     "name": "stdout",
     "output_type": "stream",
     "text": [
      "(51920, 23)\n"
     ]
    },
    {
     "data": {
      "text/html": [
       "<div>\n",
       "<style scoped>\n",
       "    .dataframe tbody tr th:only-of-type {\n",
       "        vertical-align: middle;\n",
       "    }\n",
       "\n",
       "    .dataframe tbody tr th {\n",
       "        vertical-align: top;\n",
       "    }\n",
       "\n",
       "    .dataframe thead th {\n",
       "        text-align: right;\n",
       "    }\n",
       "</style>\n",
       "<table border=\"1\" class=\"dataframe\">\n",
       "  <thead>\n",
       "    <tr style=\"text-align: right;\">\n",
       "      <th></th>\n",
       "      <th>Unnamed: 0_x</th>\n",
       "      <th>idNum</th>\n",
       "      <th>date</th>\n",
       "      <th>problem</th>\n",
       "      <th>MDC</th>\n",
       "      <th>citationIssued</th>\n",
       "      <th>personSearch</th>\n",
       "      <th>vehicleSearch</th>\n",
       "      <th>preRace</th>\n",
       "      <th>race</th>\n",
       "      <th>...</th>\n",
       "      <th>policePrecinct</th>\n",
       "      <th>neighborhood</th>\n",
       "      <th>Unnamed: 0_y</th>\n",
       "      <th>population</th>\n",
       "      <th>white</th>\n",
       "      <th>black</th>\n",
       "      <th>foreignBorn</th>\n",
       "      <th>hhIncome</th>\n",
       "      <th>poverty</th>\n",
       "      <th>collegeGrad</th>\n",
       "    </tr>\n",
       "  </thead>\n",
       "  <tbody>\n",
       "    <tr>\n",
       "      <th>0</th>\n",
       "      <td>6823</td>\n",
       "      <td>17-000003</td>\n",
       "      <td>2017-01-01 00:00:42</td>\n",
       "      <td>suspicious</td>\n",
       "      <td>MDC</td>\n",
       "      <td>NaN</td>\n",
       "      <td>NO</td>\n",
       "      <td>NO</td>\n",
       "      <td>Unknown</td>\n",
       "      <td>Unknown</td>\n",
       "      <td>...</td>\n",
       "      <td>1</td>\n",
       "      <td>Cedar Riverside</td>\n",
       "      <td>1.0</td>\n",
       "      <td>8247.0</td>\n",
       "      <td>0.353</td>\n",
       "      <td>0.464</td>\n",
       "      <td>0.408</td>\n",
       "      <td>18892.0</td>\n",
       "      <td>0.06</td>\n",
       "      <td>0.258</td>\n",
       "    </tr>\n",
       "    <tr>\n",
       "      <th>1</th>\n",
       "      <td>6834</td>\n",
       "      <td>17-000161</td>\n",
       "      <td>2017-01-01 01:15:01</td>\n",
       "      <td>traffic</td>\n",
       "      <td>other</td>\n",
       "      <td>NaN</td>\n",
       "      <td>NaN</td>\n",
       "      <td>NaN</td>\n",
       "      <td>NaN</td>\n",
       "      <td>NaN</td>\n",
       "      <td>...</td>\n",
       "      <td>1</td>\n",
       "      <td>Cedar Riverside</td>\n",
       "      <td>1.0</td>\n",
       "      <td>8247.0</td>\n",
       "      <td>0.353</td>\n",
       "      <td>0.464</td>\n",
       "      <td>0.408</td>\n",
       "      <td>18892.0</td>\n",
       "      <td>0.06</td>\n",
       "      <td>0.258</td>\n",
       "    </tr>\n",
       "    <tr>\n",
       "      <th>2</th>\n",
       "      <td>6909</td>\n",
       "      <td>17-001251</td>\n",
       "      <td>2017-01-01 23:45:15</td>\n",
       "      <td>traffic</td>\n",
       "      <td>other</td>\n",
       "      <td>NaN</td>\n",
       "      <td>NaN</td>\n",
       "      <td>NaN</td>\n",
       "      <td>NaN</td>\n",
       "      <td>NaN</td>\n",
       "      <td>...</td>\n",
       "      <td>1</td>\n",
       "      <td>Cedar Riverside</td>\n",
       "      <td>1.0</td>\n",
       "      <td>8247.0</td>\n",
       "      <td>0.353</td>\n",
       "      <td>0.464</td>\n",
       "      <td>0.408</td>\n",
       "      <td>18892.0</td>\n",
       "      <td>0.06</td>\n",
       "      <td>0.258</td>\n",
       "    </tr>\n",
       "    <tr>\n",
       "      <th>3</th>\n",
       "      <td>6992</td>\n",
       "      <td>17-002190</td>\n",
       "      <td>2017-01-02 21:46:12</td>\n",
       "      <td>suspicious</td>\n",
       "      <td>MDC</td>\n",
       "      <td>NaN</td>\n",
       "      <td>NO</td>\n",
       "      <td>NO</td>\n",
       "      <td>White</td>\n",
       "      <td>White</td>\n",
       "      <td>...</td>\n",
       "      <td>1</td>\n",
       "      <td>Cedar Riverside</td>\n",
       "      <td>1.0</td>\n",
       "      <td>8247.0</td>\n",
       "      <td>0.353</td>\n",
       "      <td>0.464</td>\n",
       "      <td>0.408</td>\n",
       "      <td>18892.0</td>\n",
       "      <td>0.06</td>\n",
       "      <td>0.258</td>\n",
       "    </tr>\n",
       "    <tr>\n",
       "      <th>4</th>\n",
       "      <td>7134</td>\n",
       "      <td>17-003851</td>\n",
       "      <td>2017-01-04 09:06:24</td>\n",
       "      <td>traffic</td>\n",
       "      <td>other</td>\n",
       "      <td>NaN</td>\n",
       "      <td>NaN</td>\n",
       "      <td>NaN</td>\n",
       "      <td>NaN</td>\n",
       "      <td>NaN</td>\n",
       "      <td>...</td>\n",
       "      <td>1</td>\n",
       "      <td>Cedar Riverside</td>\n",
       "      <td>1.0</td>\n",
       "      <td>8247.0</td>\n",
       "      <td>0.353</td>\n",
       "      <td>0.464</td>\n",
       "      <td>0.408</td>\n",
       "      <td>18892.0</td>\n",
       "      <td>0.06</td>\n",
       "      <td>0.258</td>\n",
       "    </tr>\n",
       "  </tbody>\n",
       "</table>\n",
       "<p>5 rows × 23 columns</p>\n",
       "</div>"
      ],
      "text/plain": [
       "   Unnamed: 0_x      idNum                 date     problem    MDC  \\\n",
       "0          6823  17-000003  2017-01-01 00:00:42  suspicious    MDC   \n",
       "1          6834  17-000161  2017-01-01 01:15:01     traffic  other   \n",
       "2          6909  17-001251  2017-01-01 23:45:15     traffic  other   \n",
       "3          6992  17-002190  2017-01-02 21:46:12  suspicious    MDC   \n",
       "4          7134  17-003851  2017-01-04 09:06:24     traffic  other   \n",
       "\n",
       "  citationIssued personSearch vehicleSearch  preRace     race  ...  \\\n",
       "0            NaN           NO            NO  Unknown  Unknown  ...   \n",
       "1            NaN          NaN           NaN      NaN      NaN  ...   \n",
       "2            NaN          NaN           NaN      NaN      NaN  ...   \n",
       "3            NaN           NO            NO    White    White  ...   \n",
       "4            NaN          NaN           NaN      NaN      NaN  ...   \n",
       "\n",
       "  policePrecinct     neighborhood  Unnamed: 0_y  population  white  black  \\\n",
       "0              1  Cedar Riverside           1.0      8247.0  0.353  0.464   \n",
       "1              1  Cedar Riverside           1.0      8247.0  0.353  0.464   \n",
       "2              1  Cedar Riverside           1.0      8247.0  0.353  0.464   \n",
       "3              1  Cedar Riverside           1.0      8247.0  0.353  0.464   \n",
       "4              1  Cedar Riverside           1.0      8247.0  0.353  0.464   \n",
       "\n",
       "   foreignBorn  hhIncome  poverty  collegeGrad  \n",
       "0        0.408   18892.0     0.06        0.258  \n",
       "1        0.408   18892.0     0.06        0.258  \n",
       "2        0.408   18892.0     0.06        0.258  \n",
       "3        0.408   18892.0     0.06        0.258  \n",
       "4        0.408   18892.0     0.06        0.258  \n",
       "\n",
       "[5 rows x 23 columns]"
      ]
     },
     "execution_count": 253,
     "metadata": {},
     "output_type": "execute_result"
    }
   ],
   "source": [
    "minn = pd.merge(stops, demo, how='outer', on='neighborhood')\n",
    "\n",
    "print(minn.shape)\n",
    "minn.head()"
   ]
  },
  {
   "cell_type": "markdown",
   "metadata": {},
   "source": [
    "[ ] Choose your target. Which column in your tabular dataset will you predict?\n",
    "\n",
    "'outcome', a newly engineered column will be our target. First we will clean three other columns in order to combine them:"
   ]
  },
  {
   "cell_type": "code",
   "execution_count": 254,
   "metadata": {},
   "outputs": [
    {
     "data": {
      "text/plain": [
       "NO     15899\n",
       "YES     3211\n",
       "Name: citationIssued, dtype: int64"
      ]
     },
     "execution_count": 254,
     "metadata": {},
     "output_type": "execute_result"
    }
   ],
   "source": [
    "minn['citationIssued'].value_counts()"
   ]
  },
  {
   "cell_type": "code",
   "execution_count": 255,
   "metadata": {},
   "outputs": [
    {
     "data": {
      "text/plain": [
       "NO     38462\n",
       "YES     5237\n",
       "Name: personSearch, dtype: int64"
      ]
     },
     "execution_count": 255,
     "metadata": {},
     "output_type": "execute_result"
    }
   ],
   "source": [
    "minn['personSearch'].value_counts()"
   ]
  },
  {
   "cell_type": "code",
   "execution_count": 256,
   "metadata": {},
   "outputs": [
    {
     "data": {
      "text/plain": [
       "NO     40579\n",
       "YES     3120\n",
       "Name: vehicleSearch, dtype: int64"
      ]
     },
     "execution_count": 256,
     "metadata": {},
     "output_type": "execute_result"
    }
   ],
   "source": [
    "minn['vehicleSearch'].value_counts()"
   ]
  },
  {
   "cell_type": "code",
   "execution_count": 257,
   "metadata": {},
   "outputs": [],
   "source": [
    "minn[['citationIssued', 'personSearch', 'vehicleSearch']] = minn[['citationIssued', 'personSearch', 'vehicleSearch']].fillna('Unknown')\n"
   ]
  },
  {
   "cell_type": "code",
   "execution_count": 258,
   "metadata": {},
   "outputs": [
    {
     "data": {
      "text/html": [
       "<div>\n",
       "<style scoped>\n",
       "    .dataframe tbody tr th:only-of-type {\n",
       "        vertical-align: middle;\n",
       "    }\n",
       "\n",
       "    .dataframe tbody tr th {\n",
       "        vertical-align: top;\n",
       "    }\n",
       "\n",
       "    .dataframe thead th {\n",
       "        text-align: right;\n",
       "    }\n",
       "</style>\n",
       "<table border=\"1\" class=\"dataframe\">\n",
       "  <thead>\n",
       "    <tr style=\"text-align: right;\">\n",
       "      <th></th>\n",
       "      <th>Unnamed: 0_x</th>\n",
       "      <th>idNum</th>\n",
       "      <th>date</th>\n",
       "      <th>problem</th>\n",
       "      <th>MDC</th>\n",
       "      <th>citationIssued</th>\n",
       "      <th>personSearch</th>\n",
       "      <th>vehicleSearch</th>\n",
       "      <th>preRace</th>\n",
       "      <th>race</th>\n",
       "      <th>...</th>\n",
       "      <th>policePrecinct</th>\n",
       "      <th>neighborhood</th>\n",
       "      <th>Unnamed: 0_y</th>\n",
       "      <th>population</th>\n",
       "      <th>white</th>\n",
       "      <th>black</th>\n",
       "      <th>foreignBorn</th>\n",
       "      <th>hhIncome</th>\n",
       "      <th>poverty</th>\n",
       "      <th>collegeGrad</th>\n",
       "    </tr>\n",
       "  </thead>\n",
       "  <tbody>\n",
       "    <tr>\n",
       "      <th>0</th>\n",
       "      <td>6823</td>\n",
       "      <td>17-000003</td>\n",
       "      <td>2017-01-01 00:00:42</td>\n",
       "      <td>suspicious</td>\n",
       "      <td>MDC</td>\n",
       "      <td>Unknown</td>\n",
       "      <td>NO</td>\n",
       "      <td>NO</td>\n",
       "      <td>Unknown</td>\n",
       "      <td>Unknown</td>\n",
       "      <td>...</td>\n",
       "      <td>1</td>\n",
       "      <td>Cedar Riverside</td>\n",
       "      <td>1.0</td>\n",
       "      <td>8247.0</td>\n",
       "      <td>0.353</td>\n",
       "      <td>0.464</td>\n",
       "      <td>0.408</td>\n",
       "      <td>18892.0</td>\n",
       "      <td>0.06</td>\n",
       "      <td>0.258</td>\n",
       "    </tr>\n",
       "    <tr>\n",
       "      <th>1</th>\n",
       "      <td>6834</td>\n",
       "      <td>17-000161</td>\n",
       "      <td>2017-01-01 01:15:01</td>\n",
       "      <td>traffic</td>\n",
       "      <td>other</td>\n",
       "      <td>Unknown</td>\n",
       "      <td>Unknown</td>\n",
       "      <td>Unknown</td>\n",
       "      <td>NaN</td>\n",
       "      <td>NaN</td>\n",
       "      <td>...</td>\n",
       "      <td>1</td>\n",
       "      <td>Cedar Riverside</td>\n",
       "      <td>1.0</td>\n",
       "      <td>8247.0</td>\n",
       "      <td>0.353</td>\n",
       "      <td>0.464</td>\n",
       "      <td>0.408</td>\n",
       "      <td>18892.0</td>\n",
       "      <td>0.06</td>\n",
       "      <td>0.258</td>\n",
       "    </tr>\n",
       "    <tr>\n",
       "      <th>2</th>\n",
       "      <td>6909</td>\n",
       "      <td>17-001251</td>\n",
       "      <td>2017-01-01 23:45:15</td>\n",
       "      <td>traffic</td>\n",
       "      <td>other</td>\n",
       "      <td>Unknown</td>\n",
       "      <td>Unknown</td>\n",
       "      <td>Unknown</td>\n",
       "      <td>NaN</td>\n",
       "      <td>NaN</td>\n",
       "      <td>...</td>\n",
       "      <td>1</td>\n",
       "      <td>Cedar Riverside</td>\n",
       "      <td>1.0</td>\n",
       "      <td>8247.0</td>\n",
       "      <td>0.353</td>\n",
       "      <td>0.464</td>\n",
       "      <td>0.408</td>\n",
       "      <td>18892.0</td>\n",
       "      <td>0.06</td>\n",
       "      <td>0.258</td>\n",
       "    </tr>\n",
       "    <tr>\n",
       "      <th>3</th>\n",
       "      <td>6992</td>\n",
       "      <td>17-002190</td>\n",
       "      <td>2017-01-02 21:46:12</td>\n",
       "      <td>suspicious</td>\n",
       "      <td>MDC</td>\n",
       "      <td>Unknown</td>\n",
       "      <td>NO</td>\n",
       "      <td>NO</td>\n",
       "      <td>White</td>\n",
       "      <td>White</td>\n",
       "      <td>...</td>\n",
       "      <td>1</td>\n",
       "      <td>Cedar Riverside</td>\n",
       "      <td>1.0</td>\n",
       "      <td>8247.0</td>\n",
       "      <td>0.353</td>\n",
       "      <td>0.464</td>\n",
       "      <td>0.408</td>\n",
       "      <td>18892.0</td>\n",
       "      <td>0.06</td>\n",
       "      <td>0.258</td>\n",
       "    </tr>\n",
       "    <tr>\n",
       "      <th>4</th>\n",
       "      <td>7134</td>\n",
       "      <td>17-003851</td>\n",
       "      <td>2017-01-04 09:06:24</td>\n",
       "      <td>traffic</td>\n",
       "      <td>other</td>\n",
       "      <td>Unknown</td>\n",
       "      <td>Unknown</td>\n",
       "      <td>Unknown</td>\n",
       "      <td>NaN</td>\n",
       "      <td>NaN</td>\n",
       "      <td>...</td>\n",
       "      <td>1</td>\n",
       "      <td>Cedar Riverside</td>\n",
       "      <td>1.0</td>\n",
       "      <td>8247.0</td>\n",
       "      <td>0.353</td>\n",
       "      <td>0.464</td>\n",
       "      <td>0.408</td>\n",
       "      <td>18892.0</td>\n",
       "      <td>0.06</td>\n",
       "      <td>0.258</td>\n",
       "    </tr>\n",
       "  </tbody>\n",
       "</table>\n",
       "<p>5 rows × 23 columns</p>\n",
       "</div>"
      ],
      "text/plain": [
       "   Unnamed: 0_x      idNum                 date     problem    MDC  \\\n",
       "0          6823  17-000003  2017-01-01 00:00:42  suspicious    MDC   \n",
       "1          6834  17-000161  2017-01-01 01:15:01     traffic  other   \n",
       "2          6909  17-001251  2017-01-01 23:45:15     traffic  other   \n",
       "3          6992  17-002190  2017-01-02 21:46:12  suspicious    MDC   \n",
       "4          7134  17-003851  2017-01-04 09:06:24     traffic  other   \n",
       "\n",
       "  citationIssued personSearch vehicleSearch  preRace     race  ...  \\\n",
       "0        Unknown           NO            NO  Unknown  Unknown  ...   \n",
       "1        Unknown      Unknown       Unknown      NaN      NaN  ...   \n",
       "2        Unknown      Unknown       Unknown      NaN      NaN  ...   \n",
       "3        Unknown           NO            NO    White    White  ...   \n",
       "4        Unknown      Unknown       Unknown      NaN      NaN  ...   \n",
       "\n",
       "  policePrecinct     neighborhood  Unnamed: 0_y  population  white  black  \\\n",
       "0              1  Cedar Riverside           1.0      8247.0  0.353  0.464   \n",
       "1              1  Cedar Riverside           1.0      8247.0  0.353  0.464   \n",
       "2              1  Cedar Riverside           1.0      8247.0  0.353  0.464   \n",
       "3              1  Cedar Riverside           1.0      8247.0  0.353  0.464   \n",
       "4              1  Cedar Riverside           1.0      8247.0  0.353  0.464   \n",
       "\n",
       "   foreignBorn  hhIncome  poverty  collegeGrad  \n",
       "0        0.408   18892.0     0.06        0.258  \n",
       "1        0.408   18892.0     0.06        0.258  \n",
       "2        0.408   18892.0     0.06        0.258  \n",
       "3        0.408   18892.0     0.06        0.258  \n",
       "4        0.408   18892.0     0.06        0.258  \n",
       "\n",
       "[5 rows x 23 columns]"
      ]
     },
     "execution_count": 258,
     "metadata": {},
     "output_type": "execute_result"
    }
   ],
   "source": [
    "minn.head()"
   ]
  },
  {
   "cell_type": "code",
   "execution_count": 259,
   "metadata": {},
   "outputs": [
    {
     "data": {
      "text/plain": [
       "UnknownNONO              21406\n",
       "NONONO                   13805\n",
       "UnknownUnknownUnknown     8221\n",
       "YESNONO                   2662\n",
       "UnknownYESYES             1452\n",
       "UnknownYESNO              1422\n",
       "NOYESNO                   1076\n",
       "NOYESYES                   828\n",
       "UnknownNOYES               309\n",
       "YESYESYES                  251\n",
       "YESYESNO                   208\n",
       "NONOYES                    190\n",
       "YESNOYES                    90\n",
       "Name: outcome, dtype: int64"
      ]
     },
     "execution_count": 259,
     "metadata": {},
     "output_type": "execute_result"
    }
   ],
   "source": [
    "end = minn['citationIssued'] + minn['personSearch'] + minn['vehicleSearch']\n",
    "minn['outcome'] = end\n",
    "\n",
    "minn['outcome'].value_counts()"
   ]
  },
  {
   "cell_type": "markdown",
   "metadata": {},
   "source": [
    "[ ] Is your problem regression or classification?\n",
    "\n",
    "Classification. Now we will define and refine our classes:"
   ]
  },
  {
   "cell_type": "code",
   "execution_count": 260,
   "metadata": {},
   "outputs": [
    {
     "data": {
      "text/plain": [
       "none                 35211\n",
       "unknown               8221\n",
       "search                5277\n",
       "citation              2662\n",
       "search + citation      549\n",
       "Name: outcome, dtype: int64"
      ]
     },
     "execution_count": 260,
     "metadata": {},
     "output_type": "execute_result"
    }
   ],
   "source": [
    "minn.outcome = minn.outcome.replace({\"UnknownNONO\": \"none\",\n",
    "                                     \"NONONO\": \"none\",\n",
    "                                     \"UnknownUnknownUnknown\": \"unknown\",\n",
    "                                     \"YESNONO\": \"citation\",\n",
    "                                     \"UnknownYESYES\": \"search\",\n",
    "                                     \"UnknownYESNO\": \"search\",\n",
    "                                     \"NOYESNO\": \"search\",\n",
    "                                     \"NOYESYES\": \"search\",\n",
    "                                     \"UnknownNOYES\": \"search\",\n",
    "                                     \"YESYESYES\": \"search + citation\",\n",
    "                                     \"YESYESNO\": \"search + citation\",\n",
    "                                     \"NONOYES\": \"search\",\n",
    "                                     \"YESNOYES\": \"search + citation\"}\n",
    "                                   ) \n",
    "\n",
    "minn['outcome'].value_counts()"
   ]
  },
  {
   "cell_type": "code",
   "execution_count": 261,
   "metadata": {},
   "outputs": [
    {
     "data": {
      "text/plain": [
       "51920"
      ]
     },
     "execution_count": 261,
     "metadata": {},
     "output_type": "execute_result"
    }
   ],
   "source": [
    "none = 35211\n",
    "unknown = 8221\n",
    "search = 5277\n",
    "citation = 2662\n",
    "both = 549\n",
    "total = none + unknown + search + citation + both\n",
    "total"
   ]
  },
  {
   "cell_type": "code",
   "execution_count": 262,
   "metadata": {},
   "outputs": [
    {
     "data": {
      "text/plain": [
       "0.6781779661016949"
      ]
     },
     "execution_count": 262,
     "metadata": {},
     "output_type": "execute_result"
    }
   ],
   "source": [
    "none / total"
   ]
  },
  {
   "cell_type": "code",
   "execution_count": 263,
   "metadata": {},
   "outputs": [
    {
     "data": {
      "text/plain": [
       "0.010573959938366718"
      ]
     },
     "execution_count": 263,
     "metadata": {},
     "output_type": "execute_result"
    }
   ],
   "source": [
    "both / total"
   ]
  },
  {
   "cell_type": "markdown",
   "metadata": {},
   "source": [
    "[ ] How is your target distributed?\n",
    "Classification: How many classes? Are the classes imbalanced?\n",
    "Regression: Is the target right-skewed? If so, you may want to log transform the target.\n",
    "\n",
    "'outcome' has 5 discrete classes: \n",
    "none, unknown, search, citation, search + citation.\n",
    "\n",
    "'none' occurs 68% of the time. 'search + citation' occurs 1% of the time."
   ]
  },
  {
   "cell_type": "code",
   "execution_count": 264,
   "metadata": {},
   "outputs": [
    {
     "data": {
      "text/plain": [
       "Black              15220\n",
       "White              11703\n",
       "Unknown             9219\n",
       "East African        2188\n",
       "Latino              1858\n",
       "Native American     1516\n",
       "Other               1348\n",
       "Asian                647\n",
       "Name: race, dtype: int64"
      ]
     },
     "execution_count": 264,
     "metadata": {},
     "output_type": "execute_result"
    }
   ],
   "source": [
    "minn['race'].value_counts()"
   ]
  },
  {
   "cell_type": "code",
   "execution_count": 265,
   "metadata": {},
   "outputs": [
    {
     "data": {
      "text/plain": [
       "traffic       26098\n",
       "suspicious    25822\n",
       "Name: problem, dtype: int64"
      ]
     },
     "execution_count": 265,
     "metadata": {},
     "output_type": "execute_result"
    }
   ],
   "source": [
    "minn['problem'].value_counts()"
   ]
  },
  {
   "cell_type": "markdown",
   "metadata": {},
   "source": [
    "[ ] Choose which observations you will use to train, validate, and test your model.\n",
    "Are some observations outliers? Will you exclude them?\n",
    "Will you do a random split or a time-based split?\n",
    "\n",
    "There are no 'outliers' in this case with the possible exception of 'unknown' values where presumably the data was not recorded by police officers. We will not exclude them because we want our app to handle incomplete input information.\n",
    "I will use a random split for train, test, validation."
   ]
  },
  {
   "cell_type": "markdown",
   "metadata": {},
   "source": [
    "[ ] Choose your evaluation metric(s).\n",
    "Classification: Is your majority class frequency > 50% and < 70% ? If so, you can just use accuracy if you want. Outside that range, accuracy could be misleading. What evaluation metric will you choose, in addition to or instead of accuracy?"
   ]
  },
  {
   "cell_type": "markdown",
   "metadata": {},
   "source": [
    "I can use accuracy but I'll also want to explore precision and recall for certain classes. For example, predicting a particular outcome for a particular demographic etc could be \"false alarm\" or \"failure to warn\". Must decide which is worse..."
   ]
  },
  {
   "cell_type": "code",
   "execution_count": 266,
   "metadata": {},
   "outputs": [
    {
     "name": "stdout",
     "output_type": "stream",
     "text": [
      "(51920, 24)\n"
     ]
    },
    {
     "data": {
      "text/html": [
       "<div>\n",
       "<style scoped>\n",
       "    .dataframe tbody tr th:only-of-type {\n",
       "        vertical-align: middle;\n",
       "    }\n",
       "\n",
       "    .dataframe tbody tr th {\n",
       "        vertical-align: top;\n",
       "    }\n",
       "\n",
       "    .dataframe thead th {\n",
       "        text-align: right;\n",
       "    }\n",
       "</style>\n",
       "<table border=\"1\" class=\"dataframe\">\n",
       "  <thead>\n",
       "    <tr style=\"text-align: right;\">\n",
       "      <th></th>\n",
       "      <th>Unnamed: 0_x</th>\n",
       "      <th>idNum</th>\n",
       "      <th>date</th>\n",
       "      <th>problem</th>\n",
       "      <th>MDC</th>\n",
       "      <th>citationIssued</th>\n",
       "      <th>personSearch</th>\n",
       "      <th>vehicleSearch</th>\n",
       "      <th>preRace</th>\n",
       "      <th>race</th>\n",
       "      <th>...</th>\n",
       "      <th>neighborhood</th>\n",
       "      <th>Unnamed: 0_y</th>\n",
       "      <th>population</th>\n",
       "      <th>white</th>\n",
       "      <th>black</th>\n",
       "      <th>foreignBorn</th>\n",
       "      <th>hhIncome</th>\n",
       "      <th>poverty</th>\n",
       "      <th>collegeGrad</th>\n",
       "      <th>outcome</th>\n",
       "    </tr>\n",
       "  </thead>\n",
       "  <tbody>\n",
       "    <tr>\n",
       "      <th>51915</th>\n",
       "      <td>52565</td>\n",
       "      <td>17-409788</td>\n",
       "      <td>2017-10-24 02:58:15</td>\n",
       "      <td>suspicious</td>\n",
       "      <td>MDC</td>\n",
       "      <td>NO</td>\n",
       "      <td>NO</td>\n",
       "      <td>NO</td>\n",
       "      <td>Unknown</td>\n",
       "      <td>Black</td>\n",
       "      <td>...</td>\n",
       "      <td>Camden Industrial</td>\n",
       "      <td>NaN</td>\n",
       "      <td>NaN</td>\n",
       "      <td>NaN</td>\n",
       "      <td>NaN</td>\n",
       "      <td>NaN</td>\n",
       "      <td>NaN</td>\n",
       "      <td>NaN</td>\n",
       "      <td>NaN</td>\n",
       "      <td>none</td>\n",
       "    </tr>\n",
       "    <tr>\n",
       "      <th>51916</th>\n",
       "      <td>53479</td>\n",
       "      <td>17-418924</td>\n",
       "      <td>2017-10-30 23:17:31</td>\n",
       "      <td>traffic</td>\n",
       "      <td>MDC</td>\n",
       "      <td>NO</td>\n",
       "      <td>NO</td>\n",
       "      <td>NO</td>\n",
       "      <td>Unknown</td>\n",
       "      <td>White</td>\n",
       "      <td>...</td>\n",
       "      <td>Camden Industrial</td>\n",
       "      <td>NaN</td>\n",
       "      <td>NaN</td>\n",
       "      <td>NaN</td>\n",
       "      <td>NaN</td>\n",
       "      <td>NaN</td>\n",
       "      <td>NaN</td>\n",
       "      <td>NaN</td>\n",
       "      <td>NaN</td>\n",
       "      <td>none</td>\n",
       "    </tr>\n",
       "    <tr>\n",
       "      <th>51917</th>\n",
       "      <td>53549</td>\n",
       "      <td>17-419685</td>\n",
       "      <td>2017-10-31 15:49:53</td>\n",
       "      <td>traffic</td>\n",
       "      <td>MDC</td>\n",
       "      <td>Unknown</td>\n",
       "      <td>NO</td>\n",
       "      <td>NO</td>\n",
       "      <td>Unknown</td>\n",
       "      <td>Black</td>\n",
       "      <td>...</td>\n",
       "      <td>Camden Industrial</td>\n",
       "      <td>NaN</td>\n",
       "      <td>NaN</td>\n",
       "      <td>NaN</td>\n",
       "      <td>NaN</td>\n",
       "      <td>NaN</td>\n",
       "      <td>NaN</td>\n",
       "      <td>NaN</td>\n",
       "      <td>NaN</td>\n",
       "      <td>none</td>\n",
       "    </tr>\n",
       "    <tr>\n",
       "      <th>51918</th>\n",
       "      <td>56559</td>\n",
       "      <td>17-449934</td>\n",
       "      <td>2017-11-25 16:39:48</td>\n",
       "      <td>traffic</td>\n",
       "      <td>MDC</td>\n",
       "      <td>NO</td>\n",
       "      <td>NO</td>\n",
       "      <td>NO</td>\n",
       "      <td>Unknown</td>\n",
       "      <td>Black</td>\n",
       "      <td>...</td>\n",
       "      <td>Camden Industrial</td>\n",
       "      <td>NaN</td>\n",
       "      <td>NaN</td>\n",
       "      <td>NaN</td>\n",
       "      <td>NaN</td>\n",
       "      <td>NaN</td>\n",
       "      <td>NaN</td>\n",
       "      <td>NaN</td>\n",
       "      <td>NaN</td>\n",
       "      <td>none</td>\n",
       "    </tr>\n",
       "    <tr>\n",
       "      <th>51919</th>\n",
       "      <td>60446</td>\n",
       "      <td>17-487296</td>\n",
       "      <td>2017-12-28 01:17:45</td>\n",
       "      <td>suspicious</td>\n",
       "      <td>MDC</td>\n",
       "      <td>NO</td>\n",
       "      <td>NO</td>\n",
       "      <td>NO</td>\n",
       "      <td>Unknown</td>\n",
       "      <td>White</td>\n",
       "      <td>...</td>\n",
       "      <td>Camden Industrial</td>\n",
       "      <td>NaN</td>\n",
       "      <td>NaN</td>\n",
       "      <td>NaN</td>\n",
       "      <td>NaN</td>\n",
       "      <td>NaN</td>\n",
       "      <td>NaN</td>\n",
       "      <td>NaN</td>\n",
       "      <td>NaN</td>\n",
       "      <td>none</td>\n",
       "    </tr>\n",
       "  </tbody>\n",
       "</table>\n",
       "<p>5 rows × 24 columns</p>\n",
       "</div>"
      ],
      "text/plain": [
       "       Unnamed: 0_x      idNum                 date     problem  MDC  \\\n",
       "51915         52565  17-409788  2017-10-24 02:58:15  suspicious  MDC   \n",
       "51916         53479  17-418924  2017-10-30 23:17:31     traffic  MDC   \n",
       "51917         53549  17-419685  2017-10-31 15:49:53     traffic  MDC   \n",
       "51918         56559  17-449934  2017-11-25 16:39:48     traffic  MDC   \n",
       "51919         60446  17-487296  2017-12-28 01:17:45  suspicious  MDC   \n",
       "\n",
       "      citationIssued personSearch vehicleSearch  preRace   race  ...  \\\n",
       "51915             NO           NO            NO  Unknown  Black  ...   \n",
       "51916             NO           NO            NO  Unknown  White  ...   \n",
       "51917        Unknown           NO            NO  Unknown  Black  ...   \n",
       "51918             NO           NO            NO  Unknown  Black  ...   \n",
       "51919             NO           NO            NO  Unknown  White  ...   \n",
       "\n",
       "            neighborhood  Unnamed: 0_y  population  white black  foreignBorn  \\\n",
       "51915  Camden Industrial           NaN         NaN    NaN   NaN          NaN   \n",
       "51916  Camden Industrial           NaN         NaN    NaN   NaN          NaN   \n",
       "51917  Camden Industrial           NaN         NaN    NaN   NaN          NaN   \n",
       "51918  Camden Industrial           NaN         NaN    NaN   NaN          NaN   \n",
       "51919  Camden Industrial           NaN         NaN    NaN   NaN          NaN   \n",
       "\n",
       "       hhIncome  poverty  collegeGrad  outcome  \n",
       "51915       NaN      NaN          NaN     none  \n",
       "51916       NaN      NaN          NaN     none  \n",
       "51917       NaN      NaN          NaN     none  \n",
       "51918       NaN      NaN          NaN     none  \n",
       "51919       NaN      NaN          NaN     none  \n",
       "\n",
       "[5 rows x 24 columns]"
      ]
     },
     "execution_count": 266,
     "metadata": {},
     "output_type": "execute_result"
    }
   ],
   "source": [
    "print(minn.shape)\n",
    "minn.tail()"
   ]
  },
  {
   "cell_type": "markdown",
   "metadata": {},
   "source": [
    "[ ] Begin to clean and explore your data."
   ]
  },
  {
   "cell_type": "code",
   "execution_count": 267,
   "metadata": {},
   "outputs": [
    {
     "data": {
      "text/plain": [
       "False    43699\n",
       "True      8221\n",
       "Name: preRace, dtype: int64"
      ]
     },
     "execution_count": 267,
     "metadata": {},
     "output_type": "execute_result"
    }
   ],
   "source": [
    "minn['preRace'].isnull().value_counts()"
   ]
  },
  {
   "cell_type": "code",
   "execution_count": 268,
   "metadata": {},
   "outputs": [
    {
     "data": {
      "text/plain": [
       "False    43699\n",
       "True      8221\n",
       "Name: race, dtype: int64"
      ]
     },
     "execution_count": 268,
     "metadata": {},
     "output_type": "execute_result"
    }
   ],
   "source": [
    "minn['race'].isnull().value_counts()"
   ]
  },
  {
   "cell_type": "code",
   "execution_count": 269,
   "metadata": {},
   "outputs": [
    {
     "data": {
      "text/plain": [
       "Unknown            28337\n",
       "Black               6805\n",
       "White               6004\n",
       "Native American      908\n",
       "Latino               528\n",
       "Other                484\n",
       "East African         481\n",
       "Asian                152\n",
       "Name: preRace, dtype: int64"
      ]
     },
     "execution_count": 269,
     "metadata": {},
     "output_type": "execute_result"
    }
   ],
   "source": [
    "minn['preRace'].value_counts()"
   ]
  },
  {
   "cell_type": "code",
   "execution_count": 270,
   "metadata": {},
   "outputs": [
    {
     "data": {
      "text/plain": [
       "Black              15220\n",
       "White              11703\n",
       "Unknown             9219\n",
       "East African        2188\n",
       "Latino              1858\n",
       "Native American     1516\n",
       "Other               1348\n",
       "Asian                647\n",
       "Name: race, dtype: int64"
      ]
     },
     "execution_count": 270,
     "metadata": {},
     "output_type": "execute_result"
    }
   ],
   "source": [
    "minn['race'].value_counts()"
   ]
  },
  {
   "cell_type": "code",
   "execution_count": null,
   "metadata": {},
   "outputs": [],
   "source": []
  },
  {
   "cell_type": "code",
   "execution_count": null,
   "metadata": {},
   "outputs": [],
   "source": []
  },
  {
   "cell_type": "code",
   "execution_count": null,
   "metadata": {},
   "outputs": [],
   "source": []
  },
  {
   "cell_type": "code",
   "execution_count": null,
   "metadata": {},
   "outputs": [],
   "source": []
  },
  {
   "cell_type": "code",
   "execution_count": null,
   "metadata": {},
   "outputs": [],
   "source": []
  },
  {
   "cell_type": "code",
   "execution_count": null,
   "metadata": {},
   "outputs": [],
   "source": []
  },
  {
   "cell_type": "code",
   "execution_count": null,
   "metadata": {},
   "outputs": [],
   "source": []
  },
  {
   "cell_type": "code",
   "execution_count": null,
   "metadata": {},
   "outputs": [],
   "source": []
  },
  {
   "cell_type": "code",
   "execution_count": null,
   "metadata": {},
   "outputs": [],
   "source": []
  },
  {
   "cell_type": "code",
   "execution_count": null,
   "metadata": {},
   "outputs": [],
   "source": []
  },
  {
   "cell_type": "code",
   "execution_count": null,
   "metadata": {},
   "outputs": [],
   "source": []
  },
  {
   "cell_type": "code",
   "execution_count": null,
   "metadata": {},
   "outputs": [],
   "source": []
  },
  {
   "cell_type": "markdown",
   "metadata": {},
   "source": [
    "visualizations, "
   ]
  },
  {
   "cell_type": "markdown",
   "metadata": {},
   "source": [
    "[ ] Begin to choose which features, if any, to exclude. Would some features \"leak\" future information?"
   ]
  },
  {
   "cell_type": "code",
   "execution_count": 271,
   "metadata": {},
   "outputs": [
    {
     "data": {
      "text/plain": [
       "((33228, 24), (8308, 24), (10384, 24))"
      ]
     },
     "execution_count": 271,
     "metadata": {},
     "output_type": "execute_result"
    }
   ],
   "source": [
    "import numpy as np\n",
    "from sklearn.model_selection import train_test_split\n",
    "\n",
    "train = minn.copy()\n",
    "train, test = train_test_split(train, train_size=0.80, test_size=0.20,\n",
    "                               stratify=train['outcome'], random_state=42)\n",
    "train, val = train_test_split(train, train_size=0.80, test_size=0.20,\n",
    "                             stratify=train['outcome'], random_state=42)\n",
    "\n",
    "train.shape, val.shape, test.shape"
   ]
  },
  {
   "cell_type": "code",
   "execution_count": 272,
   "metadata": {},
   "outputs": [
    {
     "data": {
      "text/plain": [
       "dtype('O')"
      ]
     },
     "execution_count": 272,
     "metadata": {},
     "output_type": "execute_result"
    }
   ],
   "source": [
    "train['date'].dtype"
   ]
  },
  {
   "cell_type": "code",
   "execution_count": 273,
   "metadata": {},
   "outputs": [
    {
     "data": {
      "text/plain": [
       "Index(['Unnamed: 0_x', 'idNum', 'date', 'problem', 'MDC', 'citationIssued',\n",
       "       'personSearch', 'vehicleSearch', 'preRace', 'race', 'gender', 'lat',\n",
       "       'long', 'policePrecinct', 'neighborhood', 'Unnamed: 0_y', 'population',\n",
       "       'white', 'black', 'foreignBorn', 'hhIncome', 'poverty', 'collegeGrad',\n",
       "       'outcome'],\n",
       "      dtype='object')"
      ]
     },
     "execution_count": 273,
     "metadata": {},
     "output_type": "execute_result"
    }
   ],
   "source": [
    "minn.columns"
   ]
  },
  {
   "cell_type": "code",
   "execution_count": 274,
   "metadata": {},
   "outputs": [],
   "source": [
    "def wrangle(X):\n",
    "    \n",
    "    X = X.copy()\n",
    "    \n",
    "    X[['race_MISSING']] = X[['race']].isnull()\n",
    "    X[['gender_MISSING']] = X[['gender']].isnull()\n",
    "\n",
    "    unusable_variance = ['Unnamed: 0_x', 'idNum','citationIssued',\n",
    "                         'personSearch', 'vehicleSearch', 'Unnamed: 0_y']\n",
    "    X = X.drop(columns=unusable_variance)\n",
    "    \n",
    "    X['date'] = pd.to_datetime(X['date'], infer_datetime_format=True)\n",
    "    \n",
    "    X['month'] = X['date'].dt.month\n",
    "    X['day'] = X['date'].dt.day\n",
    "    X['hour'] = X['date'].dt.hour\n",
    "    X = X.drop(columns='date')\n",
    "    \n",
    "    X['race_confusion'] = (X['race'] != X['preRace'])\n",
    "    \n",
    "    return X\n",
    "\n",
    "train = wrangle(train)\n",
    "val = wrangle(val)\n",
    "test = wrangle(test)"
   ]
  },
  {
   "cell_type": "markdown",
   "metadata": {},
   "source": [
    "\n",
    "engineer:\n",
    "\n",
    "race of neighborhood, demographics etc...\n",
    "racialconfusion,\n",
    "\n",
    "string encode policePrecinct\n"
   ]
  },
  {
   "cell_type": "code",
   "execution_count": 297,
   "metadata": {},
   "outputs": [
    {
     "data": {
      "text/plain": [
       "(33228, 23)"
      ]
     },
     "execution_count": 297,
     "metadata": {},
     "output_type": "execute_result"
    }
   ],
   "source": [
    "train.shape"
   ]
  },
  {
   "cell_type": "code",
   "execution_count": 298,
   "metadata": {},
   "outputs": [
    {
     "data": {
      "text/html": [
       "<div>\n",
       "<style scoped>\n",
       "    .dataframe tbody tr th:only-of-type {\n",
       "        vertical-align: middle;\n",
       "    }\n",
       "\n",
       "    .dataframe tbody tr th {\n",
       "        vertical-align: top;\n",
       "    }\n",
       "\n",
       "    .dataframe thead th {\n",
       "        text-align: right;\n",
       "    }\n",
       "</style>\n",
       "<table border=\"1\" class=\"dataframe\">\n",
       "  <thead>\n",
       "    <tr style=\"text-align: right;\">\n",
       "      <th></th>\n",
       "      <th>problem</th>\n",
       "      <th>MDC</th>\n",
       "      <th>preRace</th>\n",
       "      <th>race</th>\n",
       "      <th>gender</th>\n",
       "      <th>lat</th>\n",
       "      <th>long</th>\n",
       "      <th>policePrecinct</th>\n",
       "      <th>neighborhood</th>\n",
       "      <th>population</th>\n",
       "      <th>...</th>\n",
       "      <th>hhIncome</th>\n",
       "      <th>poverty</th>\n",
       "      <th>collegeGrad</th>\n",
       "      <th>outcome</th>\n",
       "      <th>race_MISSING</th>\n",
       "      <th>gender_MISSING</th>\n",
       "      <th>month</th>\n",
       "      <th>day</th>\n",
       "      <th>hour</th>\n",
       "      <th>race_confusion</th>\n",
       "    </tr>\n",
       "  </thead>\n",
       "  <tbody>\n",
       "    <tr>\n",
       "      <th>33578</th>\n",
       "      <td>traffic</td>\n",
       "      <td>MDC</td>\n",
       "      <td>Unknown</td>\n",
       "      <td>White</td>\n",
       "      <td>Male</td>\n",
       "      <td>44.991982</td>\n",
       "      <td>-93.217693</td>\n",
       "      <td>2</td>\n",
       "      <td>Mid - City Industrial</td>\n",
       "      <td>240.0</td>\n",
       "      <td>...</td>\n",
       "      <td>38875.0</td>\n",
       "      <td>0.067</td>\n",
       "      <td>0.568</td>\n",
       "      <td>none</td>\n",
       "      <td>False</td>\n",
       "      <td>False</td>\n",
       "      <td>9</td>\n",
       "      <td>1</td>\n",
       "      <td>22</td>\n",
       "      <td>True</td>\n",
       "    </tr>\n",
       "    <tr>\n",
       "      <th>50084</th>\n",
       "      <td>traffic</td>\n",
       "      <td>MDC</td>\n",
       "      <td>White</td>\n",
       "      <td>White</td>\n",
       "      <td>Female</td>\n",
       "      <td>44.905100</td>\n",
       "      <td>-93.295294</td>\n",
       "      <td>5</td>\n",
       "      <td>Lynnhurst</td>\n",
       "      <td>5934.0</td>\n",
       "      <td>...</td>\n",
       "      <td>118202.0</td>\n",
       "      <td>0.031</td>\n",
       "      <td>0.763</td>\n",
       "      <td>none</td>\n",
       "      <td>False</td>\n",
       "      <td>False</td>\n",
       "      <td>3</td>\n",
       "      <td>2</td>\n",
       "      <td>13</td>\n",
       "      <td>False</td>\n",
       "    </tr>\n",
       "    <tr>\n",
       "      <th>4992</th>\n",
       "      <td>suspicious</td>\n",
       "      <td>MDC</td>\n",
       "      <td>Unknown</td>\n",
       "      <td>Native American</td>\n",
       "      <td>Male</td>\n",
       "      <td>44.978210</td>\n",
       "      <td>-93.269290</td>\n",
       "      <td>1</td>\n",
       "      <td>Downtown West</td>\n",
       "      <td>7141.0</td>\n",
       "      <td>...</td>\n",
       "      <td>67086.0</td>\n",
       "      <td>0.057</td>\n",
       "      <td>0.551</td>\n",
       "      <td>none</td>\n",
       "      <td>False</td>\n",
       "      <td>False</td>\n",
       "      <td>12</td>\n",
       "      <td>5</td>\n",
       "      <td>11</td>\n",
       "      <td>True</td>\n",
       "    </tr>\n",
       "    <tr>\n",
       "      <th>37555</th>\n",
       "      <td>traffic</td>\n",
       "      <td>MDC</td>\n",
       "      <td>Unknown</td>\n",
       "      <td>White</td>\n",
       "      <td>Unknown</td>\n",
       "      <td>44.992669</td>\n",
       "      <td>-93.237184</td>\n",
       "      <td>2</td>\n",
       "      <td>Como</td>\n",
       "      <td>16022.0</td>\n",
       "      <td>...</td>\n",
       "      <td>67600.0</td>\n",
       "      <td>0.037</td>\n",
       "      <td>0.549</td>\n",
       "      <td>none</td>\n",
       "      <td>False</td>\n",
       "      <td>False</td>\n",
       "      <td>1</td>\n",
       "      <td>24</td>\n",
       "      <td>10</td>\n",
       "      <td>True</td>\n",
       "    </tr>\n",
       "    <tr>\n",
       "      <th>16288</th>\n",
       "      <td>suspicious</td>\n",
       "      <td>MDC</td>\n",
       "      <td>Unknown</td>\n",
       "      <td>Unknown</td>\n",
       "      <td>Male</td>\n",
       "      <td>44.956435</td>\n",
       "      <td>-93.294405</td>\n",
       "      <td>5</td>\n",
       "      <td>Lowry Hill East</td>\n",
       "      <td>6357.0</td>\n",
       "      <td>...</td>\n",
       "      <td>49868.0</td>\n",
       "      <td>0.066</td>\n",
       "      <td>0.569</td>\n",
       "      <td>none</td>\n",
       "      <td>False</td>\n",
       "      <td>False</td>\n",
       "      <td>7</td>\n",
       "      <td>31</td>\n",
       "      <td>13</td>\n",
       "      <td>False</td>\n",
       "    </tr>\n",
       "  </tbody>\n",
       "</table>\n",
       "<p>5 rows × 23 columns</p>\n",
       "</div>"
      ],
      "text/plain": [
       "          problem  MDC  preRace             race   gender        lat  \\\n",
       "33578     traffic  MDC  Unknown            White     Male  44.991982   \n",
       "50084     traffic  MDC    White            White   Female  44.905100   \n",
       "4992   suspicious  MDC  Unknown  Native American     Male  44.978210   \n",
       "37555     traffic  MDC  Unknown            White  Unknown  44.992669   \n",
       "16288  suspicious  MDC  Unknown          Unknown     Male  44.956435   \n",
       "\n",
       "            long  policePrecinct           neighborhood  population  ...  \\\n",
       "33578 -93.217693               2  Mid - City Industrial       240.0  ...   \n",
       "50084 -93.295294               5              Lynnhurst      5934.0  ...   \n",
       "4992  -93.269290               1          Downtown West      7141.0  ...   \n",
       "37555 -93.237184               2                   Como     16022.0  ...   \n",
       "16288 -93.294405               5        Lowry Hill East      6357.0  ...   \n",
       "\n",
       "       hhIncome  poverty  collegeGrad  outcome  race_MISSING  gender_MISSING  \\\n",
       "33578   38875.0    0.067        0.568     none         False           False   \n",
       "50084  118202.0    0.031        0.763     none         False           False   \n",
       "4992    67086.0    0.057        0.551     none         False           False   \n",
       "37555   67600.0    0.037        0.549     none         False           False   \n",
       "16288   49868.0    0.066        0.569     none         False           False   \n",
       "\n",
       "      month  day  hour  race_confusion  \n",
       "33578     9    1    22            True  \n",
       "50084     3    2    13           False  \n",
       "4992     12    5    11            True  \n",
       "37555     1   24    10            True  \n",
       "16288     7   31    13           False  \n",
       "\n",
       "[5 rows x 23 columns]"
      ]
     },
     "execution_count": 298,
     "metadata": {},
     "output_type": "execute_result"
    }
   ],
   "source": [
    "train.head()"
   ]
  },
  {
   "cell_type": "code",
   "execution_count": 299,
   "metadata": {},
   "outputs": [],
   "source": [
    "target = 'outcome'\n",
    "\n",
    "X_train = train.drop(columns=target)\n",
    "y_train = train[target]\n",
    "X_val = val.drop(columns=target)\n",
    "y_val = val[target]\n",
    "X_test = test.drop(columns=target)\n",
    "y_test = test[target]"
   ]
  },
  {
   "cell_type": "code",
   "execution_count": 333,
   "metadata": {},
   "outputs": [
    {
     "name": "stdout",
     "output_type": "stream",
     "text": [
      "Validation Accuracy 0.8375060182956187\n"
     ]
    }
   ],
   "source": [
    "import category_encoders as ce\n",
    "from sklearn.impute import SimpleImputer\n",
    "from sklearn.ensemble import RandomForestClassifier\n",
    "\n",
    "from sklearn.pipeline import make_pipeline\n",
    "\n",
    "pipeline1 = make_pipeline(\n",
    "    ce.OrdinalEncoder(), \n",
    "    SimpleImputer(strategy='median'), \n",
    "    RandomForestClassifier(n_estimators=100, random_state=42, n_jobs=-1)\n",
    ")\n",
    "\n",
    "pipeline.fit(X_train, y_train)\n",
    "print('Validation Accuracy', pipeline.score(X_val, y_val))"
   ]
  },
  {
   "cell_type": "markdown",
   "metadata": {},
   "source": [
    "Fit a model. Does it beat your baseline?\n",
    "\n",
    "Our baseline is 68% \n",
    "With minimal feature engineering \n",
    "and basic RandomForestClassifier model, \n",
    "we're up to 81%. A good Start!\n",
    "With date features, racial confusion, up to 84%"
   ]
  },
  {
   "cell_type": "markdown",
   "metadata": {},
   "source": [
    "Unit 2, Sprint 3, Module 2\n",
    "Permutation & Boosting\n",
    "\n",
    " \n",
    "Continue to clean and explore your data. Make exploratory visualizations.\n",
    "Complete Engineering with initial ideas. \n",
    "\n",
    "Try xgboost.\n",
    "Get your model's permutation importances.\n",
    "\n"
   ]
  },
  {
   "cell_type": "code",
   "execution_count": 301,
   "metadata": {},
   "outputs": [
    {
     "data": {
      "text/plain": [
       "RandomForestClassifier(bootstrap=True, class_weight=None, criterion='gini',\n",
       "                       max_depth=None, max_features='auto', max_leaf_nodes=None,\n",
       "                       min_impurity_decrease=0.0, min_impurity_split=None,\n",
       "                       min_samples_leaf=1, min_samples_split=2,\n",
       "                       min_weight_fraction_leaf=0.0, n_estimators=100,\n",
       "                       n_jobs=-1, oob_score=False, random_state=42, verbose=0,\n",
       "                       warm_start=False)"
      ]
     },
     "execution_count": 301,
     "metadata": {},
     "output_type": "execute_result"
    }
   ],
   "source": [
    "transformers = make_pipeline(\n",
    "    ce.OrdinalEncoder(),\n",
    "    SimpleImputer(strategy='median')\n",
    ")\n",
    "\n",
    "X_train_transformed = transformers.fit_transform(X_train)\n",
    "X_val_transformed = transformers.transform(X_val)\n",
    "\n",
    "model = RandomForestClassifier(n_estimators=100, random_state=42, n_jobs=-1)\n",
    "model.fit(X_train_transformed, y_train)"
   ]
  },
  {
   "cell_type": "code",
   "execution_count": 302,
   "metadata": {},
   "outputs": [
    {
     "data": {
      "text/plain": [
       "PermutationImportance(cv='prefit',\n",
       "                      estimator=RandomForestClassifier(bootstrap=True,\n",
       "                                                       class_weight=None,\n",
       "                                                       criterion='gini',\n",
       "                                                       max_depth=None,\n",
       "                                                       max_features='auto',\n",
       "                                                       max_leaf_nodes=None,\n",
       "                                                       min_impurity_decrease=0.0,\n",
       "                                                       min_impurity_split=None,\n",
       "                                                       min_samples_leaf=1,\n",
       "                                                       min_samples_split=2,\n",
       "                                                       min_weight_fraction_leaf=0.0,\n",
       "                                                       n_estimators=100,\n",
       "                                                       n_jobs=-1,\n",
       "                                                       oob_score=False,\n",
       "                                                       random_state=42,\n",
       "                                                       verbose=0,\n",
       "                                                       warm_start=False),\n",
       "                      n_iter=5, random_state=42, refit=True,\n",
       "                      scoring='accuracy')"
      ]
     },
     "execution_count": 302,
     "metadata": {},
     "output_type": "execute_result"
    }
   ],
   "source": [
    "import eli5\n",
    "from eli5.sklearn import PermutationImportance\n",
    "\n",
    "permuter = PermutationImportance(\n",
    "    model,\n",
    "    scoring='accuracy',\n",
    "    n_iter=5,\n",
    "    random_state=42\n",
    ")\n",
    "\n",
    "permuter.fit(X_val_transformed, y_val)"
   ]
  },
  {
   "cell_type": "code",
   "execution_count": 303,
   "metadata": {},
   "outputs": [
    {
     "data": {
      "text/plain": [
       "month             0.013385\n",
       "problem           0.009076\n",
       "hour              0.005513\n",
       "day               0.001757\n",
       "lat               0.000867\n",
       "gender            0.000578\n",
       "MDC               0.000506\n",
       "collegeGrad       0.000361\n",
       "race             -0.000048\n",
       "race_MISSING     -0.000072\n",
       "gender_MISSING   -0.000169\n",
       "hhIncome         -0.000193\n",
       "long             -0.000265\n",
       "foreignBorn      -0.000626\n",
       "poverty          -0.000843\n",
       "policePrecinct   -0.000915\n",
       "preRace          -0.001396\n",
       "population       -0.001468\n",
       "race_confusion   -0.001541\n",
       "white            -0.001709\n",
       "neighborhood     -0.001805\n",
       "black            -0.002022\n",
       "dtype: float64"
      ]
     },
     "execution_count": 303,
     "metadata": {},
     "output_type": "execute_result"
    }
   ],
   "source": [
    "feature_names = X_val.columns.tolist()\n",
    "pd.Series(permuter.feature_importances_,\n",
    "         feature_names).sort_values(ascending=False)"
   ]
  },
  {
   "cell_type": "code",
   "execution_count": 304,
   "metadata": {},
   "outputs": [
    {
     "data": {
      "text/html": [
       "\n",
       "    <style>\n",
       "    table.eli5-weights tr:hover {\n",
       "        filter: brightness(85%);\n",
       "    }\n",
       "</style>\n",
       "\n",
       "\n",
       "\n",
       "    \n",
       "\n",
       "    \n",
       "\n",
       "    \n",
       "\n",
       "    \n",
       "\n",
       "    \n",
       "\n",
       "    \n",
       "\n",
       "\n",
       "    \n",
       "\n",
       "    \n",
       "\n",
       "    \n",
       "\n",
       "    \n",
       "\n",
       "    \n",
       "\n",
       "    \n",
       "\n",
       "\n",
       "    \n",
       "\n",
       "    \n",
       "\n",
       "    \n",
       "\n",
       "    \n",
       "\n",
       "    \n",
       "        <table class=\"eli5-weights eli5-feature-importances\" style=\"border-collapse: collapse; border: none; margin-top: 0em; table-layout: auto;\">\n",
       "    <thead>\n",
       "    <tr style=\"border: none;\">\n",
       "        <th style=\"padding: 0 1em 0 0.5em; text-align: right; border: none;\">Weight</th>\n",
       "        <th style=\"padding: 0 0.5em 0 0.5em; text-align: left; border: none;\">Feature</th>\n",
       "    </tr>\n",
       "    </thead>\n",
       "    <tbody>\n",
       "    \n",
       "        <tr style=\"background-color: hsl(120, 100.00%, 80.00%); border: none;\">\n",
       "            <td style=\"padding: 0 1em 0 0.5em; text-align: right; border: none;\">\n",
       "                0.0134\n",
       "                \n",
       "                    &plusmn; 0.0027\n",
       "                \n",
       "            </td>\n",
       "            <td style=\"padding: 0 0.5em 0 0.5em; text-align: left; border: none;\">\n",
       "                month\n",
       "            </td>\n",
       "        </tr>\n",
       "    \n",
       "        <tr style=\"background-color: hsl(120, 100.00%, 84.76%); border: none;\">\n",
       "            <td style=\"padding: 0 1em 0 0.5em; text-align: right; border: none;\">\n",
       "                0.0091\n",
       "                \n",
       "                    &plusmn; 0.0022\n",
       "                \n",
       "            </td>\n",
       "            <td style=\"padding: 0 0.5em 0 0.5em; text-align: left; border: none;\">\n",
       "                problem\n",
       "            </td>\n",
       "        </tr>\n",
       "    \n",
       "        <tr style=\"background-color: hsl(120, 100.00%, 89.25%); border: none;\">\n",
       "            <td style=\"padding: 0 1em 0 0.5em; text-align: right; border: none;\">\n",
       "                0.0055\n",
       "                \n",
       "                    &plusmn; 0.0027\n",
       "                \n",
       "            </td>\n",
       "            <td style=\"padding: 0 0.5em 0 0.5em; text-align: left; border: none;\">\n",
       "                hour\n",
       "            </td>\n",
       "        </tr>\n",
       "    \n",
       "        <tr style=\"background-color: hsl(120, 100.00%, 95.17%); border: none;\">\n",
       "            <td style=\"padding: 0 1em 0 0.5em; text-align: right; border: none;\">\n",
       "                0.0018\n",
       "                \n",
       "                    &plusmn; 0.0026\n",
       "                \n",
       "            </td>\n",
       "            <td style=\"padding: 0 0.5em 0 0.5em; text-align: left; border: none;\">\n",
       "                day\n",
       "            </td>\n",
       "        </tr>\n",
       "    \n",
       "        <tr style=\"background-color: hsl(120, 100.00%, 97.06%); border: none;\">\n",
       "            <td style=\"padding: 0 1em 0 0.5em; text-align: right; border: none;\">\n",
       "                0.0009\n",
       "                \n",
       "                    &plusmn; 0.0032\n",
       "                \n",
       "            </td>\n",
       "            <td style=\"padding: 0 0.5em 0 0.5em; text-align: left; border: none;\">\n",
       "                lat\n",
       "            </td>\n",
       "        </tr>\n",
       "    \n",
       "        <tr style=\"background-color: hsl(120, 100.00%, 97.78%); border: none;\">\n",
       "            <td style=\"padding: 0 1em 0 0.5em; text-align: right; border: none;\">\n",
       "                0.0006\n",
       "                \n",
       "                    &plusmn; 0.0038\n",
       "                \n",
       "            </td>\n",
       "            <td style=\"padding: 0 0.5em 0 0.5em; text-align: left; border: none;\">\n",
       "                gender\n",
       "            </td>\n",
       "        </tr>\n",
       "    \n",
       "        <tr style=\"background-color: hsl(120, 100.00%, 97.98%); border: none;\">\n",
       "            <td style=\"padding: 0 1em 0 0.5em; text-align: right; border: none;\">\n",
       "                0.0005\n",
       "                \n",
       "                    &plusmn; 0.0004\n",
       "                \n",
       "            </td>\n",
       "            <td style=\"padding: 0 0.5em 0 0.5em; text-align: left; border: none;\">\n",
       "                MDC\n",
       "            </td>\n",
       "        </tr>\n",
       "    \n",
       "        <tr style=\"background-color: hsl(120, 100.00%, 98.41%); border: none;\">\n",
       "            <td style=\"padding: 0 1em 0 0.5em; text-align: right; border: none;\">\n",
       "                0.0004\n",
       "                \n",
       "                    &plusmn; 0.0018\n",
       "                \n",
       "            </td>\n",
       "            <td style=\"padding: 0 0.5em 0 0.5em; text-align: left; border: none;\">\n",
       "                collegeGrad\n",
       "            </td>\n",
       "        </tr>\n",
       "    \n",
       "        <tr style=\"background-color: hsl(0, 100.00%, 99.61%); border: none;\">\n",
       "            <td style=\"padding: 0 1em 0 0.5em; text-align: right; border: none;\">\n",
       "                -0.0000\n",
       "                \n",
       "                    &plusmn; 0.0030\n",
       "                \n",
       "            </td>\n",
       "            <td style=\"padding: 0 0.5em 0 0.5em; text-align: left; border: none;\">\n",
       "                race\n",
       "            </td>\n",
       "        </tr>\n",
       "    \n",
       "        <tr style=\"background-color: hsl(0, 100.00%, 99.48%); border: none;\">\n",
       "            <td style=\"padding: 0 1em 0 0.5em; text-align: right; border: none;\">\n",
       "                -0.0001\n",
       "                \n",
       "                    &plusmn; 0.0007\n",
       "                \n",
       "            </td>\n",
       "            <td style=\"padding: 0 0.5em 0 0.5em; text-align: left; border: none;\">\n",
       "                race_MISSING\n",
       "            </td>\n",
       "        </tr>\n",
       "    \n",
       "        <tr style=\"background-color: hsl(0, 100.00%, 99.06%); border: none;\">\n",
       "            <td style=\"padding: 0 1em 0 0.5em; text-align: right; border: none;\">\n",
       "                -0.0002\n",
       "                \n",
       "                    &plusmn; 0.0010\n",
       "                \n",
       "            </td>\n",
       "            <td style=\"padding: 0 0.5em 0 0.5em; text-align: left; border: none;\">\n",
       "                gender_MISSING\n",
       "            </td>\n",
       "        </tr>\n",
       "    \n",
       "        <tr style=\"background-color: hsl(0, 100.00%, 98.97%); border: none;\">\n",
       "            <td style=\"padding: 0 1em 0 0.5em; text-align: right; border: none;\">\n",
       "                -0.0002\n",
       "                \n",
       "                    &plusmn; 0.0003\n",
       "                \n",
       "            </td>\n",
       "            <td style=\"padding: 0 0.5em 0 0.5em; text-align: left; border: none;\">\n",
       "                hhIncome\n",
       "            </td>\n",
       "        </tr>\n",
       "    \n",
       "        <tr style=\"background-color: hsl(0, 100.00%, 98.72%); border: none;\">\n",
       "            <td style=\"padding: 0 1em 0 0.5em; text-align: right; border: none;\">\n",
       "                -0.0003\n",
       "                \n",
       "                    &plusmn; 0.0036\n",
       "                \n",
       "            </td>\n",
       "            <td style=\"padding: 0 0.5em 0 0.5em; text-align: left; border: none;\">\n",
       "                long\n",
       "            </td>\n",
       "        </tr>\n",
       "    \n",
       "        <tr style=\"background-color: hsl(0, 100.00%, 97.66%); border: none;\">\n",
       "            <td style=\"padding: 0 1em 0 0.5em; text-align: right; border: none;\">\n",
       "                -0.0006\n",
       "                \n",
       "                    &plusmn; 0.0017\n",
       "                \n",
       "            </td>\n",
       "            <td style=\"padding: 0 0.5em 0 0.5em; text-align: left; border: none;\">\n",
       "                foreignBorn\n",
       "            </td>\n",
       "        </tr>\n",
       "    \n",
       "        <tr style=\"background-color: hsl(0, 100.00%, 97.11%); border: none;\">\n",
       "            <td style=\"padding: 0 1em 0 0.5em; text-align: right; border: none;\">\n",
       "                -0.0008\n",
       "                \n",
       "                    &plusmn; 0.0011\n",
       "                \n",
       "            </td>\n",
       "            <td style=\"padding: 0 0.5em 0 0.5em; text-align: left; border: none;\">\n",
       "                poverty\n",
       "            </td>\n",
       "        </tr>\n",
       "    \n",
       "        <tr style=\"background-color: hsl(0, 100.00%, 96.94%); border: none;\">\n",
       "            <td style=\"padding: 0 1em 0 0.5em; text-align: right; border: none;\">\n",
       "                -0.0009\n",
       "                \n",
       "                    &plusmn; 0.0017\n",
       "                \n",
       "            </td>\n",
       "            <td style=\"padding: 0 0.5em 0 0.5em; text-align: left; border: none;\">\n",
       "                policePrecinct\n",
       "            </td>\n",
       "        </tr>\n",
       "    \n",
       "        <tr style=\"background-color: hsl(0, 100.00%, 95.89%); border: none;\">\n",
       "            <td style=\"padding: 0 1em 0 0.5em; text-align: right; border: none;\">\n",
       "                -0.0014\n",
       "                \n",
       "                    &plusmn; 0.0022\n",
       "                \n",
       "            </td>\n",
       "            <td style=\"padding: 0 0.5em 0 0.5em; text-align: left; border: none;\">\n",
       "                preRace\n",
       "            </td>\n",
       "        </tr>\n",
       "    \n",
       "        <tr style=\"background-color: hsl(0, 100.00%, 95.74%); border: none;\">\n",
       "            <td style=\"padding: 0 1em 0 0.5em; text-align: right; border: none;\">\n",
       "                -0.0015\n",
       "                \n",
       "                    &plusmn; 0.0009\n",
       "                \n",
       "            </td>\n",
       "            <td style=\"padding: 0 0.5em 0 0.5em; text-align: left; border: none;\">\n",
       "                population\n",
       "            </td>\n",
       "        </tr>\n",
       "    \n",
       "        <tr style=\"background-color: hsl(0, 100.00%, 95.60%); border: none;\">\n",
       "            <td style=\"padding: 0 1em 0 0.5em; text-align: right; border: none;\">\n",
       "                -0.0015\n",
       "                \n",
       "                    &plusmn; 0.0012\n",
       "                \n",
       "            </td>\n",
       "            <td style=\"padding: 0 0.5em 0 0.5em; text-align: left; border: none;\">\n",
       "                race_confusion\n",
       "            </td>\n",
       "        </tr>\n",
       "    \n",
       "        <tr style=\"background-color: hsl(0, 100.00%, 95.26%); border: none;\">\n",
       "            <td style=\"padding: 0 1em 0 0.5em; text-align: right; border: none;\">\n",
       "                -0.0017\n",
       "                \n",
       "                    &plusmn; 0.0023\n",
       "                \n",
       "            </td>\n",
       "            <td style=\"padding: 0 0.5em 0 0.5em; text-align: left; border: none;\">\n",
       "                white\n",
       "            </td>\n",
       "        </tr>\n",
       "    \n",
       "        <tr style=\"background-color: hsl(0, 100.00%, 95.08%); border: none;\">\n",
       "            <td style=\"padding: 0 1em 0 0.5em; text-align: right; border: none;\">\n",
       "                -0.0018\n",
       "                \n",
       "                    &plusmn; 0.0007\n",
       "                \n",
       "            </td>\n",
       "            <td style=\"padding: 0 0.5em 0 0.5em; text-align: left; border: none;\">\n",
       "                neighborhood\n",
       "            </td>\n",
       "        </tr>\n",
       "    \n",
       "        <tr style=\"background-color: hsl(0, 100.00%, 94.67%); border: none;\">\n",
       "            <td style=\"padding: 0 1em 0 0.5em; text-align: right; border: none;\">\n",
       "                -0.0020\n",
       "                \n",
       "                    &plusmn; 0.0014\n",
       "                \n",
       "            </td>\n",
       "            <td style=\"padding: 0 0.5em 0 0.5em; text-align: left; border: none;\">\n",
       "                black\n",
       "            </td>\n",
       "        </tr>\n",
       "    \n",
       "    \n",
       "    </tbody>\n",
       "</table>\n",
       "    \n",
       "\n",
       "    \n",
       "\n",
       "\n",
       "    \n",
       "\n",
       "    \n",
       "\n",
       "    \n",
       "\n",
       "    \n",
       "\n",
       "    \n",
       "\n",
       "    \n",
       "\n",
       "\n",
       "\n"
      ],
      "text/plain": [
       "<IPython.core.display.HTML object>"
      ]
     },
     "execution_count": 304,
     "metadata": {},
     "output_type": "execute_result"
    }
   ],
   "source": [
    "feature_names = X_val.columns.tolist()\n",
    "\n",
    "eli5.show_weights(\n",
    "    permuter,\n",
    "    top=None, # show permutation importances for all features\n",
    "    feature_names=feature_names\n",
    ")"
   ]
  },
  {
   "cell_type": "code",
   "execution_count": 305,
   "metadata": {},
   "outputs": [
    {
     "name": "stdout",
     "output_type": "stream",
     "text": [
      "Shape before removing features: (33228, 22)\n"
     ]
    }
   ],
   "source": [
    "print('Shape before removing features:', X_train.shape)"
   ]
  },
  {
   "cell_type": "code",
   "execution_count": 306,
   "metadata": {},
   "outputs": [],
   "source": [
    "minimum_importance = -0.0003\n",
    "mask = permuter.feature_importances_ > minimum_importance\n",
    "features = X_train.columns[mask]\n",
    "X_train = X_train[features]"
   ]
  },
  {
   "cell_type": "code",
   "execution_count": 307,
   "metadata": {},
   "outputs": [
    {
     "name": "stdout",
     "output_type": "stream",
     "text": [
      "Shape after removing features: (33228, 13)\n"
     ]
    }
   ],
   "source": [
    "print('Shape after removing features:', X_train.shape)"
   ]
  },
  {
   "cell_type": "code",
   "execution_count": 308,
   "metadata": {},
   "outputs": [
    {
     "name": "stdout",
     "output_type": "stream",
     "text": [
      "Validation Accuracy 0.8396726047183438\n"
     ]
    }
   ],
   "source": [
    "X_val = X_val[features]\n",
    "\n",
    "pipeline = make_pipeline(\n",
    "    ce.OrdinalEncoder(), \n",
    "    SimpleImputer(strategy='median'), \n",
    "    RandomForestClassifier(n_estimators=100, random_state=42, n_jobs=-1)\n",
    ")\n",
    "\n",
    "# Fit on train, score on val\n",
    "pipeline.fit(X_train, y_train)\n",
    "print('Validation Accuracy', pipeline.score(X_val, y_val))"
   ]
  },
  {
   "cell_type": "markdown",
   "metadata": {},
   "source": [
    "removing features slightly lowered our validation"
   ]
  },
  {
   "cell_type": "code",
   "execution_count": 309,
   "metadata": {},
   "outputs": [
    {
     "data": {
      "text/plain": [
       "MDC      27967\n",
       "other     5261\n",
       "Name: MDC, dtype: int64"
      ]
     },
     "execution_count": 309,
     "metadata": {},
     "output_type": "execute_result"
    }
   ],
   "source": [
    "train['MDC'].value_counts()"
   ]
  },
  {
   "cell_type": "code",
   "execution_count": 314,
   "metadata": {},
   "outputs": [
    {
     "data": {
      "text/plain": [
       "Pipeline(memory=None,\n",
       "         steps=[('ordinalencoder',\n",
       "                 OrdinalEncoder(cols=['problem', 'MDC', 'race', 'gender'],\n",
       "                                drop_invariant=False, handle_missing='value',\n",
       "                                handle_unknown='value',\n",
       "                                mapping=[{'col': 'problem',\n",
       "                                          'data_type': dtype('O'),\n",
       "                                          'mapping': traffic       1\n",
       "suspicious    2\n",
       "NaN          -2\n",
       "dtype: int64},\n",
       "                                         {'col': 'MDC', 'data_type': dtype('O'),\n",
       "                                          'mapping': MDC      1\n",
       "other    2\n",
       "NaN     -2\n",
       "dtype: int64},\n",
       "                                         {'col': 'race'...\n",
       "                 XGBClassifier(base_score=0.5, booster='gbtree',\n",
       "                               colsample_bylevel=1, colsample_bynode=1,\n",
       "                               colsample_bytree=1, gamma=0, learning_rate=0.1,\n",
       "                               max_delta_step=0, max_depth=3,\n",
       "                               min_child_weight=1, missing=None,\n",
       "                               n_estimators=100, n_jobs=-1, nthread=None,\n",
       "                               objective='multi:softprob', random_state=42,\n",
       "                               reg_alpha=0, reg_lambda=1, scale_pos_weight=1,\n",
       "                               seed=None, silent=None, subsample=1,\n",
       "                               verbosity=1))],\n",
       "         verbose=False)"
      ]
     },
     "execution_count": 314,
     "metadata": {},
     "output_type": "execute_result"
    }
   ],
   "source": [
    "from xgboost import XGBClassifier\n",
    "\n",
    "xgb = make_pipeline(\n",
    "    ce.OrdinalEncoder(), \n",
    "    XGBClassifier(n_estimators=100, random_state=42, n_jobs=-1)\n",
    ")\n",
    "\n",
    "xgb.fit(X_train, y_train)"
   ]
  },
  {
   "cell_type": "code",
   "execution_count": 315,
   "metadata": {},
   "outputs": [
    {
     "name": "stdout",
     "output_type": "stream",
     "text": [
      "Validation Accuracy 0.8375060182956187\n"
     ]
    }
   ],
   "source": [
    "from sklearn.metrics import accuracy_score\n",
    "y_pred = pipeline.predict(X_val)\n",
    "print('Validation Accuracy', accuracy_score(y_val, y_pred))"
   ]
  },
  {
   "cell_type": "code",
   "execution_count": 312,
   "metadata": {},
   "outputs": [
    {
     "name": "stdout",
     "output_type": "stream",
     "text": [
      "[0]\tvalidation_0-merror:0.15821\tvalidation_1-merror:0.163216\n",
      "Multiple eval metrics have been passed: 'validation_1-merror' will be used for early stopping.\n",
      "\n",
      "Will train until validation_1-merror hasn't improved in 50 rounds.\n",
      "[1]\tvalidation_0-merror:0.158391\tvalidation_1-merror:0.161892\n",
      "[2]\tvalidation_0-merror:0.157277\tvalidation_1-merror:0.16105\n",
      "[3]\tvalidation_0-merror:0.156765\tvalidation_1-merror:0.16117\n",
      "[4]\tvalidation_0-merror:0.156434\tvalidation_1-merror:0.16105\n",
      "[5]\tvalidation_0-merror:0.155441\tvalidation_1-merror:0.161651\n",
      "[6]\tvalidation_0-merror:0.15511\tvalidation_1-merror:0.161651\n",
      "[7]\tvalidation_0-merror:0.154538\tvalidation_1-merror:0.161531\n",
      "[8]\tvalidation_0-merror:0.153184\tvalidation_1-merror:0.161892\n",
      "[9]\tvalidation_0-merror:0.152462\tvalidation_1-merror:0.162374\n",
      "[10]\tvalidation_0-merror:0.151679\tvalidation_1-merror:0.161411\n",
      "[11]\tvalidation_0-merror:0.150114\tvalidation_1-merror:0.161411\n",
      "[12]\tvalidation_0-merror:0.149874\tvalidation_1-merror:0.16105\n",
      "[13]\tvalidation_0-merror:0.148459\tvalidation_1-merror:0.161651\n",
      "[14]\tvalidation_0-merror:0.146383\tvalidation_1-merror:0.160327\n",
      "[15]\tvalidation_0-merror:0.14563\tvalidation_1-merror:0.160568\n",
      "[16]\tvalidation_0-merror:0.143192\tvalidation_1-merror:0.160087\n",
      "[17]\tvalidation_0-merror:0.141898\tvalidation_1-merror:0.159846\n",
      "[18]\tvalidation_0-merror:0.141236\tvalidation_1-merror:0.159605\n",
      "[19]\tvalidation_0-merror:0.138949\tvalidation_1-merror:0.160087\n",
      "[20]\tvalidation_0-merror:0.137595\tvalidation_1-merror:0.159966\n",
      "[21]\tvalidation_0-merror:0.135308\tvalidation_1-merror:0.160087\n",
      "[22]\tvalidation_0-merror:0.133622\tvalidation_1-merror:0.160568\n",
      "[23]\tvalidation_0-merror:0.132629\tvalidation_1-merror:0.160688\n",
      "[24]\tvalidation_0-merror:0.130703\tvalidation_1-merror:0.160809\n",
      "[25]\tvalidation_0-merror:0.129589\tvalidation_1-merror:0.16105\n",
      "[26]\tvalidation_0-merror:0.128145\tvalidation_1-merror:0.161772\n",
      "[27]\tvalidation_0-merror:0.126971\tvalidation_1-merror:0.162133\n",
      "[28]\tvalidation_0-merror:0.126279\tvalidation_1-merror:0.162494\n",
      "[29]\tvalidation_0-merror:0.125075\tvalidation_1-merror:0.162013\n",
      "[30]\tvalidation_0-merror:0.123932\tvalidation_1-merror:0.163216\n",
      "[31]\tvalidation_0-merror:0.122638\tvalidation_1-merror:0.163216\n",
      "[32]\tvalidation_0-merror:0.121374\tvalidation_1-merror:0.163938\n",
      "[33]\tvalidation_0-merror:0.120561\tvalidation_1-merror:0.162855\n",
      "[34]\tvalidation_0-merror:0.119658\tvalidation_1-merror:0.162975\n",
      "[35]\tvalidation_0-merror:0.118906\tvalidation_1-merror:0.162614\n",
      "[36]\tvalidation_0-merror:0.116769\tvalidation_1-merror:0.163096\n",
      "[37]\tvalidation_0-merror:0.115746\tvalidation_1-merror:0.163337\n",
      "[38]\tvalidation_0-merror:0.113759\tvalidation_1-merror:0.162855\n",
      "[39]\tvalidation_0-merror:0.113549\tvalidation_1-merror:0.162735\n",
      "[40]\tvalidation_0-merror:0.112736\tvalidation_1-merror:0.163818\n",
      "[41]\tvalidation_0-merror:0.112014\tvalidation_1-merror:0.164901\n",
      "[42]\tvalidation_0-merror:0.110931\tvalidation_1-merror:0.16442\n",
      "[43]\tvalidation_0-merror:0.109035\tvalidation_1-merror:0.164179\n",
      "[44]\tvalidation_0-merror:0.107078\tvalidation_1-merror:0.164299\n",
      "[45]\tvalidation_0-merror:0.105483\tvalidation_1-merror:0.164901\n",
      "[46]\tvalidation_0-merror:0.103286\tvalidation_1-merror:0.16454\n",
      "[47]\tvalidation_0-merror:0.102293\tvalidation_1-merror:0.164179\n",
      "[48]\tvalidation_0-merror:0.10124\tvalidation_1-merror:0.164781\n",
      "[49]\tvalidation_0-merror:0.099585\tvalidation_1-merror:0.164299\n",
      "[50]\tvalidation_0-merror:0.09826\tvalidation_1-merror:0.165022\n",
      "[51]\tvalidation_0-merror:0.096786\tvalidation_1-merror:0.164901\n",
      "[52]\tvalidation_0-merror:0.09483\tvalidation_1-merror:0.164781\n",
      "[53]\tvalidation_0-merror:0.093265\tvalidation_1-merror:0.165744\n",
      "[54]\tvalidation_0-merror:0.091459\tvalidation_1-merror:0.165864\n",
      "[55]\tvalidation_0-merror:0.089834\tvalidation_1-merror:0.166707\n",
      "[56]\tvalidation_0-merror:0.088299\tvalidation_1-merror:0.166586\n",
      "[57]\tvalidation_0-merror:0.086523\tvalidation_1-merror:0.167188\n",
      "[58]\tvalidation_0-merror:0.084296\tvalidation_1-merror:0.166707\n",
      "[59]\tvalidation_0-merror:0.083574\tvalidation_1-merror:0.166827\n",
      "[60]\tvalidation_0-merror:0.081859\tvalidation_1-merror:0.167429\n",
      "[61]\tvalidation_0-merror:0.081227\tvalidation_1-merror:0.166948\n",
      "[62]\tvalidation_0-merror:0.080775\tvalidation_1-merror:0.167068\n",
      "[63]\tvalidation_0-merror:0.079511\tvalidation_1-merror:0.16767\n",
      "[64]\tvalidation_0-merror:0.078338\tvalidation_1-merror:0.16791\n",
      "[65]\tvalidation_0-merror:0.077344\tvalidation_1-merror:0.16779\n",
      "[66]\tvalidation_0-merror:0.0759\tvalidation_1-merror:0.16767\n",
      "[67]\tvalidation_0-merror:0.074245\tvalidation_1-merror:0.167549\n",
      "[68]\tvalidation_0-merror:0.073432\tvalidation_1-merror:0.167549\n",
      "Stopping. Best iteration:\n",
      "[18]\tvalidation_0-merror:0.141236\tvalidation_1-merror:0.159605\n",
      "\n"
     ]
    },
    {
     "data": {
      "text/plain": [
       "XGBClassifier(base_score=0.5, booster='gbtree', colsample_bylevel=1,\n",
       "              colsample_bynode=1, colsample_bytree=1, gamma=0,\n",
       "              learning_rate=0.5, max_delta_step=0, max_depth=7,\n",
       "              min_child_weight=1, missing=None, n_estimators=1000, n_jobs=-1,\n",
       "              nthread=None, objective='multi:softprob', random_state=0,\n",
       "              reg_alpha=0, reg_lambda=1, scale_pos_weight=1, seed=None,\n",
       "              silent=None, subsample=1, verbosity=1)"
      ]
     },
     "execution_count": 312,
     "metadata": {},
     "output_type": "execute_result"
    }
   ],
   "source": [
    "encoder = ce.OrdinalEncoder()\n",
    "X_train_encoded = encoder.fit_transform(X_train)\n",
    "X_val_encoded = encoder.transform(X_val)\n",
    "\n",
    "model = XGBClassifier(\n",
    "    n_estimators=1000,\n",
    "    max_depth=7,\n",
    "    learning_rate=0.5,\n",
    "    n_jobs=-1\n",
    ")\n",
    "\n",
    "eval_set = [(X_train_encoded, y_train),\n",
    "           (X_val_encoded, y_val)]\n",
    "\n",
    "model.fit(X_train_encoded, y_train,\n",
    "         eval_set=eval_set,\n",
    "         eval_metric='merror',\n",
    "         early_stopping_rounds=50)"
   ]
  },
  {
   "cell_type": "code",
   "execution_count": 294,
   "metadata": {},
   "outputs": [
    {
     "data": {
      "image/png": "[encoded data removed]",
      "text/plain": [
       "<Figure size 432x288 with 1 Axes>"
      ]
     },
     "metadata": {
      "needs_background": "light"
     },
     "output_type": "display_data"
    }
   ],
   "source": [
    "import matplotlib.pyplot as plt\n",
    "\n",
    "results = model.evals_result()\n",
    "train_error = results['validation_0']['merror']\n",
    "val_error = results['validation_1']['merror']\n",
    "epoch = range(1, len(train_error)+1)\n",
    "plt.plot(epoch, train_error, label='Train')\n",
    "plt.plot(epoch, val_error, label='Validation')\n",
    "plt.ylabel('Classification Error')\n",
    "plt.xlabel('Model Complexity (n_estimators)')\n",
    "plt.ylim((0.18, 0.22)) # Zoom in\n",
    "plt.legend();"
   ]
  },
  {
   "cell_type": "markdown",
   "metadata": {},
   "source": [
    "Assignment\n",
    "Complete these tasks for your project, and document your work.\n",
    "\n",
    "[ ] Continue to iterate on your project: data cleaning, exploration, feature engineering, modeling.\n",
    "[ ] Make at least 1 partial dependence plot to explain your model.\n",
    "[ ] Share at least 1 visualization on Slack.\n",
    "(If you have not yet completed an initial model yet for your portfolio project, then do today's assignment using your Tanzania Waterpumps model.)\n",
    "\n",
    "Stretch Goals\n",
    "[ ] Make multiple PDPs with 1 feature in isolation.\n",
    "[ ] Make multiple PDPs with 2 features in interaction.\n",
    "[ ] Use Plotly to make a 3D PDP.\n",
    "[ ] Make PDPs with categorical feature(s). Use Ordinal Encoder, outside of a pipeline, to encode your data first. If there is a natural ordering, then take the time to encode it that way, instead of random integers. Then use the encoded data with pdpbox. Get readable category names on your plot, instead of integer category codes."
   ]
  },
  {
   "cell_type": "code",
   "execution_count": null,
   "metadata": {},
   "outputs": [],
   "source": []
  },
  {
   "cell_type": "code",
   "execution_count": null,
   "metadata": {},
   "outputs": [],
   "source": []
  },
  {
   "cell_type": "code",
   "execution_count": null,
   "metadata": {},
   "outputs": [],
   "source": []
  },
  {
   "cell_type": "code",
   "execution_count": null,
   "metadata": {},
   "outputs": [],
   "source": []
  },
  {
   "cell_type": "code",
   "execution_count": 326,
   "metadata": {},
   "outputs": [],
   "source": [
    "from pdpbox.pdp import pdp_interact, pdp_isolate, pdp_interact_plot"
   ]
  },
  {
   "cell_type": "code",
   "execution_count": 337,
   "metadata": {},
   "outputs": [
    {
     "data": {
      "image/png": "[encoded data removed]",
      "text/plain": [
       "<Figure size 1080x1764 with 11 Axes>"
      ]
     },
     "metadata": {
      "needs_background": "light"
     },
     "output_type": "display_data"
    }
   ],
   "source": [
    "features = ['month', 'problem']\n",
    "\n",
    "interaction = pdp_interact(\n",
    "    model=model, \n",
    "    dataset=X_val_encoded, \n",
    "    model_features=X_val_encoded.columns, \n",
    "    features=features\n",
    ")\n",
    "\n",
    "pdp_interact_plot(interaction, plot_type='grid', feature_names=features);"
   ]
  },
  {
   "cell_type": "code",
   "execution_count": 336,
   "metadata": {},
   "outputs": [
    {
     "data": {
      "image/png": "[encoded data removed]",
      "text/plain": [
       "<Figure size 1080x1620 with 6 Axes>"
      ]
     },
     "metadata": {
      "needs_background": "light"
     },
     "output_type": "display_data"
    }
   ],
   "source": [
    "from pdpbox.pdp import pdp_isolate, pdp_plot\n",
    "\n",
    "feature = 'month'\n",
    "\n",
    "isolated = pdp_isolate(\n",
    "    model=model,\n",
    "    dataset=X_val_encoded,\n",
    "    model_features=X_val_encoded.columns,\n",
    "    feature=feature\n",
    ")\n",
    "\n",
    "pdp_plot(isolated, feature_name=feature);"
   ]
  },
  {
   "cell_type": "code",
   "execution_count": 332,
   "metadata": {},
   "outputs": [
    {
     "data": {
      "text/html": [
       "<div>\n",
       "<style scoped>\n",
       "    .dataframe tbody tr th:only-of-type {\n",
       "        vertical-align: middle;\n",
       "    }\n",
       "\n",
       "    .dataframe tbody tr th {\n",
       "        vertical-align: top;\n",
       "    }\n",
       "\n",
       "    .dataframe thead th {\n",
       "        text-align: right;\n",
       "    }\n",
       "</style>\n",
       "<table border=\"1\" class=\"dataframe\">\n",
       "  <thead>\n",
       "    <tr style=\"text-align: right;\">\n",
       "      <th></th>\n",
       "      <th>problem</th>\n",
       "      <th>MDC</th>\n",
       "      <th>preRace</th>\n",
       "      <th>race</th>\n",
       "      <th>gender</th>\n",
       "      <th>lat</th>\n",
       "      <th>long</th>\n",
       "      <th>policePrecinct</th>\n",
       "      <th>neighborhood</th>\n",
       "      <th>population</th>\n",
       "      <th>...</th>\n",
       "      <th>hhIncome</th>\n",
       "      <th>poverty</th>\n",
       "      <th>collegeGrad</th>\n",
       "      <th>outcome</th>\n",
       "      <th>race_MISSING</th>\n",
       "      <th>gender_MISSING</th>\n",
       "      <th>month</th>\n",
       "      <th>day</th>\n",
       "      <th>hour</th>\n",
       "      <th>race_confusion</th>\n",
       "    </tr>\n",
       "  </thead>\n",
       "  <tbody>\n",
       "    <tr>\n",
       "      <th>33578</th>\n",
       "      <td>traffic</td>\n",
       "      <td>MDC</td>\n",
       "      <td>Unknown</td>\n",
       "      <td>White</td>\n",
       "      <td>Male</td>\n",
       "      <td>44.991982</td>\n",
       "      <td>-93.217693</td>\n",
       "      <td>2</td>\n",
       "      <td>Mid - City Industrial</td>\n",
       "      <td>240.0</td>\n",
       "      <td>...</td>\n",
       "      <td>38875.0</td>\n",
       "      <td>0.067</td>\n",
       "      <td>0.568</td>\n",
       "      <td>none</td>\n",
       "      <td>False</td>\n",
       "      <td>False</td>\n",
       "      <td>9</td>\n",
       "      <td>1</td>\n",
       "      <td>22</td>\n",
       "      <td>True</td>\n",
       "    </tr>\n",
       "    <tr>\n",
       "      <th>50084</th>\n",
       "      <td>traffic</td>\n",
       "      <td>MDC</td>\n",
       "      <td>White</td>\n",
       "      <td>White</td>\n",
       "      <td>Female</td>\n",
       "      <td>44.905100</td>\n",
       "      <td>-93.295294</td>\n",
       "      <td>5</td>\n",
       "      <td>Lynnhurst</td>\n",
       "      <td>5934.0</td>\n",
       "      <td>...</td>\n",
       "      <td>118202.0</td>\n",
       "      <td>0.031</td>\n",
       "      <td>0.763</td>\n",
       "      <td>none</td>\n",
       "      <td>False</td>\n",
       "      <td>False</td>\n",
       "      <td>3</td>\n",
       "      <td>2</td>\n",
       "      <td>13</td>\n",
       "      <td>False</td>\n",
       "    </tr>\n",
       "    <tr>\n",
       "      <th>4992</th>\n",
       "      <td>suspicious</td>\n",
       "      <td>MDC</td>\n",
       "      <td>Unknown</td>\n",
       "      <td>Native American</td>\n",
       "      <td>Male</td>\n",
       "      <td>44.978210</td>\n",
       "      <td>-93.269290</td>\n",
       "      <td>1</td>\n",
       "      <td>Downtown West</td>\n",
       "      <td>7141.0</td>\n",
       "      <td>...</td>\n",
       "      <td>67086.0</td>\n",
       "      <td>0.057</td>\n",
       "      <td>0.551</td>\n",
       "      <td>none</td>\n",
       "      <td>False</td>\n",
       "      <td>False</td>\n",
       "      <td>12</td>\n",
       "      <td>5</td>\n",
       "      <td>11</td>\n",
       "      <td>True</td>\n",
       "    </tr>\n",
       "    <tr>\n",
       "      <th>37555</th>\n",
       "      <td>traffic</td>\n",
       "      <td>MDC</td>\n",
       "      <td>Unknown</td>\n",
       "      <td>White</td>\n",
       "      <td>Unknown</td>\n",
       "      <td>44.992669</td>\n",
       "      <td>-93.237184</td>\n",
       "      <td>2</td>\n",
       "      <td>Como</td>\n",
       "      <td>16022.0</td>\n",
       "      <td>...</td>\n",
       "      <td>67600.0</td>\n",
       "      <td>0.037</td>\n",
       "      <td>0.549</td>\n",
       "      <td>none</td>\n",
       "      <td>False</td>\n",
       "      <td>False</td>\n",
       "      <td>1</td>\n",
       "      <td>24</td>\n",
       "      <td>10</td>\n",
       "      <td>True</td>\n",
       "    </tr>\n",
       "    <tr>\n",
       "      <th>16288</th>\n",
       "      <td>suspicious</td>\n",
       "      <td>MDC</td>\n",
       "      <td>Unknown</td>\n",
       "      <td>Unknown</td>\n",
       "      <td>Male</td>\n",
       "      <td>44.956435</td>\n",
       "      <td>-93.294405</td>\n",
       "      <td>5</td>\n",
       "      <td>Lowry Hill East</td>\n",
       "      <td>6357.0</td>\n",
       "      <td>...</td>\n",
       "      <td>49868.0</td>\n",
       "      <td>0.066</td>\n",
       "      <td>0.569</td>\n",
       "      <td>none</td>\n",
       "      <td>False</td>\n",
       "      <td>False</td>\n",
       "      <td>7</td>\n",
       "      <td>31</td>\n",
       "      <td>13</td>\n",
       "      <td>False</td>\n",
       "    </tr>\n",
       "  </tbody>\n",
       "</table>\n",
       "<p>5 rows × 23 columns</p>\n",
       "</div>"
      ],
      "text/plain": [
       "          problem  MDC  preRace             race   gender        lat  \\\n",
       "33578     traffic  MDC  Unknown            White     Male  44.991982   \n",
       "50084     traffic  MDC    White            White   Female  44.905100   \n",
       "4992   suspicious  MDC  Unknown  Native American     Male  44.978210   \n",
       "37555     traffic  MDC  Unknown            White  Unknown  44.992669   \n",
       "16288  suspicious  MDC  Unknown          Unknown     Male  44.956435   \n",
       "\n",
       "            long  policePrecinct           neighborhood  population  ...  \\\n",
       "33578 -93.217693               2  Mid - City Industrial       240.0  ...   \n",
       "50084 -93.295294               5              Lynnhurst      5934.0  ...   \n",
       "4992  -93.269290               1          Downtown West      7141.0  ...   \n",
       "37555 -93.237184               2                   Como     16022.0  ...   \n",
       "16288 -93.294405               5        Lowry Hill East      6357.0  ...   \n",
       "\n",
       "       hhIncome  poverty  collegeGrad  outcome  race_MISSING  gender_MISSING  \\\n",
       "33578   38875.0    0.067        0.568     none         False           False   \n",
       "50084  118202.0    0.031        0.763     none         False           False   \n",
       "4992    67086.0    0.057        0.551     none         False           False   \n",
       "37555   67600.0    0.037        0.549     none         False           False   \n",
       "16288   49868.0    0.066        0.569     none         False           False   \n",
       "\n",
       "      month  day  hour  race_confusion  \n",
       "33578     9    1    22            True  \n",
       "50084     3    2    13           False  \n",
       "4992     12    5    11            True  \n",
       "37555     1   24    10            True  \n",
       "16288     7   31    13           False  \n",
       "\n",
       "[5 rows x 23 columns]"
      ]
     },
     "execution_count": 332,
     "metadata": {},
     "output_type": "execute_result"
    }
   ],
   "source": [
    "train.head()"
   ]
  },
  {
   "cell_type": "code",
   "execution_count": null,
   "metadata": {},
   "outputs": [],
   "source": []
  }
 ],
 "metadata": {
  "kernelspec": {
   "display_name": "Python 3",
   "language": "python",
   "name": "python3"
  },
  "language_info": {
   "codemirror_mode": {
    "name": "ipython",
    "version": 3
   },
   "file_extension": ".py",
   "mimetype": "text/x-python",
   "name": "python",
   "nbconvert_exporter": "python",
   "pygments_lexer": "ipython3",
   "version": "3.7.5"
  }
 },
 "nbformat": 4,
 "nbformat_minor": 2
}
