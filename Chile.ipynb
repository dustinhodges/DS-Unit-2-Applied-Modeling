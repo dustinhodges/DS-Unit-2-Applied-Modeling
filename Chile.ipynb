{
  "nbformat": 4,
  "nbformat_minor": 0,
  "metadata": {
    "colab": {
      "name": "Chile.ipynb",
      "provenance": [],
      "include_colab_link": true
    },
    "kernelspec": {
      "name": "python3",
      "display_name": "Python 3"
    }
  },
  "cells": [
    {
      "cell_type": "markdown",
      "metadata": {
        "id": "view-in-github",
        "colab_type": "text"
      },
      "source": [
        "<a href=\"https://colab.research.google.com/github/dustinhodges/DS-Unit-2-Applied-Modeling/blob/master/Chile.ipynb\" target=\"_parent\"><img src=\"https://colab.research.google.com/assets/colab-badge.svg\" alt=\"Open In Colab\"/></a>"
      ]
    },
    {
      "cell_type": "code",
      "metadata": {
        "id": "obnpLkQ2Lx3X",
        "colab_type": "code",
        "outputId": "8e51ba12-6e2d-4c35-e046-f8854ee78cef",
        "colab": {
          "base_uri": "https://localhost:8080/",
          "height": 221
        }
      },
      "source": [
        "import pandas as pd\n",
        "\n",
        "chile = pd.read_csv('https://raw.githubusercontent.com/dustinhodges/DS-Unit-2-Applied-Modeling/master/Chile.csv')\n",
        "print(chile.shape)\n",
        "\n",
        "chile.head()"
      ],
      "execution_count": 45,
      "outputs": [
        {
          "output_type": "stream",
          "text": [
            "(2700, 9)\n"
          ],
          "name": "stdout"
        },
        {
          "output_type": "execute_result",
          "data": {
            "text/html": [
              "<div>\n",
              "<style scoped>\n",
              "    .dataframe tbody tr th:only-of-type {\n",
              "        vertical-align: middle;\n",
              "    }\n",
              "\n",
              "    .dataframe tbody tr th {\n",
              "        vertical-align: top;\n",
              "    }\n",
              "\n",
              "    .dataframe thead th {\n",
              "        text-align: right;\n",
              "    }\n",
              "</style>\n",
              "<table border=\"1\" class=\"dataframe\">\n",
              "  <thead>\n",
              "    <tr style=\"text-align: right;\">\n",
              "      <th></th>\n",
              "      <th>Unnamed: 0</th>\n",
              "      <th>region</th>\n",
              "      <th>population</th>\n",
              "      <th>sex</th>\n",
              "      <th>age</th>\n",
              "      <th>education</th>\n",
              "      <th>income</th>\n",
              "      <th>statusquo</th>\n",
              "      <th>vote</th>\n",
              "    </tr>\n",
              "  </thead>\n",
              "  <tbody>\n",
              "    <tr>\n",
              "      <th>0</th>\n",
              "      <td>1</td>\n",
              "      <td>N</td>\n",
              "      <td>175000</td>\n",
              "      <td>M</td>\n",
              "      <td>65.0</td>\n",
              "      <td>P</td>\n",
              "      <td>35000.0</td>\n",
              "      <td>1.00820</td>\n",
              "      <td>Y</td>\n",
              "    </tr>\n",
              "    <tr>\n",
              "      <th>1</th>\n",
              "      <td>2</td>\n",
              "      <td>N</td>\n",
              "      <td>175000</td>\n",
              "      <td>M</td>\n",
              "      <td>29.0</td>\n",
              "      <td>PS</td>\n",
              "      <td>7500.0</td>\n",
              "      <td>-1.29617</td>\n",
              "      <td>N</td>\n",
              "    </tr>\n",
              "    <tr>\n",
              "      <th>2</th>\n",
              "      <td>3</td>\n",
              "      <td>N</td>\n",
              "      <td>175000</td>\n",
              "      <td>F</td>\n",
              "      <td>38.0</td>\n",
              "      <td>P</td>\n",
              "      <td>15000.0</td>\n",
              "      <td>1.23072</td>\n",
              "      <td>Y</td>\n",
              "    </tr>\n",
              "    <tr>\n",
              "      <th>3</th>\n",
              "      <td>4</td>\n",
              "      <td>N</td>\n",
              "      <td>175000</td>\n",
              "      <td>F</td>\n",
              "      <td>49.0</td>\n",
              "      <td>P</td>\n",
              "      <td>35000.0</td>\n",
              "      <td>-1.03163</td>\n",
              "      <td>N</td>\n",
              "    </tr>\n",
              "    <tr>\n",
              "      <th>4</th>\n",
              "      <td>5</td>\n",
              "      <td>N</td>\n",
              "      <td>175000</td>\n",
              "      <td>F</td>\n",
              "      <td>23.0</td>\n",
              "      <td>S</td>\n",
              "      <td>35000.0</td>\n",
              "      <td>-1.10496</td>\n",
              "      <td>N</td>\n",
              "    </tr>\n",
              "  </tbody>\n",
              "</table>\n",
              "</div>"
            ],
            "text/plain": [
              "   Unnamed: 0 region  population sex   age education   income  statusquo vote\n",
              "0           1      N      175000   M  65.0         P  35000.0    1.00820    Y\n",
              "1           2      N      175000   M  29.0        PS   7500.0   -1.29617    N\n",
              "2           3      N      175000   F  38.0         P  15000.0    1.23072    Y\n",
              "3           4      N      175000   F  49.0         P  35000.0   -1.03163    N\n",
              "4           5      N      175000   F  23.0         S  35000.0   -1.10496    N"
            ]
          },
          "metadata": {
            "tags": []
          },
          "execution_count": 45
        }
      ]
    },
    {
      "cell_type": "code",
      "metadata": {
        "id": "_wYFCecvMpq4",
        "colab_type": "code",
        "outputId": "b34401e8-bb22-4ae6-e397-0ab3f3baaa78",
        "colab": {
          "base_uri": "https://localhost:8080/",
          "height": 102
        }
      },
      "source": [
        "chile['vote'].value_counts()"
      ],
      "execution_count": 46,
      "outputs": [
        {
          "output_type": "execute_result",
          "data": {
            "text/plain": [
              "N    889\n",
              "Y    868\n",
              "U    588\n",
              "A    187\n",
              "Name: vote, dtype: int64"
            ]
          },
          "metadata": {
            "tags": []
          },
          "execution_count": 46
        }
      ]
    },
    {
      "cell_type": "code",
      "metadata": {
        "id": "y2fRZeV4M9h_",
        "colab_type": "code",
        "outputId": "1ddb822b-15b9-49d7-a879-8f646c233580",
        "colab": {
          "base_uri": "https://localhost:8080/",
          "height": 68
        }
      },
      "source": [
        "pino = chile.copy()\n",
        "pino.vote = pino.vote.replace({\"N\": \"contra-Pinochet\",\n",
        "                               \"Y\": \"YUA\",\n",
        "                               \"U\": \"YUA\",\n",
        "                               \"A\": \"YUA\"}\n",
        "                              ) \n",
        "\n",
        "pino['vote'].value_counts()"
      ],
      "execution_count": 47,
      "outputs": [
        {
          "output_type": "execute_result",
          "data": {
            "text/plain": [
              "YUA                1643\n",
              "contra-Pinochet     889\n",
              "Name: vote, dtype: int64"
            ]
          },
          "metadata": {
            "tags": []
          },
          "execution_count": 47
        }
      ]
    },
    {
      "cell_type": "code",
      "metadata": {
        "id": "It5rImlfRzSv",
        "colab_type": "code",
        "outputId": "50678682-61fe-4733-ac3c-231bb163a10c",
        "colab": {
          "base_uri": "https://localhost:8080/",
          "height": 34
        }
      },
      "source": [
        "#baseline gives 65% accuracy\n",
        "#we will use vote as target (contra-pinochet 35%, not 65%)\n",
        "#binary classification\n",
        "#we can use accuracy\n",
        "\n",
        "total = 1643 + 889\n",
        "yua = 1643\n",
        "yua / total"
      ],
      "execution_count": 48,
      "outputs": [
        {
          "output_type": "execute_result",
          "data": {
            "text/plain": [
              "0.6488941548183255"
            ]
          },
          "metadata": {
            "tags": []
          },
          "execution_count": 48
        }
      ]
    },
    {
      "cell_type": "code",
      "metadata": {
        "id": "PVbV1YEtSH4u",
        "colab_type": "code",
        "outputId": "96c0cee3-866a-4698-e590-5e07321e891d",
        "colab": {
          "base_uri": "https://localhost:8080/",
          "height": 34
        }
      },
      "source": [
        "total"
      ],
      "execution_count": 49,
      "outputs": [
        {
          "output_type": "execute_result",
          "data": {
            "text/plain": [
              "2532"
            ]
          },
          "metadata": {
            "tags": []
          },
          "execution_count": 49
        }
      ]
    },
    {
      "cell_type": "code",
      "metadata": {
        "id": "rRCT3y8lUCYe",
        "colab_type": "code",
        "colab": {}
      },
      "source": [
        "pino = pino.dropna(subset = ['vote'])"
      ],
      "execution_count": 0,
      "outputs": []
    },
    {
      "cell_type": "code",
      "metadata": {
        "id": "BlWBccccTpjg",
        "colab_type": "code",
        "outputId": "17ee4418-b6e1-49ed-f1e4-20a9c7ef3d55",
        "colab": {
          "base_uri": "https://localhost:8080/",
          "height": 34
        }
      },
      "source": [
        "import numpy as np\n",
        "from sklearn.model_selection import train_test_split\n",
        "\n",
        "train = pino.copy()\n",
        "train, test = train_test_split(train, train_size=0.80, test_size=0.20,\n",
        "                               stratify=train['vote'], random_state=42)\n",
        "train, val = train_test_split(train, train_size=0.80, test_size=0.20,\n",
        "                             stratify=train['vote'], random_state=42)\n",
        "\n",
        "train.shape, val.shape, test.shape"
      ],
      "execution_count": 51,
      "outputs": [
        {
          "output_type": "execute_result",
          "data": {
            "text/plain": [
              "((1620, 9), (405, 9), (507, 9))"
            ]
          },
          "metadata": {
            "tags": []
          },
          "execution_count": 51
        }
      ]
    },
    {
      "cell_type": "code",
      "metadata": {
        "id": "5zR8gpQjVFTN",
        "colab_type": "code",
        "outputId": "eb05d354-cc24-4a38-a746-6c86ff643e5d",
        "colab": {
          "base_uri": "https://localhost:8080/",
          "height": 34
        }
      },
      "source": [
        "def wrangle(X):\n",
        "    \n",
        "    X = X.copy()\n",
        "\n",
        "    unusable_variance = ['Unnamed: 0', 'statusquo']\n",
        "    X = X.drop(columns=unusable_variance)\n",
        "    \n",
        "    return X\n",
        "\n",
        "train = wrangle(train)\n",
        "val = wrangle(val)\n",
        "test = wrangle(test)\n",
        "\n",
        "train.shape, val.shape, test.shape"
      ],
      "execution_count": 52,
      "outputs": [
        {
          "output_type": "execute_result",
          "data": {
            "text/plain": [
              "((1620, 7), (405, 7), (507, 7))"
            ]
          },
          "metadata": {
            "tags": []
          },
          "execution_count": 52
        }
      ]
    },
    {
      "cell_type": "code",
      "metadata": {
        "id": "6G1YpIPuVVnk",
        "colab_type": "code",
        "outputId": "35a34a01-1ebf-4c92-cf11-8cac42d9831b",
        "colab": {
          "base_uri": "https://localhost:8080/",
          "height": 153
        }
      },
      "source": [
        "train['income'].value_counts()"
      ],
      "execution_count": 53,
      "outputs": [
        {
          "output_type": "execute_result",
          "data": {
            "text/plain": [
              "15000.0     463\n",
              "35000.0     461\n",
              "7500.0      296\n",
              "75000.0     156\n",
              "2500.0       94\n",
              "125000.0     55\n",
              "200000.0     46\n",
              "Name: income, dtype: int64"
            ]
          },
          "metadata": {
            "tags": []
          },
          "execution_count": 53
        }
      ]
    },
    {
      "cell_type": "code",
      "metadata": {
        "id": "U16jm4mqc4Qw",
        "colab_type": "code",
        "outputId": "4feb943f-df31-4b1b-d61c-b62ac71d905b",
        "colab": {
          "base_uri": "https://localhost:8080/",
          "height": 224
        }
      },
      "source": [
        "!pip install category_encoders==2.*\n",
        "from sklearn.linear_model import LogisticRegression\n",
        "import category_encoders as ce \n",
        "from sklearn.impute import SimpleImputer\n",
        "from sklearn.linear_model import LogisticRegressionCV\n",
        "from sklearn.preprocessing import StandardScaler"
      ],
      "execution_count": 54,
      "outputs": [
        {
          "output_type": "stream",
          "text": [
            "Requirement already satisfied: category_encoders==2.* in /usr/local/lib/python3.6/dist-packages (2.1.0)\n",
            "Requirement already satisfied: statsmodels>=0.6.1 in /usr/local/lib/python3.6/dist-packages (from category_encoders==2.*) (0.10.2)\n",
            "Requirement already satisfied: numpy>=1.11.3 in /usr/local/lib/python3.6/dist-packages (from category_encoders==2.*) (1.17.4)\n",
            "Requirement already satisfied: scipy>=0.19.0 in /usr/local/lib/python3.6/dist-packages (from category_encoders==2.*) (1.3.3)\n",
            "Requirement already satisfied: patsy>=0.4.1 in /usr/local/lib/python3.6/dist-packages (from category_encoders==2.*) (0.5.1)\n",
            "Requirement already satisfied: pandas>=0.21.1 in /usr/local/lib/python3.6/dist-packages (from category_encoders==2.*) (0.25.3)\n",
            "Requirement already satisfied: scikit-learn>=0.20.0 in /usr/local/lib/python3.6/dist-packages (from category_encoders==2.*) (0.21.3)\n",
            "Requirement already satisfied: six in /usr/local/lib/python3.6/dist-packages (from patsy>=0.4.1->category_encoders==2.*) (1.12.0)\n",
            "Requirement already satisfied: python-dateutil>=2.6.1 in /usr/local/lib/python3.6/dist-packages (from pandas>=0.21.1->category_encoders==2.*) (2.6.1)\n",
            "Requirement already satisfied: pytz>=2017.2 in /usr/local/lib/python3.6/dist-packages (from pandas>=0.21.1->category_encoders==2.*) (2018.9)\n",
            "Requirement already satisfied: joblib>=0.11 in /usr/local/lib/python3.6/dist-packages (from scikit-learn>=0.20.0->category_encoders==2.*) (0.14.1)\n"
          ],
          "name": "stdout"
        }
      ]
    },
    {
      "cell_type": "code",
      "metadata": {
        "id": "JD5z16FXr098",
        "colab_type": "code",
        "colab": {}
      },
      "source": [
        "#'population', 'region', 'age', , 'income', 'sex', 'education'\n",
        "\n",
        "features = ['age', 'population', 'sex', 'education', 'income', 'region']\n",
        "target = 'vote'\n",
        "X_train = train[features]\n",
        "y_train = train[target]\n",
        "X_val = val[features]\n",
        "y_val = val[target]\n",
        "X_test = test[features]\n",
        "y_test = test[target]"
      ],
      "execution_count": 0,
      "outputs": []
    },
    {
      "cell_type": "code",
      "metadata": {
        "id": "h6xcI0JNdwli",
        "colab_type": "code",
        "outputId": "b1009daf-e8cd-4919-86b0-96c07fb0f5eb",
        "colab": {
          "base_uri": "https://localhost:8080/",
          "height": 119
        }
      },
      "source": [
        "encoder = ce.OneHotEncoder(use_cat_names=True)\n",
        "X_train_encoded = encoder.fit_transform(X_train)\n",
        "X_val_encoded = encoder.transform(X_val)\n",
        "X_test_encoded = encoder.transform(X_test)\n",
        "\n",
        "imputer = SimpleImputer()\n",
        "X_train_imputed = imputer.fit_transform(X_train_encoded)\n",
        "X_val_imputed = imputer.transform(X_val_encoded)\n",
        "X_test_imputed = imputer.transform(X_test_encoded)\n",
        "\n",
        "scaler = StandardScaler()\n",
        "X_train_scaled = scaler.fit_transform(X_train_imputed)\n",
        "X_val_scaled = scaler.transform(X_val_imputed)\n",
        "X_test_scaled = scaler.transform(X_test_imputed)\n",
        "\n",
        "model = LogisticRegression()\n",
        "model.fit(X_train_scaled, y_train)\n",
        "\n",
        "print('Train Accuracy', model.score(X_train_scaled, y_train))\n",
        "print('Validation Accuracy', model.score(X_val_scaled, y_val))"
      ],
      "execution_count": 55,
      "outputs": [
        {
          "output_type": "stream",
          "text": [
            "Train Accuracy 0.667283950617284\n",
            "Validation Accuracy 0.691358024691358\n"
          ],
          "name": "stdout"
        },
        {
          "output_type": "stream",
          "text": [
            "/usr/local/lib/python3.6/dist-packages/sklearn/linear_model/logistic.py:432: FutureWarning:\n",
            "\n",
            "Default solver will be changed to 'lbfgs' in 0.22. Specify a solver to silence this warning.\n",
            "\n"
          ],
          "name": "stderr"
        }
      ]
    },
    {
      "cell_type": "code",
      "metadata": {
        "id": "wrNTIG1-sf1O",
        "colab_type": "code",
        "colab": {
          "base_uri": "https://localhost:8080/",
          "height": 224
        },
        "outputId": "4a45d763-09a6-465c-efd2-0ce1ed1952a1"
      },
      "source": [
        "X_train_encoded.head()"
      ],
      "execution_count": 66,
      "outputs": [
        {
          "output_type": "execute_result",
          "data": {
            "text/html": [
              "<div>\n",
              "<style scoped>\n",
              "    .dataframe tbody tr th:only-of-type {\n",
              "        vertical-align: middle;\n",
              "    }\n",
              "\n",
              "    .dataframe tbody tr th {\n",
              "        vertical-align: top;\n",
              "    }\n",
              "\n",
              "    .dataframe thead th {\n",
              "        text-align: right;\n",
              "    }\n",
              "</style>\n",
              "<table border=\"1\" class=\"dataframe\">\n",
              "  <thead>\n",
              "    <tr style=\"text-align: right;\">\n",
              "      <th></th>\n",
              "      <th>age</th>\n",
              "      <th>population</th>\n",
              "      <th>sex_M</th>\n",
              "      <th>sex_F</th>\n",
              "      <th>education_S</th>\n",
              "      <th>education_P</th>\n",
              "      <th>education_PS</th>\n",
              "      <th>education_nan</th>\n",
              "      <th>income</th>\n",
              "      <th>region_S</th>\n",
              "      <th>region_SA</th>\n",
              "      <th>region_C</th>\n",
              "      <th>region_N</th>\n",
              "      <th>region_M</th>\n",
              "    </tr>\n",
              "  </thead>\n",
              "  <tbody>\n",
              "    <tr>\n",
              "      <th>1222</th>\n",
              "      <td>41.0</td>\n",
              "      <td>45000</td>\n",
              "      <td>1</td>\n",
              "      <td>0</td>\n",
              "      <td>1</td>\n",
              "      <td>0</td>\n",
              "      <td>0</td>\n",
              "      <td>0</td>\n",
              "      <td>35000.0</td>\n",
              "      <td>1</td>\n",
              "      <td>0</td>\n",
              "      <td>0</td>\n",
              "      <td>0</td>\n",
              "      <td>0</td>\n",
              "    </tr>\n",
              "    <tr>\n",
              "      <th>2586</th>\n",
              "      <td>70.0</td>\n",
              "      <td>250000</td>\n",
              "      <td>1</td>\n",
              "      <td>0</td>\n",
              "      <td>1</td>\n",
              "      <td>0</td>\n",
              "      <td>0</td>\n",
              "      <td>0</td>\n",
              "      <td>35000.0</td>\n",
              "      <td>0</td>\n",
              "      <td>1</td>\n",
              "      <td>0</td>\n",
              "      <td>0</td>\n",
              "      <td>0</td>\n",
              "    </tr>\n",
              "    <tr>\n",
              "      <th>2390</th>\n",
              "      <td>36.0</td>\n",
              "      <td>250000</td>\n",
              "      <td>1</td>\n",
              "      <td>0</td>\n",
              "      <td>1</td>\n",
              "      <td>0</td>\n",
              "      <td>0</td>\n",
              "      <td>0</td>\n",
              "      <td>15000.0</td>\n",
              "      <td>0</td>\n",
              "      <td>1</td>\n",
              "      <td>0</td>\n",
              "      <td>0</td>\n",
              "      <td>0</td>\n",
              "    </tr>\n",
              "    <tr>\n",
              "      <th>893</th>\n",
              "      <td>50.0</td>\n",
              "      <td>25000</td>\n",
              "      <td>1</td>\n",
              "      <td>0</td>\n",
              "      <td>0</td>\n",
              "      <td>1</td>\n",
              "      <td>0</td>\n",
              "      <td>0</td>\n",
              "      <td>7500.0</td>\n",
              "      <td>0</td>\n",
              "      <td>0</td>\n",
              "      <td>1</td>\n",
              "      <td>0</td>\n",
              "      <td>0</td>\n",
              "    </tr>\n",
              "    <tr>\n",
              "      <th>2180</th>\n",
              "      <td>36.0</td>\n",
              "      <td>250000</td>\n",
              "      <td>0</td>\n",
              "      <td>1</td>\n",
              "      <td>0</td>\n",
              "      <td>1</td>\n",
              "      <td>0</td>\n",
              "      <td>0</td>\n",
              "      <td>35000.0</td>\n",
              "      <td>0</td>\n",
              "      <td>1</td>\n",
              "      <td>0</td>\n",
              "      <td>0</td>\n",
              "      <td>0</td>\n",
              "    </tr>\n",
              "  </tbody>\n",
              "</table>\n",
              "</div>"
            ],
            "text/plain": [
              "       age  population  sex_M  sex_F  ...  region_SA  region_C  region_N  region_M\n",
              "1222  41.0       45000      1      0  ...          0         0         0         0\n",
              "2586  70.0      250000      1      0  ...          1         0         0         0\n",
              "2390  36.0      250000      1      0  ...          1         0         0         0\n",
              "893   50.0       25000      1      0  ...          0         1         0         0\n",
              "2180  36.0      250000      0      1  ...          1         0         0         0\n",
              "\n",
              "[5 rows x 14 columns]"
            ]
          },
          "metadata": {
            "tags": []
          },
          "execution_count": 66
        }
      ]
    },
    {
      "cell_type": "code",
      "metadata": {
        "id": "8neEiQuh_8Aq",
        "colab_type": "code",
        "outputId": "9d8ca328-672e-45e0-e879-49f147f44072",
        "colab": {
          "base_uri": "https://localhost:8080/",
          "height": 51
        }
      },
      "source": [
        "from sklearn.ensemble import RandomForestClassifier\n",
        "from sklearn.pipeline import make_pipeline\n",
        "\n",
        "forest = make_pipeline(\n",
        "    ce.OrdinalEncoder(), \n",
        "    SimpleImputer(strategy='median'), \n",
        "    RandomForestClassifier(n_estimators=20, max_depth=4, random_state=42, n_jobs=-1)\n",
        ")\n",
        "\n",
        "forest.fit(X_train, y_train)\n",
        "\n",
        "print('Train Accuracy', forest.score(X_train, y_train))\n",
        "print('Validation Accuracy', forest.score(X_val, y_val))"
      ],
      "execution_count": 56,
      "outputs": [
        {
          "output_type": "stream",
          "text": [
            "Train Accuracy 0.678395061728395\n",
            "Validation Accuracy 0.6691358024691358\n"
          ],
          "name": "stdout"
        }
      ]
    },
    {
      "cell_type": "code",
      "metadata": {
        "id": "TRDo69_zxL3M",
        "colab_type": "code",
        "colab": {
          "base_uri": "https://localhost:8080/",
          "height": 51
        },
        "outputId": "da7af3fe-96fa-4c79-9dd9-d6f09f51f365"
      },
      "source": [
        "from sklearn.pipeline import make_pipeline\n",
        "from sklearn.tree import DecisionTreeClassifier\n",
        "\n",
        "tree = make_pipeline(\n",
        "    ce.OrdinalEncoder(),\n",
        "    SimpleImputer(strategy='median'),\n",
        "    DecisionTreeClassifier(max_depth=8, min_samples_split=8, min_samples_leaf=5, random_state=21)\n",
        ")\n",
        "\n",
        "tree.fit(X_train, y_train)\n",
        "\n",
        "print('Train Accuracy', tree.score(X_train, y_train))\n",
        "print('Validation Accuracy', tree.score(X_val, y_val))"
      ],
      "execution_count": 57,
      "outputs": [
        {
          "output_type": "stream",
          "text": [
            "Train Accuracy 0.7358024691358025\n",
            "Validation Accuracy 0.6592592592592592\n"
          ],
          "name": "stdout"
        }
      ]
    },
    {
      "cell_type": "code",
      "metadata": {
        "id": "6FzB9APT4Q9f",
        "colab_type": "code",
        "colab": {
          "base_uri": "https://localhost:8080/",
          "height": 68
        },
        "outputId": "d50ced56-0e84-46c9-dd5d-d50e503a3116"
      },
      "source": [
        "print('Tree Test Accuracy', tree.score(X_test, y_test))\n",
        "print('Forest Test Accuracy', forest.score(X_test, y_test))\n",
        "print('Linear Model Test Accuracy', model.score(X_test_scaled, y_test))"
      ],
      "execution_count": 58,
      "outputs": [
        {
          "output_type": "stream",
          "text": [
            "Tree Test Accuracy 0.6252465483234714\n",
            "Forest Test Accuracy 0.6587771203155819\n",
            "Linear Model Test Accuracy 0.6706114398422091\n"
          ],
          "name": "stdout"
        }
      ]
    },
    {
      "cell_type": "code",
      "metadata": {
        "id": "uNZO-Q7Him_6",
        "colab_type": "code",
        "colab": {
          "base_uri": "https://localhost:8080/",
          "height": 204
        },
        "outputId": "d9ff2e32-0de6-4e1f-8196-a047b7e892a1"
      },
      "source": [
        "train.head()"
      ],
      "execution_count": 59,
      "outputs": [
        {
          "output_type": "execute_result",
          "data": {
            "text/html": [
              "<div>\n",
              "<style scoped>\n",
              "    .dataframe tbody tr th:only-of-type {\n",
              "        vertical-align: middle;\n",
              "    }\n",
              "\n",
              "    .dataframe tbody tr th {\n",
              "        vertical-align: top;\n",
              "    }\n",
              "\n",
              "    .dataframe thead th {\n",
              "        text-align: right;\n",
              "    }\n",
              "</style>\n",
              "<table border=\"1\" class=\"dataframe\">\n",
              "  <thead>\n",
              "    <tr style=\"text-align: right;\">\n",
              "      <th></th>\n",
              "      <th>region</th>\n",
              "      <th>population</th>\n",
              "      <th>sex</th>\n",
              "      <th>age</th>\n",
              "      <th>education</th>\n",
              "      <th>income</th>\n",
              "      <th>vote</th>\n",
              "    </tr>\n",
              "  </thead>\n",
              "  <tbody>\n",
              "    <tr>\n",
              "      <th>1222</th>\n",
              "      <td>S</td>\n",
              "      <td>45000</td>\n",
              "      <td>M</td>\n",
              "      <td>41.0</td>\n",
              "      <td>S</td>\n",
              "      <td>35000.0</td>\n",
              "      <td>contra-Pinochet</td>\n",
              "    </tr>\n",
              "    <tr>\n",
              "      <th>2586</th>\n",
              "      <td>SA</td>\n",
              "      <td>250000</td>\n",
              "      <td>M</td>\n",
              "      <td>70.0</td>\n",
              "      <td>S</td>\n",
              "      <td>35000.0</td>\n",
              "      <td>contra-Pinochet</td>\n",
              "    </tr>\n",
              "    <tr>\n",
              "      <th>2390</th>\n",
              "      <td>SA</td>\n",
              "      <td>250000</td>\n",
              "      <td>M</td>\n",
              "      <td>36.0</td>\n",
              "      <td>S</td>\n",
              "      <td>15000.0</td>\n",
              "      <td>YUA</td>\n",
              "    </tr>\n",
              "    <tr>\n",
              "      <th>893</th>\n",
              "      <td>C</td>\n",
              "      <td>25000</td>\n",
              "      <td>M</td>\n",
              "      <td>50.0</td>\n",
              "      <td>P</td>\n",
              "      <td>7500.0</td>\n",
              "      <td>YUA</td>\n",
              "    </tr>\n",
              "    <tr>\n",
              "      <th>2180</th>\n",
              "      <td>SA</td>\n",
              "      <td>250000</td>\n",
              "      <td>F</td>\n",
              "      <td>36.0</td>\n",
              "      <td>P</td>\n",
              "      <td>35000.0</td>\n",
              "      <td>contra-Pinochet</td>\n",
              "    </tr>\n",
              "  </tbody>\n",
              "</table>\n",
              "</div>"
            ],
            "text/plain": [
              "     region  population sex   age education   income             vote\n",
              "1222      S       45000   M  41.0         S  35000.0  contra-Pinochet\n",
              "2586     SA      250000   M  70.0         S  35000.0  contra-Pinochet\n",
              "2390     SA      250000   M  36.0         S  15000.0              YUA\n",
              "893       C       25000   M  50.0         P   7500.0              YUA\n",
              "2180     SA      250000   F  36.0         P  35000.0  contra-Pinochet"
            ]
          },
          "metadata": {
            "tags": []
          },
          "execution_count": 59
        }
      ]
    },
    {
      "cell_type": "code",
      "metadata": {
        "id": "bQnuvWYFiSlL",
        "colab_type": "code",
        "colab": {
          "base_uri": "https://localhost:8080/",
          "height": 685
        },
        "outputId": "83edd41a-69c0-47aa-efab-2f97143cf603"
      },
      "source": [
        "import plotly.express as px\n",
        "df = train\n",
        "fig = px.scatter(df, x=\"population\", y=\"age\", color=\"vote\",\n",
        "                 marginal_y=\"histogram\", marginal_x=\"box\", trendline=\"ols\")\n",
        "fig.show()"
      ],
      "execution_count": 60,
      "outputs": [
        {
          "output_type": "stream",
          "text": [
            "/usr/local/lib/python3.6/dist-packages/numpy/core/fromnumeric.py:2495: FutureWarning:\n",
            "\n",
            "Method .ptp is deprecated and will be removed in a future version. Use numpy.ptp instead.\n",
            "\n"
          ],
          "name": "stderr"
        },
        {
          "output_type": "display_data",
          "data": {
            "text/html": [
              "<html>\n",
              "<head><meta charset=\"utf-8\" /></head>\n",
              "<body>\n",
              "    <div>\n",
              "            <script src=\"https://cdnjs.cloudflare.com/ajax/libs/mathjax/2.7.5/MathJax.js?config=TeX-AMS-MML_SVG\"></script><script type=\"text/javascript\">if (window.MathJax) {MathJax.Hub.Config({SVG: {font: \"STIX-Web\"}});}</script>\n",
              "                <script type=\"text/javascript\">window.PlotlyConfig = {MathJaxConfig: 'local'};</script>\n",
              "        <script src=\"https://cdn.plot.ly/plotly-latest.min.js\"></script>    \n",
              "            <div id=\"1b958b91-f3cf-4c50-b881-f539dc961b3a\" class=\"plotly-graph-div\" style=\"height:600px; width:100%;\"></div>\n",
              "            <script type=\"text/javascript\">\n",
              "                \n",
              "                    window.PLOTLYENV=window.PLOTLYENV || {};\n",
              "                    \n",
              "                if (document.getElementById(\"1b958b91-f3cf-4c50-b881-f539dc961b3a\")) {\n",
              "                    Plotly.newPlot(\n",
              "                        '1b958b91-f3cf-4c50-b881-f539dc961b3a',\n",
              "                        [{\"hoverlabel\": {\"namelength\": 0}, \"hovertemplate\": \"vote=contra-Pinochet<br>population=%{x}<br>age=%{y}\", \"legendgroup\": \"vote=contra-Pinochet\", \"marker\": {\"color\": \"#636efa\", \"symbol\": \"circle\"}, \"mode\": \"markers\", \"name\": \"vote=contra-Pinochet\", \"showlegend\": true, \"type\": \"scattergl\", \"x\": [45000, 250000, 250000, 250000, 125000, 125000, 250000, 25000, 250000, 250000, 45000, 250000, 175000, 250000, 250000, 15000, 175000, 250000, 250000, 250000, 250000, 250000, 250000, 25000, 250000, 175000, 250000, 250000, 250000, 250000, 250000, 125000, 250000, 250000, 87500, 250000, 15000, 45000, 250000, 250000, 250000, 25000, 250000, 250000, 250000, 125000, 15000, 250000, 250000, 250000, 250000, 25000, 250000, 15000, 250000, 15000, 15000, 250000, 45000, 250000, 250000, 250000, 125000, 125000, 250000, 175000, 250000, 250000, 250000, 25000, 250000, 15000, 250000, 125000, 250000, 250000, 250000, 175000, 25000, 250000, 15000, 250000, 250000, 62500, 250000, 25000, 15000, 250000, 87500, 125000, 250000, 15000, 125000, 250000, 250000, 250000, 250000, 250000, 250000, 250000, 15000, 250000, 250000, 25000, 125000, 87500, 250000, 125000, 250000, 250000, 250000, 250000, 15000, 87500, 250000, 45000, 15000, 25000, 15000, 25000, 250000, 250000, 250000, 250000, 250000, 175000, 250000, 250000, 250000, 62500, 250000, 25000, 250000, 45000, 175000, 3750, 250000, 250000, 250000, 250000, 25000, 125000, 250000, 250000, 250000, 15000, 45000, 250000, 25000, 25000, 25000, 62500, 45000, 250000, 45000, 250000, 250000, 45000, 25000, 250000, 250000, 25000, 250000, 250000, 125000, 15000, 250000, 45000, 8750, 250000, 15000, 250000, 250000, 250000, 25000, 250000, 25000, 250000, 125000, 250000, 250000, 250000, 25000, 250000, 125000, 250000, 25000, 250000, 250000, 250000, 250000, 250000, 250000, 250000, 125000, 250000, 25000, 250000, 25000, 250000, 250000, 125000, 62500, 250000, 250000, 25000, 15000, 250000, 25000, 25000, 250000, 25000, 250000, 25000, 250000, 250000, 250000, 250000, 250000, 250000, 125000, 250000, 25000, 250000, 25000, 45000, 250000, 250000, 250000, 250000, 250000, 15000, 125000, 250000, 15000, 175000, 125000, 250000, 250000, 15000, 250000, 125000, 250000, 175000, 250000, 45000, 250000, 250000, 250000, 62500, 25000, 15000, 125000, 87500, 250000, 125000, 250000, 250000, 250000, 250000, 250000, 125000, 250000, 250000, 250000, 125000, 15000, 8750, 250000, 250000, 15000, 25000, 250000, 25000, 250000, 25000, 250000, 62500, 62500, 250000, 250000, 125000, 250000, 250000, 62500, 45000, 250000, 250000, 25000, 250000, 25000, 125000, 8750, 250000, 25000, 250000, 250000, 3750, 175000, 15000, 250000, 250000, 25000, 250000, 62500, 250000, 250000, 15000, 250000, 250000, 250000, 250000, 250000, 250000, 250000, 125000, 250000, 125000, 250000, 250000, 62500, 250000, 175000, 15000, 125000, 62500, 25000, 250000, 175000, 25000, 87500, 87500, 125000, 250000, 250000, 15000, 250000, 250000, 8750, 250000, 250000, 250000, 250000, 45000, 8750, 25000, 250000, 125000, 250000, 250000, 25000, 250000, 62500, 175000, 250000, 175000, 45000, 175000, 250000, 15000, 250000, 250000, 250000, 250000, 62500, 45000, 250000, 250000, 250000, 25000, 250000, 25000, 250000, 15000, 45000, 125000, 250000, 25000, 125000, 250000, 250000, 250000, 250000, 250000, 250000, 250000, 250000, 25000, 87500, 250000, 250000, 250000, 250000, 250000, 250000, 15000, 250000, 87500, 45000, 250000, 15000, 175000, 250000, 250000, 45000, 87500, 250000, 250000, 250000, 250000, 250000, 250000, 250000, 25000, 87500, 45000, 250000, 125000, 250000, 62500, 250000, 250000, 25000, 15000, 250000, 125000, 250000, 250000, 250000, 250000, 175000, 250000, 125000, 250000, 250000, 8750, 250000, 250000, 15000, 62500, 250000, 250000, 250000, 125000, 15000, 3750, 25000, 250000, 175000, 250000, 250000, 250000, 15000, 250000, 25000, 62500, 87500, 175000, 250000, 45000, 250000, 250000, 250000, 25000, 175000, 250000, 250000, 250000, 15000, 250000, 250000, 15000, 62500, 250000, 250000, 250000, 175000, 250000, 250000, 250000, 45000, 250000, 62500, 250000, 250000, 25000, 250000, 250000, 87500, 250000, 45000, 250000, 250000, 175000, 250000, 250000, 87500, 3750, 15000, 125000, 250000, 250000, 250000, 250000, 250000, 125000, 87500, 45000, 250000, 250000, 25000, 15000, 250000, 250000, 250000, 45000, 62500, 250000, 25000, 250000, 15000, 250000, 250000, 250000, 175000, 250000, 175000, 250000, 250000, 250000, 25000, 125000, 125000, 250000, 125000, 250000, 25000, 25000, 250000, 250000, 8750, 175000, 250000, 250000, 45000, 250000, 250000, 250000, 87500, 250000, 15000, 250000, 250000, 250000, 250000, 45000, 250000, 250000, 175000, 250000, 87500, 250000, 25000, 25000, 25000, 250000, 125000, 250000, 250000], \"xaxis\": \"x\", \"y\": [41.0, 70.0, 36.0, 58.0, 38.0, 41.0, 35.0, 38.0, 33.0, 24.0, 53.0, 49.0, 36.0, 38.0, 53.0, 36.0, 27.0, 32.0, 18.0, 37.0, 18.0, 50.0, 70.0, 58.0, 58.0, 43.0, 19.0, 18.0, 23.0, 34.0, 39.0, 19.0, 59.0, 55.0, 18.0, 59.0, 32.0, 20.0, 51.0, 22.0, 32.0, 25.0, 27.0, 65.0, 59.0, 24.0, 25.0, 43.0, 20.0, 44.0, 24.0, 27.0, 37.0, 19.0, 54.0, 20.0, 34.0, 26.0, 64.0, 55.0, 33.0, 29.0, 32.0, 32.0, 43.0, 18.0, 27.0, 29.0, 20.0, 25.0, 50.0, 60.0, 57.0, 33.0, 50.0, 18.0, 21.0, 38.0, 29.0, 21.0, 33.0, 18.0, 46.0, 19.0, 24.0, 65.0, 23.0, 24.0, 37.0, 43.0, 54.0, 27.0, 54.0, 45.0, 30.0, 54.0, 36.0, 29.0, 28.0, 49.0, 22.0, 66.0, 26.0, 60.0, 18.0, 22.0, 51.0, 23.0, 36.0, 28.0, 23.0, 22.0, 22.0, 42.0, 30.0, 25.0, 55.0, 19.0, 18.0, 19.0, 22.0, 26.0, 23.0, 36.0, 19.0, 20.0, 18.0, 37.0, 29.0, 69.0, 35.0, 39.0, 70.0, 35.0, 28.0, 34.0, 37.0, 28.0, 23.0, 39.0, 21.0, 29.0, 48.0, 34.0, 22.0, 66.0, 37.0, 58.0, 26.0, 36.0, 37.0, 23.0, 30.0, 57.0, 24.0, 47.0, 63.0, 24.0, 21.0, 67.0, 42.0, 21.0, 57.0, 20.0, 46.0, 47.0, 45.0, 40.0, 35.0, 38.0, 70.0, 33.0, 18.0, 22.0, 38.0, 23.0, 43.0, 21.0, 44.0, 36.0, 33.0, 24.0, 68.0, 25.0, 18.0, 20.0, 26.0, 19.0, 27.0, 55.0, 18.0, 29.0, 66.0, 40.0, 34.0, 60.0, 18.0, 19.0, 28.0, 30.0, 33.0, 34.0, 40.0, 45.0, 24.0, 51.0, 64.0, 20.0, 57.0, 24.0, 31.0, 19.0, 65.0, 23.0, 42.0, 37.0, 28.0, 23.0, 37.0, 58.0, 30.0, 47.0, 21.0, 48.0, 53.0, 67.0, 38.0, 65.0, 21.0, 45.0, 25.0, 36.0, 18.0, 22.0, 38.0, 29.0, 40.0, 18.0, 30.0, 34.0, 22.0, 25.0, 20.0, 42.0, 29.0, 49.0, 44.0, 65.0, 21.0, 27.0, 43.0, 22.0, 24.0, 36.0, 23.0, 19.0, 20.0, 45.0, 52.0, 47.0, 49.0, 24.0, 41.0, 48.0, 23.0, 32.0, 25.0, 20.0, 20.0, 55.0, 26.0, 29.0, 18.0, 24.0, 18.0, 65.0, 55.0, 25.0, 45.0, 42.0, 20.0, 41.0, 40.0, 26.0, 50.0, 30.0, 24.0, 65.0, 22.0, 18.0, 21.0, 39.0, 62.0, 56.0, 25.0, 23.0, 22.0, 37.0, 42.0, 20.0, 28.0, 63.0, 60.0, 19.0, 38.0, 22.0, 35.0, 59.0, 19.0, 24.0, 28.0, 21.0, 30.0, 45.0, 29.0, 28.0, 43.0, 68.0, 25.0, 33.0, 57.0, 22.0, 30.0, 21.0, 44.0, 22.0, 38.0, 50.0, 24.0, 20.0, 33.0, 29.0, 41.0, 38.0, 60.0, 40.0, 36.0, 39.0, 50.0, 63.0, 36.0, 43.0, 25.0, 27.0, 20.0, 38.0, 25.0, 21.0, 23.0, 63.0, 18.0, 39.0, 51.0, 21.0, 28.0, 22.0, 20.0, 32.0, 25.0, 30.0, 30.0, 21.0, 51.0, 54.0, 36.0, 66.0, 45.0, 46.0, 65.0, 64.0, 39.0, 21.0, 49.0, 26.0, 44.0, 22.0, 60.0, 26.0, 47.0, 30.0, 38.0, 21.0, 38.0, 34.0, 70.0, 28.0, 39.0, 54.0, 67.0, 43.0, 55.0, 40.0, 19.0, 68.0, 22.0, 57.0, 65.0, 52.0, 63.0, 48.0, 43.0, 31.0, 36.0, 42.0, 23.0, 60.0, 24.0, 19.0, 20.0, 65.0, 38.0, 54.0, 62.0, 48.0, 23.0, 56.0, 68.0, 23.0, 67.0, 52.0, 18.0, 36.0, 22.0, 21.0, 45.0, 30.0, 23.0, 55.0, 53.0, 26.0, 49.0, 30.0, 30.0, 23.0, 26.0, 50.0, 62.0, 36.0, 21.0, 21.0, 20.0, 37.0, 25.0, 58.0, 27.0, 21.0, 21.0, 28.0, 24.0, 33.0, 36.0, 20.0, 36.0, 70.0, 42.0, 22.0, 44.0, 39.0, 25.0, 28.0, 21.0, 22.0, 31.0, 23.0, 26.0, 20.0, 22.0, 28.0, 21.0, 60.0, 21.0, 26.0, 68.0, 26.0, 18.0, 29.0, 36.0, 35.0, 18.0, 47.0, 54.0, 30.0, 32.0, 35.0, 24.0, 18.0, 67.0, 34.0, 27.0, 26.0, 18.0, 39.0, 26.0, 23.0, 53.0, 22.0, 27.0, 28.0, 30.0, 28.0, 37.0, 23.0, 46.0, 37.0, 20.0, 22.0, 20.0, 31.0, 43.0, 26.0, 19.0, 19.0, 30.0, 33.0, 23.0, 33.0, 29.0, 37.0, 60.0, 49.0, 34.0, 43.0, 37.0, 18.0, 44.0, 40.0, 28.0, 21.0, 18.0, 30.0, 26.0, 44.0, 35.0, 55.0, 40.0, 55.0, 21.0, 24.0, 45.0, 41.0, 28.0, 60.0, 27.0, 67.0, 21.0, 26.0, 37.0, 46.0, 31.0, 53.0, 24.0, 35.0, 70.0, 62.0, 37.0, 47.0, 45.0, 61.0, 18.0, 21.0, 52.0, 40.0, 23.0, 22.0, 22.0, 27.0, 27.0, 45.0, 18.0], \"yaxis\": \"y\"}, {\"alignmentgroup\": \"True\", \"hoverlabel\": {\"namelength\": 0}, \"hovertemplate\": \"vote=contra-Pinochet<br>population=%{x}\", \"legendgroup\": \"vote=contra-Pinochet\", \"marker\": {\"color\": \"#636efa\", \"symbol\": \"circle\"}, \"name\": \"vote=contra-Pinochet\", \"notched\": true, \"offsetgroup\": \"vote=contra-Pinochet\", \"showlegend\": false, \"type\": \"box\", \"x\": [45000, 250000, 250000, 250000, 125000, 125000, 250000, 25000, 250000, 250000, 45000, 250000, 175000, 250000, 250000, 15000, 175000, 250000, 250000, 250000, 250000, 250000, 250000, 25000, 250000, 175000, 250000, 250000, 250000, 250000, 250000, 125000, 250000, 250000, 87500, 250000, 15000, 45000, 250000, 250000, 250000, 25000, 250000, 250000, 250000, 125000, 15000, 250000, 250000, 250000, 250000, 25000, 250000, 15000, 250000, 15000, 15000, 250000, 45000, 250000, 250000, 250000, 125000, 125000, 250000, 175000, 250000, 250000, 250000, 25000, 250000, 15000, 250000, 125000, 250000, 250000, 250000, 175000, 25000, 250000, 15000, 250000, 250000, 62500, 250000, 25000, 15000, 250000, 87500, 125000, 250000, 15000, 125000, 250000, 250000, 250000, 250000, 250000, 250000, 250000, 15000, 250000, 250000, 25000, 125000, 87500, 250000, 125000, 250000, 250000, 250000, 250000, 15000, 87500, 250000, 45000, 15000, 25000, 15000, 25000, 250000, 250000, 250000, 250000, 250000, 175000, 250000, 250000, 250000, 62500, 250000, 25000, 250000, 45000, 175000, 3750, 250000, 250000, 250000, 250000, 25000, 125000, 250000, 250000, 250000, 15000, 45000, 250000, 25000, 25000, 25000, 62500, 45000, 250000, 45000, 250000, 250000, 45000, 25000, 250000, 250000, 25000, 250000, 250000, 125000, 15000, 250000, 45000, 8750, 250000, 15000, 250000, 250000, 250000, 25000, 250000, 25000, 250000, 125000, 250000, 250000, 250000, 25000, 250000, 125000, 250000, 25000, 250000, 250000, 250000, 250000, 250000, 250000, 250000, 125000, 250000, 25000, 250000, 25000, 250000, 250000, 125000, 62500, 250000, 250000, 25000, 15000, 250000, 25000, 25000, 250000, 25000, 250000, 25000, 250000, 250000, 250000, 250000, 250000, 250000, 125000, 250000, 25000, 250000, 25000, 45000, 250000, 250000, 250000, 250000, 250000, 15000, 125000, 250000, 15000, 175000, 125000, 250000, 250000, 15000, 250000, 125000, 250000, 175000, 250000, 45000, 250000, 250000, 250000, 62500, 25000, 15000, 125000, 87500, 250000, 125000, 250000, 250000, 250000, 250000, 250000, 125000, 250000, 250000, 250000, 125000, 15000, 8750, 250000, 250000, 15000, 25000, 250000, 25000, 250000, 25000, 250000, 62500, 62500, 250000, 250000, 125000, 250000, 250000, 62500, 45000, 250000, 250000, 25000, 250000, 25000, 125000, 8750, 250000, 25000, 250000, 250000, 3750, 175000, 15000, 250000, 250000, 25000, 250000, 62500, 250000, 250000, 15000, 250000, 250000, 250000, 250000, 250000, 250000, 250000, 125000, 250000, 125000, 250000, 250000, 62500, 250000, 175000, 15000, 125000, 62500, 25000, 250000, 175000, 25000, 87500, 87500, 125000, 250000, 250000, 15000, 250000, 250000, 8750, 250000, 250000, 250000, 250000, 45000, 8750, 25000, 250000, 125000, 250000, 250000, 25000, 250000, 62500, 175000, 250000, 175000, 45000, 175000, 250000, 15000, 250000, 250000, 250000, 250000, 62500, 45000, 250000, 250000, 250000, 25000, 250000, 25000, 250000, 15000, 45000, 125000, 250000, 25000, 125000, 250000, 250000, 250000, 250000, 250000, 250000, 250000, 250000, 25000, 87500, 250000, 250000, 250000, 250000, 250000, 250000, 15000, 250000, 87500, 45000, 250000, 15000, 175000, 250000, 250000, 45000, 87500, 250000, 250000, 250000, 250000, 250000, 250000, 250000, 25000, 87500, 45000, 250000, 125000, 250000, 62500, 250000, 250000, 25000, 15000, 250000, 125000, 250000, 250000, 250000, 250000, 175000, 250000, 125000, 250000, 250000, 8750, 250000, 250000, 15000, 62500, 250000, 250000, 250000, 125000, 15000, 3750, 25000, 250000, 175000, 250000, 250000, 250000, 15000, 250000, 25000, 62500, 87500, 175000, 250000, 45000, 250000, 250000, 250000, 25000, 175000, 250000, 250000, 250000, 15000, 250000, 250000, 15000, 62500, 250000, 250000, 250000, 175000, 250000, 250000, 250000, 45000, 250000, 62500, 250000, 250000, 25000, 250000, 250000, 87500, 250000, 45000, 250000, 250000, 175000, 250000, 250000, 87500, 3750, 15000, 125000, 250000, 250000, 250000, 250000, 250000, 125000, 87500, 45000, 250000, 250000, 25000, 15000, 250000, 250000, 250000, 45000, 62500, 250000, 25000, 250000, 15000, 250000, 250000, 250000, 175000, 250000, 175000, 250000, 250000, 250000, 25000, 125000, 125000, 250000, 125000, 250000, 25000, 25000, 250000, 250000, 8750, 175000, 250000, 250000, 45000, 250000, 250000, 250000, 87500, 250000, 15000, 250000, 250000, 250000, 250000, 45000, 250000, 250000, 175000, 250000, 87500, 250000, 25000, 25000, 25000, 250000, 125000, 250000, 250000], \"xaxis\": \"x3\", \"yaxis\": \"y3\"}, {\"alignmentgroup\": \"True\", \"bingroup\": \"y\", \"hoverlabel\": {\"namelength\": 0}, \"hovertemplate\": \"vote=contra-Pinochet<br>age=%{y}<br>count=%{x}\", \"legendgroup\": \"vote=contra-Pinochet\", \"marker\": {\"color\": \"#636efa\"}, \"name\": \"vote=contra-Pinochet\", \"offsetgroup\": \"vote=contra-Pinochet\", \"opacity\": 0.5, \"showlegend\": false, \"type\": \"histogram\", \"xaxis\": \"x2\", \"y\": [41.0, 70.0, 36.0, 58.0, 38.0, 41.0, 35.0, 38.0, 33.0, 24.0, 53.0, 49.0, 36.0, 38.0, 53.0, 36.0, 27.0, 32.0, 18.0, 37.0, 18.0, 50.0, 70.0, 58.0, 58.0, 43.0, 19.0, 18.0, 23.0, 34.0, 39.0, 19.0, 59.0, 55.0, 18.0, 59.0, 32.0, 20.0, 51.0, 22.0, 32.0, 25.0, 27.0, 65.0, 59.0, 24.0, 25.0, 43.0, 20.0, 44.0, 24.0, 27.0, 37.0, 19.0, 54.0, 20.0, 34.0, 26.0, 64.0, 55.0, 33.0, 29.0, 32.0, 32.0, 43.0, 18.0, 27.0, 29.0, 20.0, 25.0, 50.0, 60.0, 57.0, 33.0, 50.0, 18.0, 21.0, 38.0, 29.0, 21.0, 33.0, 18.0, 46.0, 19.0, 24.0, 65.0, 23.0, 24.0, 37.0, 43.0, 54.0, 27.0, 54.0, 45.0, 30.0, 54.0, 36.0, 29.0, 28.0, 49.0, 22.0, 66.0, 26.0, 60.0, 18.0, 22.0, 51.0, 23.0, 36.0, 28.0, 23.0, 22.0, 22.0, 42.0, 30.0, 25.0, 55.0, 19.0, 18.0, 19.0, 22.0, 26.0, 23.0, 36.0, 19.0, 20.0, 18.0, 37.0, 29.0, 69.0, 35.0, 39.0, 70.0, 35.0, 28.0, 34.0, 37.0, 28.0, 23.0, 39.0, 21.0, 29.0, 48.0, 34.0, 22.0, 66.0, 37.0, 58.0, 26.0, 36.0, 37.0, 23.0, 30.0, 57.0, 24.0, 47.0, 63.0, 24.0, 21.0, 67.0, 42.0, 21.0, 57.0, 20.0, 46.0, 47.0, 45.0, 40.0, 35.0, 38.0, 70.0, 33.0, 18.0, 22.0, 38.0, 23.0, 43.0, 21.0, 44.0, 36.0, 33.0, 24.0, 68.0, 25.0, 18.0, 20.0, 26.0, 19.0, 27.0, 55.0, 18.0, 29.0, 66.0, 40.0, 34.0, 60.0, 18.0, 19.0, 28.0, 30.0, 33.0, 34.0, 40.0, 45.0, 24.0, 51.0, 64.0, 20.0, 57.0, 24.0, 31.0, 19.0, 65.0, 23.0, 42.0, 37.0, 28.0, 23.0, 37.0, 58.0, 30.0, 47.0, 21.0, 48.0, 53.0, 67.0, 38.0, 65.0, 21.0, 45.0, 25.0, 36.0, 18.0, 22.0, 38.0, 29.0, 40.0, 18.0, 30.0, 34.0, 22.0, 25.0, 20.0, 42.0, 29.0, 49.0, 44.0, 65.0, 21.0, 27.0, 43.0, 22.0, 24.0, 36.0, 23.0, 19.0, 20.0, 45.0, 52.0, 47.0, 49.0, 24.0, 41.0, 48.0, 23.0, 32.0, 25.0, 20.0, 20.0, 55.0, 26.0, 29.0, 18.0, 24.0, 18.0, 65.0, 55.0, 25.0, 45.0, 42.0, 20.0, 41.0, 40.0, 26.0, 50.0, 30.0, 24.0, 65.0, 22.0, 18.0, 21.0, 39.0, 62.0, 56.0, 25.0, 23.0, 22.0, 37.0, 42.0, 20.0, 28.0, 63.0, 60.0, 19.0, 38.0, 22.0, 35.0, 59.0, 19.0, 24.0, 28.0, 21.0, 30.0, 45.0, 29.0, 28.0, 43.0, 68.0, 25.0, 33.0, 57.0, 22.0, 30.0, 21.0, 44.0, 22.0, 38.0, 50.0, 24.0, 20.0, 33.0, 29.0, 41.0, 38.0, 60.0, 40.0, 36.0, 39.0, 50.0, 63.0, 36.0, 43.0, 25.0, 27.0, 20.0, 38.0, 25.0, 21.0, 23.0, 63.0, 18.0, 39.0, 51.0, 21.0, 28.0, 22.0, 20.0, 32.0, 25.0, 30.0, 30.0, 21.0, 51.0, 54.0, 36.0, 66.0, 45.0, 46.0, 65.0, 64.0, 39.0, 21.0, 49.0, 26.0, 44.0, 22.0, 60.0, 26.0, 47.0, 30.0, 38.0, 21.0, 38.0, 34.0, 70.0, 28.0, 39.0, 54.0, 67.0, 43.0, 55.0, 40.0, 19.0, 68.0, 22.0, 57.0, 65.0, 52.0, 63.0, 48.0, 43.0, 31.0, 36.0, 42.0, 23.0, 60.0, 24.0, 19.0, 20.0, 65.0, 38.0, 54.0, 62.0, 48.0, 23.0, 56.0, 68.0, 23.0, 67.0, 52.0, 18.0, 36.0, 22.0, 21.0, 45.0, 30.0, 23.0, 55.0, 53.0, 26.0, 49.0, 30.0, 30.0, 23.0, 26.0, 50.0, 62.0, 36.0, 21.0, 21.0, 20.0, 37.0, 25.0, 58.0, 27.0, 21.0, 21.0, 28.0, 24.0, 33.0, 36.0, 20.0, 36.0, 70.0, 42.0, 22.0, 44.0, 39.0, 25.0, 28.0, 21.0, 22.0, 31.0, 23.0, 26.0, 20.0, 22.0, 28.0, 21.0, 60.0, 21.0, 26.0, 68.0, 26.0, 18.0, 29.0, 36.0, 35.0, 18.0, 47.0, 54.0, 30.0, 32.0, 35.0, 24.0, 18.0, 67.0, 34.0, 27.0, 26.0, 18.0, 39.0, 26.0, 23.0, 53.0, 22.0, 27.0, 28.0, 30.0, 28.0, 37.0, 23.0, 46.0, 37.0, 20.0, 22.0, 20.0, 31.0, 43.0, 26.0, 19.0, 19.0, 30.0, 33.0, 23.0, 33.0, 29.0, 37.0, 60.0, 49.0, 34.0, 43.0, 37.0, 18.0, 44.0, 40.0, 28.0, 21.0, 18.0, 30.0, 26.0, 44.0, 35.0, 55.0, 40.0, 55.0, 21.0, 24.0, 45.0, 41.0, 28.0, 60.0, 27.0, 67.0, 21.0, 26.0, 37.0, 46.0, 31.0, 53.0, 24.0, 35.0, 70.0, 62.0, 37.0, 47.0, 45.0, 61.0, 18.0, 21.0, 52.0, 40.0, 23.0, 22.0, 22.0, 27.0, 27.0, 45.0, 18.0], \"yaxis\": \"y2\"}, {\"hoverlabel\": {\"namelength\": 0}, \"hovertemplate\": \"<b>OLS trendline</b><br>age = 0.000010 * population + 34.052787<br>R<sup>2</sup>=0.004777<br><br>vote=contra-Pinochet<br>population=%{x}<br>age=%{y} <b>(trend)</b>\", \"legendgroup\": \"vote=contra-Pinochet\", \"marker\": {\"color\": \"#636efa\", \"symbol\": \"circle\"}, \"mode\": \"lines\", \"name\": \"vote=contra-Pinochet\", \"showlegend\": false, \"type\": \"scattergl\", \"x\": [3750, 3750, 3750, 3750, 8750, 8750, 8750, 8750, 8750, 8750, 8750, 15000, 15000, 15000, 15000, 15000, 15000, 15000, 15000, 15000, 15000, 15000, 15000, 15000, 15000, 15000, 15000, 15000, 15000, 15000, 15000, 15000, 15000, 15000, 15000, 15000, 15000, 15000, 15000, 15000, 15000, 15000, 15000, 15000, 15000, 15000, 15000, 15000, 15000, 15000, 15000, 15000, 15000, 25000, 25000, 25000, 25000, 25000, 25000, 25000, 25000, 25000, 25000, 25000, 25000, 25000, 25000, 25000, 25000, 25000, 25000, 25000, 25000, 25000, 25000, 25000, 25000, 25000, 25000, 25000, 25000, 25000, 25000, 25000, 25000, 25000, 25000, 25000, 25000, 25000, 25000, 25000, 25000, 25000, 25000, 25000, 25000, 25000, 25000, 25000, 25000, 25000, 25000, 25000, 25000, 25000, 25000, 25000, 25000, 25000, 25000, 25000, 25000, 45000, 45000, 45000, 45000, 45000, 45000, 45000, 45000, 45000, 45000, 45000, 45000, 45000, 45000, 45000, 45000, 45000, 45000, 45000, 45000, 45000, 45000, 45000, 45000, 45000, 45000, 45000, 45000, 62500, 62500, 62500, 62500, 62500, 62500, 62500, 62500, 62500, 62500, 62500, 62500, 62500, 62500, 62500, 62500, 62500, 62500, 62500, 87500, 87500, 87500, 87500, 87500, 87500, 87500, 87500, 87500, 87500, 87500, 87500, 87500, 87500, 87500, 87500, 87500, 125000, 125000, 125000, 125000, 125000, 125000, 125000, 125000, 125000, 125000, 125000, 125000, 125000, 125000, 125000, 125000, 125000, 125000, 125000, 125000, 125000, 125000, 125000, 125000, 125000, 125000, 125000, 125000, 125000, 125000, 125000, 125000, 125000, 125000, 125000, 125000, 125000, 125000, 125000, 125000, 125000, 125000, 125000, 125000, 175000, 175000, 175000, 175000, 175000, 175000, 175000, 175000, 175000, 175000, 175000, 175000, 175000, 175000, 175000, 175000, 175000, 175000, 175000, 175000, 175000, 175000, 175000, 175000, 175000, 175000, 250000, 250000, 250000, 250000, 250000, 250000, 250000, 250000, 250000, 250000, 250000, 250000, 250000, 250000, 250000, 250000, 250000, 250000, 250000, 250000, 250000, 250000, 250000, 250000, 250000, 250000, 250000, 250000, 250000, 250000, 250000, 250000, 250000, 250000, 250000, 250000, 250000, 250000, 250000, 250000, 250000, 250000, 250000, 250000, 250000, 250000, 250000, 250000, 250000, 250000, 250000, 250000, 250000, 250000, 250000, 250000, 250000, 250000, 250000, 250000, 250000, 250000, 250000, 250000, 250000, 250000, 250000, 250000, 250000, 250000, 250000, 250000, 250000, 250000, 250000, 250000, 250000, 250000, 250000, 250000, 250000, 250000, 250000, 250000, 250000, 250000, 250000, 250000, 250000, 250000, 250000, 250000, 250000, 250000, 250000, 250000, 250000, 250000, 250000, 250000, 250000, 250000, 250000, 250000, 250000, 250000, 250000, 250000, 250000, 250000, 250000, 250000, 250000, 250000, 250000, 250000, 250000, 250000, 250000, 250000, 250000, 250000, 250000, 250000, 250000, 250000, 250000, 250000, 250000, 250000, 250000, 250000, 250000, 250000, 250000, 250000, 250000, 250000, 250000, 250000, 250000, 250000, 250000, 250000, 250000, 250000, 250000, 250000, 250000, 250000, 250000, 250000, 250000, 250000, 250000, 250000, 250000, 250000, 250000, 250000, 250000, 250000, 250000, 250000, 250000, 250000, 250000, 250000, 250000, 250000, 250000, 250000, 250000, 250000, 250000, 250000, 250000, 250000, 250000, 250000, 250000, 250000, 250000, 250000, 250000, 250000, 250000, 250000, 250000, 250000, 250000, 250000, 250000, 250000, 250000, 250000, 250000, 250000, 250000, 250000, 250000, 250000, 250000, 250000, 250000, 250000, 250000, 250000, 250000, 250000, 250000, 250000, 250000, 250000, 250000, 250000, 250000, 250000, 250000, 250000, 250000, 250000, 250000, 250000, 250000, 250000, 250000, 250000, 250000, 250000, 250000, 250000, 250000, 250000, 250000, 250000, 250000, 250000, 250000, 250000, 250000, 250000, 250000, 250000, 250000, 250000, 250000, 250000, 250000, 250000, 250000, 250000, 250000, 250000, 250000, 250000, 250000, 250000, 250000, 250000, 250000, 250000, 250000, 250000, 250000, 250000, 250000, 250000, 250000, 250000, 250000, 250000, 250000, 250000, 250000, 250000, 250000, 250000, 250000, 250000, 250000, 250000, 250000, 250000, 250000, 250000, 250000, 250000, 250000, 250000, 250000, 250000, 250000, 250000, 250000, 250000, 250000, 250000, 250000, 250000, 250000, 250000, 250000, 250000, 250000, 250000, 250000, 250000, 250000, 250000, 250000, 250000, 250000, 250000, 250000, 250000, 250000, 250000, 250000, 250000, 250000, 250000], \"xaxis\": \"x\", \"y\": [34.09114234239967, 34.09114234239967, 34.09114234239967, 34.09114234239967, 34.14228265422975, 34.14228265422975, 34.14228265422975, 34.14228265422975, 34.14228265422975, 34.14228265422975, 34.14228265422975, 34.20620804401735, 34.20620804401735, 34.20620804401735, 34.20620804401735, 34.20620804401735, 34.20620804401735, 34.20620804401735, 34.20620804401735, 34.20620804401735, 34.20620804401735, 34.20620804401735, 34.20620804401735, 34.20620804401735, 34.20620804401735, 34.20620804401735, 34.20620804401735, 34.20620804401735, 34.20620804401735, 34.20620804401735, 34.20620804401735, 34.20620804401735, 34.20620804401735, 34.20620804401735, 34.20620804401735, 34.20620804401735, 34.20620804401735, 34.20620804401735, 34.20620804401735, 34.20620804401735, 34.20620804401735, 34.20620804401735, 34.20620804401735, 34.20620804401735, 34.20620804401735, 34.20620804401735, 34.20620804401735, 34.20620804401735, 34.20620804401735, 34.20620804401735, 34.20620804401735, 34.20620804401735, 34.20620804401735, 34.30848866767751, 34.30848866767751, 34.30848866767751, 34.30848866767751, 34.30848866767751, 34.30848866767751, 34.30848866767751, 34.30848866767751, 34.30848866767751, 34.30848866767751, 34.30848866767751, 34.30848866767751, 34.30848866767751, 34.30848866767751, 34.30848866767751, 34.30848866767751, 34.30848866767751, 34.30848866767751, 34.30848866767751, 34.30848866767751, 34.30848866767751, 34.30848866767751, 34.30848866767751, 34.30848866767751, 34.30848866767751, 34.30848866767751, 34.30848866767751, 34.30848866767751, 34.30848866767751, 34.30848866767751, 34.30848866767751, 34.30848866767751, 34.30848866767751, 34.30848866767751, 34.30848866767751, 34.30848866767751, 34.30848866767751, 34.30848866767751, 34.30848866767751, 34.30848866767751, 34.30848866767751, 34.30848866767751, 34.30848866767751, 34.30848866767751, 34.30848866767751, 34.30848866767751, 34.30848866767751, 34.30848866767751, 34.30848866767751, 34.30848866767751, 34.30848866767751, 34.30848866767751, 34.30848866767751, 34.30848866767751, 34.30848866767751, 34.30848866767751, 34.30848866767751, 34.30848866767751, 34.30848866767751, 34.30848866767751, 34.51304991499783, 34.51304991499783, 34.51304991499783, 34.51304991499783, 34.51304991499783, 34.51304991499783, 34.51304991499783, 34.51304991499783, 34.51304991499783, 34.51304991499783, 34.51304991499783, 34.51304991499783, 34.51304991499783, 34.51304991499783, 34.51304991499783, 34.51304991499783, 34.51304991499783, 34.51304991499783, 34.51304991499783, 34.51304991499783, 34.51304991499783, 34.51304991499783, 34.51304991499783, 34.51304991499783, 34.51304991499783, 34.51304991499783, 34.51304991499783, 34.51304991499783, 34.69204100640311, 34.69204100640311, 34.69204100640311, 34.69204100640311, 34.69204100640311, 34.69204100640311, 34.69204100640311, 34.69204100640311, 34.69204100640311, 34.69204100640311, 34.69204100640311, 34.69204100640311, 34.69204100640311, 34.69204100640311, 34.69204100640311, 34.69204100640311, 34.69204100640311, 34.69204100640311, 34.69204100640311, 34.94774256555351, 34.94774256555351, 34.94774256555351, 34.94774256555351, 34.94774256555351, 34.94774256555351, 34.94774256555351, 34.94774256555351, 34.94774256555351, 34.94774256555351, 34.94774256555351, 34.94774256555351, 34.94774256555351, 34.94774256555351, 34.94774256555351, 34.94774256555351, 34.94774256555351, 35.331294904279105, 35.331294904279105, 35.331294904279105, 35.331294904279105, 35.331294904279105, 35.331294904279105, 35.331294904279105, 35.331294904279105, 35.331294904279105, 35.331294904279105, 35.331294904279105, 35.331294904279105, 35.331294904279105, 35.331294904279105, 35.331294904279105, 35.331294904279105, 35.331294904279105, 35.331294904279105, 35.331294904279105, 35.331294904279105, 35.331294904279105, 35.331294904279105, 35.331294904279105, 35.331294904279105, 35.331294904279105, 35.331294904279105, 35.331294904279105, 35.331294904279105, 35.331294904279105, 35.331294904279105, 35.331294904279105, 35.331294904279105, 35.331294904279105, 35.331294904279105, 35.331294904279105, 35.331294904279105, 35.331294904279105, 35.331294904279105, 35.331294904279105, 35.331294904279105, 35.331294904279105, 35.331294904279105, 35.331294904279105, 35.331294904279105, 35.8426980225799, 35.8426980225799, 35.8426980225799, 35.8426980225799, 35.8426980225799, 35.8426980225799, 35.8426980225799, 35.8426980225799, 35.8426980225799, 35.8426980225799, 35.8426980225799, 35.8426980225799, 35.8426980225799, 35.8426980225799, 35.8426980225799, 35.8426980225799, 35.8426980225799, 35.8426980225799, 35.8426980225799, 35.8426980225799, 35.8426980225799, 35.8426980225799, 35.8426980225799, 35.8426980225799, 35.8426980225799, 35.8426980225799, 36.6098027000311, 36.6098027000311, 36.6098027000311, 36.6098027000311, 36.6098027000311, 36.6098027000311, 36.6098027000311, 36.6098027000311, 36.6098027000311, 36.6098027000311, 36.6098027000311, 36.6098027000311, 36.6098027000311, 36.6098027000311, 36.6098027000311, 36.6098027000311, 36.6098027000311, 36.6098027000311, 36.6098027000311, 36.6098027000311, 36.6098027000311, 36.6098027000311, 36.6098027000311, 36.6098027000311, 36.6098027000311, 36.6098027000311, 36.6098027000311, 36.6098027000311, 36.6098027000311, 36.6098027000311, 36.6098027000311, 36.6098027000311, 36.6098027000311, 36.6098027000311, 36.6098027000311, 36.6098027000311, 36.6098027000311, 36.6098027000311, 36.6098027000311, 36.6098027000311, 36.6098027000311, 36.6098027000311, 36.6098027000311, 36.6098027000311, 36.6098027000311, 36.6098027000311, 36.6098027000311, 36.6098027000311, 36.6098027000311, 36.6098027000311, 36.6098027000311, 36.6098027000311, 36.6098027000311, 36.6098027000311, 36.6098027000311, 36.6098027000311, 36.6098027000311, 36.6098027000311, 36.6098027000311, 36.6098027000311, 36.6098027000311, 36.6098027000311, 36.6098027000311, 36.6098027000311, 36.6098027000311, 36.6098027000311, 36.6098027000311, 36.6098027000311, 36.6098027000311, 36.6098027000311, 36.6098027000311, 36.6098027000311, 36.6098027000311, 36.6098027000311, 36.6098027000311, 36.6098027000311, 36.6098027000311, 36.6098027000311, 36.6098027000311, 36.6098027000311, 36.6098027000311, 36.6098027000311, 36.6098027000311, 36.6098027000311, 36.6098027000311, 36.6098027000311, 36.6098027000311, 36.6098027000311, 36.6098027000311, 36.6098027000311, 36.6098027000311, 36.6098027000311, 36.6098027000311, 36.6098027000311, 36.6098027000311, 36.6098027000311, 36.6098027000311, 36.6098027000311, 36.6098027000311, 36.6098027000311, 36.6098027000311, 36.6098027000311, 36.6098027000311, 36.6098027000311, 36.6098027000311, 36.6098027000311, 36.6098027000311, 36.6098027000311, 36.6098027000311, 36.6098027000311, 36.6098027000311, 36.6098027000311, 36.6098027000311, 36.6098027000311, 36.6098027000311, 36.6098027000311, 36.6098027000311, 36.6098027000311, 36.6098027000311, 36.6098027000311, 36.6098027000311, 36.6098027000311, 36.6098027000311, 36.6098027000311, 36.6098027000311, 36.6098027000311, 36.6098027000311, 36.6098027000311, 36.6098027000311, 36.6098027000311, 36.6098027000311, 36.6098027000311, 36.6098027000311, 36.6098027000311, 36.6098027000311, 36.6098027000311, 36.6098027000311, 36.6098027000311, 36.6098027000311, 36.6098027000311, 36.6098027000311, 36.6098027000311, 36.6098027000311, 36.6098027000311, 36.6098027000311, 36.6098027000311, 36.6098027000311, 36.6098027000311, 36.6098027000311, 36.6098027000311, 36.6098027000311, 36.6098027000311, 36.6098027000311, 36.6098027000311, 36.6098027000311, 36.6098027000311, 36.6098027000311, 36.6098027000311, 36.6098027000311, 36.6098027000311, 36.6098027000311, 36.6098027000311, 36.6098027000311, 36.6098027000311, 36.6098027000311, 36.6098027000311, 36.6098027000311, 36.6098027000311, 36.6098027000311, 36.6098027000311, 36.6098027000311, 36.6098027000311, 36.6098027000311, 36.6098027000311, 36.6098027000311, 36.6098027000311, 36.6098027000311, 36.6098027000311, 36.6098027000311, 36.6098027000311, 36.6098027000311, 36.6098027000311, 36.6098027000311, 36.6098027000311, 36.6098027000311, 36.6098027000311, 36.6098027000311, 36.6098027000311, 36.6098027000311, 36.6098027000311, 36.6098027000311, 36.6098027000311, 36.6098027000311, 36.6098027000311, 36.6098027000311, 36.6098027000311, 36.6098027000311, 36.6098027000311, 36.6098027000311, 36.6098027000311, 36.6098027000311, 36.6098027000311, 36.6098027000311, 36.6098027000311, 36.6098027000311, 36.6098027000311, 36.6098027000311, 36.6098027000311, 36.6098027000311, 36.6098027000311, 36.6098027000311, 36.6098027000311, 36.6098027000311, 36.6098027000311, 36.6098027000311, 36.6098027000311, 36.6098027000311, 36.6098027000311, 36.6098027000311, 36.6098027000311, 36.6098027000311, 36.6098027000311, 36.6098027000311, 36.6098027000311, 36.6098027000311, 36.6098027000311, 36.6098027000311, 36.6098027000311, 36.6098027000311, 36.6098027000311, 36.6098027000311, 36.6098027000311, 36.6098027000311, 36.6098027000311, 36.6098027000311, 36.6098027000311, 36.6098027000311, 36.6098027000311, 36.6098027000311, 36.6098027000311, 36.6098027000311, 36.6098027000311, 36.6098027000311, 36.6098027000311, 36.6098027000311, 36.6098027000311, 36.6098027000311, 36.6098027000311, 36.6098027000311, 36.6098027000311, 36.6098027000311, 36.6098027000311, 36.6098027000311, 36.6098027000311, 36.6098027000311, 36.6098027000311, 36.6098027000311, 36.6098027000311, 36.6098027000311, 36.6098027000311, 36.6098027000311, 36.6098027000311, 36.6098027000311, 36.6098027000311, 36.6098027000311, 36.6098027000311, 36.6098027000311, 36.6098027000311, 36.6098027000311, 36.6098027000311, 36.6098027000311, 36.6098027000311, 36.6098027000311, 36.6098027000311, 36.6098027000311, 36.6098027000311, 36.6098027000311, 36.6098027000311, 36.6098027000311, 36.6098027000311, 36.6098027000311, 36.6098027000311, 36.6098027000311, 36.6098027000311, 36.6098027000311, 36.6098027000311, 36.6098027000311, 36.6098027000311, 36.6098027000311, 36.6098027000311, 36.6098027000311, 36.6098027000311, 36.6098027000311, 36.6098027000311, 36.6098027000311, 36.6098027000311, 36.6098027000311, 36.6098027000311, 36.6098027000311, 36.6098027000311, 36.6098027000311, 36.6098027000311, 36.6098027000311, 36.6098027000311, 36.6098027000311, 36.6098027000311, 36.6098027000311, 36.6098027000311, 36.6098027000311, 36.6098027000311, 36.6098027000311, 36.6098027000311, 36.6098027000311, 36.6098027000311, 36.6098027000311, 36.6098027000311, 36.6098027000311, 36.6098027000311, 36.6098027000311, 36.6098027000311, 36.6098027000311, 36.6098027000311], \"yaxis\": \"y\"}, {\"hoverlabel\": {\"namelength\": 0}, \"hovertemplate\": \"vote=YUA<br>population=%{x}<br>age=%{y}\", \"legendgroup\": \"vote=YUA\", \"marker\": {\"color\": \"#EF553B\", \"symbol\": \"circle\"}, \"mode\": \"markers\", \"name\": \"vote=YUA\", \"showlegend\": true, \"type\": \"scattergl\", \"x\": [250000, 25000, 125000, 25000, 15000, 15000, 25000, 15000, 250000, 25000, 25000, 25000, 25000, 250000, 175000, 15000, 15000, 25000, 250000, 15000, 125000, 250000, 250000, 25000, 250000, 250000, 250000, 125000, 250000, 250000, 250000, 15000, 25000, 25000, 250000, 175000, 45000, 250000, 25000, 250000, 15000, 175000, 8750, 45000, 250000, 175000, 87500, 125000, 125000, 15000, 250000, 175000, 87500, 250000, 125000, 25000, 15000, 250000, 25000, 25000, 250000, 250000, 175000, 125000, 250000, 45000, 250000, 250000, 15000, 250000, 250000, 15000, 45000, 25000, 125000, 250000, 125000, 250000, 62500, 125000, 15000, 125000, 25000, 250000, 125000, 3750, 250000, 25000, 15000, 125000, 25000, 87500, 250000, 62500, 25000, 25000, 250000, 25000, 250000, 15000, 250000, 175000, 125000, 250000, 250000, 125000, 25000, 250000, 250000, 8750, 62500, 250000, 250000, 25000, 15000, 87500, 87500, 250000, 250000, 250000, 250000, 175000, 125000, 250000, 250000, 45000, 125000, 250000, 250000, 250000, 25000, 15000, 125000, 15000, 87500, 125000, 250000, 125000, 8750, 15000, 25000, 25000, 45000, 25000, 175000, 250000, 250000, 250000, 25000, 125000, 250000, 15000, 250000, 25000, 250000, 250000, 62500, 125000, 45000, 250000, 250000, 15000, 250000, 25000, 25000, 250000, 250000, 45000, 250000, 250000, 250000, 25000, 125000, 15000, 125000, 250000, 45000, 62500, 15000, 15000, 15000, 250000, 250000, 250000, 250000, 250000, 15000, 250000, 62500, 250000, 250000, 250000, 8750, 175000, 45000, 25000, 250000, 250000, 62500, 15000, 250000, 15000, 15000, 175000, 25000, 250000, 250000, 125000, 250000, 25000, 250000, 250000, 250000, 125000, 250000, 15000, 15000, 250000, 25000, 175000, 250000, 250000, 250000, 45000, 125000, 62500, 45000, 250000, 25000, 175000, 250000, 125000, 250000, 15000, 250000, 250000, 87500, 25000, 25000, 250000, 250000, 250000, 25000, 15000, 15000, 25000, 250000, 8750, 15000, 25000, 175000, 45000, 250000, 45000, 250000, 250000, 250000, 250000, 250000, 25000, 250000, 25000, 15000, 15000, 250000, 45000, 250000, 250000, 250000, 125000, 25000, 250000, 15000, 25000, 250000, 25000, 15000, 250000, 250000, 25000, 175000, 250000, 250000, 87500, 250000, 175000, 8750, 8750, 250000, 250000, 15000, 125000, 15000, 250000, 250000, 250000, 15000, 15000, 125000, 87500, 175000, 250000, 250000, 125000, 250000, 62500, 250000, 25000, 125000, 250000, 250000, 250000, 87500, 62500, 8750, 250000, 25000, 45000, 15000, 15000, 8750, 175000, 250000, 45000, 25000, 125000, 25000, 250000, 25000, 45000, 250000, 15000, 250000, 25000, 25000, 15000, 250000, 250000, 25000, 250000, 250000, 8750, 250000, 25000, 15000, 15000, 175000, 125000, 250000, 250000, 250000, 15000, 125000, 125000, 175000, 250000, 25000, 250000, 87500, 25000, 15000, 125000, 175000, 250000, 250000, 25000, 250000, 3750, 15000, 25000, 15000, 125000, 125000, 15000, 15000, 25000, 8750, 15000, 250000, 175000, 25000, 125000, 250000, 3750, 175000, 250000, 250000, 250000, 15000, 250000, 175000, 250000, 8750, 250000, 125000, 25000, 250000, 250000, 250000, 250000, 250000, 8750, 250000, 250000, 250000, 125000, 15000, 250000, 250000, 250000, 25000, 250000, 250000, 250000, 250000, 250000, 250000, 15000, 15000, 15000, 125000, 250000, 250000, 250000, 25000, 250000, 15000, 15000, 250000, 25000, 250000, 250000, 250000, 8750, 25000, 250000, 125000, 250000, 250000, 250000, 250000, 125000, 25000, 15000, 250000, 250000, 250000, 250000, 250000, 250000, 250000, 25000, 125000, 250000, 15000, 125000, 45000, 250000, 250000, 250000, 250000, 8750, 125000, 62500, 15000, 250000, 25000, 15000, 250000, 25000, 250000, 125000, 25000, 45000, 250000, 250000, 250000, 125000, 25000, 250000, 15000, 15000, 250000, 3750, 250000, 25000, 250000, 25000, 15000, 250000, 250000, 25000, 250000, 87500, 250000, 250000, 25000, 15000, 25000, 25000, 250000, 250000, 250000, 15000, 62500, 250000, 250000, 250000, 125000, 15000, 250000, 175000, 3750, 250000, 175000, 25000, 15000, 250000, 125000, 250000, 250000, 15000, 45000, 250000, 15000, 250000, 250000, 25000, 87500, 87500, 125000, 125000, 250000, 25000, 15000, 250000, 62500, 87500, 15000, 15000, 250000, 250000, 125000, 250000, 250000, 250000, 250000, 15000, 250000, 125000, 45000, 15000, 125000, 175000, 45000, 250000, 250000, 250000, 25000, 62500, 45000, 25000, 45000, 125000, 45000, 15000, 250000, 45000, 175000, 250000, 250000, 250000, 250000, 62500, 62500, 15000, 25000, 250000, 25000, 25000, 250000, 25000, 87500, 15000, 87500, 175000, 250000, 125000, 25000, 250000, 125000, 125000, 250000, 250000, 15000, 25000, 250000, 125000, 87500, 250000, 25000, 25000, 25000, 125000, 250000, 15000, 250000, 25000, 25000, 8750, 45000, 250000, 87500, 250000, 15000, 25000, 250000, 25000, 250000, 250000, 62500, 250000, 25000, 62500, 250000, 250000, 250000, 175000, 3750, 250000, 25000, 25000, 250000, 250000, 25000, 250000, 250000, 250000, 250000, 250000, 15000, 250000, 125000, 125000, 250000, 25000, 45000, 15000, 15000, 250000, 15000, 250000, 15000, 125000, 250000, 25000, 125000, 250000, 125000, 25000, 25000, 62500, 250000, 15000, 250000, 175000, 250000, 250000, 15000, 25000, 62500, 15000, 250000, 250000, 25000, 250000, 15000, 250000, 250000, 25000, 15000, 250000, 25000, 250000, 250000, 250000, 125000, 25000, 250000, 45000, 175000, 250000, 250000, 250000, 15000, 250000, 15000, 45000, 250000, 250000, 250000, 250000, 25000, 250000, 250000, 250000, 15000, 125000, 250000, 62500, 45000, 45000, 250000, 250000, 125000, 25000, 250000, 250000, 25000, 250000, 125000, 250000, 87500, 250000, 175000, 15000, 45000, 62500, 25000, 250000, 250000, 87500, 250000, 15000, 87500, 175000, 250000, 25000, 125000, 25000, 250000, 250000, 250000, 45000, 125000, 250000, 250000, 15000, 250000, 175000, 250000, 250000, 15000, 15000, 250000, 125000, 15000, 125000, 8750, 250000, 15000, 250000, 250000, 250000, 250000, 175000, 250000, 8750, 250000, 25000, 25000, 25000, 250000, 250000, 87500, 25000, 175000, 250000, 250000, 15000, 250000, 25000, 15000, 8750, 125000, 15000, 250000, 250000, 15000, 175000, 25000, 25000, 250000, 175000, 250000, 250000, 62500, 250000, 250000, 250000, 25000, 250000, 250000, 250000, 25000, 250000, 250000, 8750, 250000, 250000, 25000, 25000, 250000, 250000, 87500, 250000, 250000, 250000, 25000, 250000, 250000, 25000, 15000, 125000, 250000, 250000, 250000, 250000, 25000, 25000, 250000, 125000, 15000, 25000, 25000, 45000, 62500, 25000, 15000, 250000, 250000, 250000, 250000, 8750, 250000, 250000, 15000, 250000, 250000, 250000, 125000, 8750, 250000, 250000, 25000, 25000, 25000, 15000, 250000, 15000, 250000, 250000, 15000, 250000, 25000, 250000, 15000, 125000, 15000, 250000, 15000, 250000, 250000, 125000, 250000, 250000, 25000, 250000, 87500, 250000, 175000, 125000, 62500, 250000, 15000, 125000, 8750, 250000, 125000, 25000, 250000, 25000, 125000, 250000, 25000, 8750, 25000, 175000, 250000, 250000, 250000, 250000, 25000, 250000, 25000, 125000, 125000, 250000, 250000, 15000, 250000, 250000, 125000, 250000, 87500, 25000, 175000, 25000, 125000, 250000, 250000, 8750, 25000, 250000, 250000, 250000, 250000, 15000, 25000, 175000, 8750, 250000, 250000, 250000, 8750, 15000, 250000, 25000, 250000, 125000, 87500, 87500, 125000, 25000, 87500, 45000, 250000, 175000, 175000, 250000, 125000, 15000, 25000, 250000, 25000, 45000, 250000, 250000, 25000, 250000, 25000, 175000, 87500, 87500, 250000, 175000, 250000, 8750, 250000, 25000, 250000, 25000, 250000, 8750, 250000, 15000, 250000, 87500, 250000, 15000, 175000, 8750, 25000, 62500, 250000, 62500, 45000, 250000, 250000, 15000, 45000, 125000, 250000, 250000, 250000, 25000, 250000, 125000, 45000, 125000, 25000, 250000, 45000, 175000, 250000, 3750, 45000, 125000, 250000, 45000, 125000, 125000, 15000, 250000, 250000, 25000, 250000, 250000, 175000, 250000, 45000, 25000, 250000, 25000, 250000, 250000, 250000, 250000, 175000, 175000, 87500, 250000, 125000, 25000, 250000, 87500, 45000, 87500, 175000, 250000, 125000, 25000, 62500, 250000, 15000, 250000, 250000, 45000, 250000, 175000, 250000], \"xaxis\": \"x\", \"y\": [36.0, 50.0, 18.0, 37.0, 52.0, 32.0, 22.0, 66.0, 37.0, 51.0, 44.0, 56.0, 47.0, 62.0, 18.0, 36.0, 44.0, 33.0, 56.0, 68.0, 40.0, 65.0, 18.0, 27.0, 36.0, 23.0, 42.0, 59.0, 43.0, 47.0, 42.0, 46.0, 19.0, 21.0, 53.0, 20.0, 19.0, 40.0, 39.0, 44.0, 57.0, 25.0, 24.0, 34.0, 23.0, 30.0, 42.0, 23.0, 59.0, 69.0, 25.0, 67.0, 22.0, 70.0, 21.0, 19.0, 25.0, 70.0, 52.0, 43.0, 56.0, 48.0, 36.0, 35.0, 69.0, 19.0, 44.0, 41.0, 33.0, 58.0, 57.0, 21.0, 60.0, 59.0, 61.0, 47.0, 18.0, 42.0, 29.0, 53.0, 24.0, 44.0, 70.0, 59.0, 37.0, 18.0, 30.0, 27.0, 37.0, 21.0, 32.0, 42.0, 39.0, 66.0, 31.0, 35.0, 42.0, 28.0, 70.0, 23.0, 31.0, 45.0, 64.0, 45.0, 61.0, 48.0, 70.0, 28.0, 19.0, 38.0, 60.0, 37.0, 43.0, 28.0, 35.0, 31.0, 36.0, 55.0, 29.0, 59.0, 70.0, 65.0, 20.0, 68.0, 49.0, 26.0, 24.0, 18.0, 59.0, 44.0, 60.0, 50.0, 23.0, 54.0, 44.0, 26.0, 38.0, 23.0, 58.0, 18.0, 68.0, 20.0, 32.0, 29.0, 55.0, 18.0, 39.0, 39.0, 57.0, 59.0, 48.0, 49.0, 28.0, 47.0, 69.0, 39.0, 29.0, 48.0, 28.0, 25.0, 70.0, 70.0, 36.0, 22.0, 18.0, 28.0, 61.0, 46.0, 36.0, 55.0, 31.0, 64.0, 39.0, 54.0, 70.0, 66.0, 60.0, 29.0, 58.0, 56.0, 58.0, 45.0, 63.0, 42.0, 23.0, 45.0, 43.0, 40.0, 46.0, 36.0, 58.0, 20.0, 69.0, 19.0, 25.0, 30.0, 22.0, 53.0, 52.0, 60.0, 39.0, 29.0, 53.0, 64.0, 64.0, 21.0, 49.0, 65.0, 38.0, 28.0, 21.0, 40.0, 22.0, 38.0, 51.0, 47.0, 35.0, 36.0, 29.0, 46.0, 35.0, 18.0, 60.0, 25.0, 40.0, 57.0, 25.0, 32.0, 34.0, 36.0, 18.0, 38.0, 21.0, 45.0, 65.0, 67.0, 28.0, 24.0, 70.0, 35.0, 31.0, 31.0, 67.0, 35.0, 37.0, 21.0, 48.0, 26.0, 26.0, 28.0, 38.0, 20.0, 60.0, 32.0, 29.0, 35.0, 35.0, 44.0, 57.0, 18.0, 32.0, 59.0, 65.0, 29.0, 42.0, 22.0, 45.0, 39.0, 45.0, 58.0, 43.0, 29.0, 22.0, 30.0, 50.0, 41.0, 19.0, 25.0, 18.0, 19.0, 36.0, 67.0, 24.0, 50.0, 39.0, 46.0, 26.0, 29.0, 31.0, 64.0, 21.0, 47.0, 27.0, 39.0, 24.0, 28.0, 30.0, 29.0, 29.0, 26.0, 24.0, 42.0, 53.0, 22.0, 19.0, 40.0, 46.0, 60.0, 38.0, 57.0, 20.0, 22.0, 47.0, 36.0, 70.0, 25.0, 45.0, 66.0, 43.0, 19.0, 24.0, 31.0, 21.0, 45.0, 65.0, 19.0, 54.0, 20.0, 25.0, 25.0, 23.0, 20.0, 22.0, 57.0, 55.0, 58.0, 48.0, 60.0, 36.0, 43.0, 23.0, 48.0, 35.0, 51.0, 20.0, 37.0, 66.0, 21.0, 46.0, 56.0, 30.0, 57.0, 25.0, 28.0, 39.0, 58.0, 28.0, 29.0, 38.0, 49.0, 36.0, 29.0, 39.0, 41.0, 23.0, 61.0, 44.0, 59.0, 32.0, 21.0, 62.0, 19.0, 42.0, 36.0, 23.0, 42.0, 40.0, 32.0, 40.0, 19.0, 45.0, 37.0, 40.0, 53.0, 19.0, 42.0, 48.0, 42.0, 29.0, 24.0, 43.0, 34.0, 46.0, 54.0, 33.0, 31.0, 25.0, 66.0, 40.0, 18.0, 19.0, 28.0, 38.0, 63.0, 35.0, 33.0, 50.0, 61.0, 43.0, 60.0, 24.0, 68.0, 34.0, 50.0, 43.0, 46.0, 45.0, 69.0, 27.0, 35.0, 18.0, 21.0, 24.0, 31.0, 67.0, 35.0, 34.0, 29.0, 50.0, 37.0, 61.0, 24.0, 35.0, 28.0, 27.0, 37.0, 51.0, 37.0, 49.0, 70.0, 70.0, 21.0, 49.0, 60.0, 31.0, 37.0, 54.0, 55.0, 43.0, 49.0, 59.0, 48.0, 44.0, 63.0, 37.0, 62.0, 63.0, 36.0, 48.0, 39.0, 36.0, 40.0, 67.0, 21.0, 25.0, 46.0, 57.0, 70.0, 34.0, 28.0, 20.0, 42.0, 40.0, 44.0, 36.0, 58.0, 48.0, 34.0, 58.0, 22.0, 59.0, 25.0, 59.0, 27.0, 50.0, 66.0, 53.0, 21.0, 33.0, 27.0, 30.0, 67.0, 37.0, 30.0, 41.0, 28.0, 35.0, 59.0, 27.0, 20.0, 35.0, 23.0, 25.0, 33.0, 42.0, 25.0, 69.0, 70.0, 47.0, 38.0, 64.0, 28.0, 49.0, 36.0, 56.0, 36.0, 62.0, 34.0, 24.0, 36.0, 26.0, 70.0, 26.0, 56.0, 33.0, 20.0, 19.0, 23.0, 60.0, 29.0, 31.0, 32.0, 39.0, 32.0, 33.0, 36.0, 38.0, 48.0, 47.0, 40.0, 62.0, 58.0, 52.0, 21.0, 18.0, 19.0, 57.0, 22.0, 70.0, 68.0, 60.0, 64.0, 32.0, 20.0, 48.0, 58.0, 44.0, 19.0, 36.0, 60.0, 31.0, 37.0, 40.0, 54.0, 40.0, 25.0, 48.0, 39.0, 46.0, 22.0, 19.0, 21.0, 56.0, 18.0, 40.0, 26.0, 35.0, 53.0, 20.0, 28.0, 33.0, 37.0, 21.0, 39.0, 51.0, 21.0, 24.0, 54.0, 22.0, 41.0, 35.0, 28.0, 40.0, 44.0, 27.0, 69.0, 49.0, 48.0, 26.0, 45.0, 66.0, 57.0, 24.0, 42.0, 39.0, 21.0, 58.0, 33.0, 27.0, 25.0, 18.0, 70.0, 70.0, 24.0, 23.0, 52.0, 21.0, 25.0, 59.0, 18.0, 33.0, 59.0, 26.0, 20.0, 27.0, 49.0, 33.0, 55.0, 64.0, 52.0, 49.0, 33.0, 62.0, 59.0, 45.0, 18.0, 47.0, 60.0, 44.0, 25.0, 31.0, 19.0, 66.0, 37.0, 48.0, 36.0, 58.0, 64.0, 44.0, 62.0, 22.0, 57.0, 67.0, 54.0, 43.0, 26.0, 51.0, 26.0, 24.0, 55.0, 21.0, 21.0, 41.0, 19.0, 44.0, 41.0, 70.0, 50.0, 27.0, 54.0, 48.0, 38.0, 24.0, 66.0, 44.0, 26.0, 48.0, 36.0, 20.0, 49.0, 39.0, 26.0, 27.0, 36.0, 20.0, 65.0, 49.0, 37.0, 20.0, 63.0, 37.0, 68.0, 34.0, 21.0, 43.0, 37.0, 30.0, 46.0, 62.0, 37.0, 60.0, 47.0, 58.0, 46.0, 31.0, 31.0, 34.0, 63.0, 36.0, 26.0, 27.0, 19.0, 27.0, 47.0, 36.0, 45.0, 39.0, 33.0, 59.0, 33.0, 25.0, 64.0, 58.0, 66.0, 49.0, 33.0, 42.0, 47.0, 45.0, 21.0, 48.0, 23.0, 32.0, 44.0, 40.0, 53.0, 33.0, 58.0, 38.0, 19.0, 50.0, 18.0, 70.0, 54.0, 19.0, 30.0, 54.0, 54.0, 22.0, 20.0, 25.0, 24.0, 22.0, 19.0, 35.0, 70.0, 55.0, 52.0, 39.0, 33.0, 31.0, 19.0, 67.0, 44.0, 52.0, 58.0, 46.0, 59.0, 27.0, 37.0, 22.0, 50.0, 45.0, 60.0, 18.0, 29.0, 30.0, 36.0, 42.0, 30.0, 29.0, 30.0, 30.0, 34.0, 66.0, 28.0, 27.0, 32.0, 31.0, 44.0, 55.0, 56.0, 35.0, 27.0, 34.0, 30.0, 40.0, 62.0, 52.0, 68.0, 37.0, 38.0, 62.0, 36.0, 47.0, 23.0, null, 31.0, 70.0, 46.0, 40.0, 53.0, 18.0, 22.0, 64.0, 29.0, 50.0, 30.0, 38.0, 37.0, 45.0, 41.0, 33.0, 68.0, 26.0, 28.0, 40.0, 48.0, 32.0, 23.0, 56.0, 49.0, 48.0, 23.0, 25.0, 57.0, 27.0, 35.0, 28.0, 22.0, 35.0, 64.0, 70.0, 37.0, 25.0, 57.0, 27.0, 18.0, 55.0, 21.0, 43.0, 60.0, 32.0, 53.0, 34.0, 30.0, 42.0, 70.0, 54.0, 41.0, 42.0, 39.0, 33.0, 36.0, 29.0, 37.0, 63.0, 42.0, 27.0, 45.0, 38.0, 37.0, 39.0, 50.0, 20.0, 36.0, 31.0, 48.0, 27.0, 25.0, 37.0, 45.0, 30.0, 69.0, 59.0, 39.0, 37.0, 44.0, 28.0, 33.0, 31.0, 64.0, 31.0, 60.0, 38.0, 33.0, 40.0, 41.0, 60.0, 51.0, 26.0, 24.0, 69.0, 35.0, 47.0, 34.0, 32.0, 61.0, 23.0, 61.0, 21.0, 25.0, 24.0, 28.0, 57.0, 38.0, 28.0, 59.0, 52.0, 70.0, 22.0, 60.0, 63.0, 27.0, 38.0, 42.0, 60.0, 42.0, 30.0, 29.0, 70.0, 50.0, 69.0, 22.0, 19.0, 63.0, 44.0, 50.0, 27.0, 41.0, 21.0, 19.0, 51.0, 40.0, 30.0, 34.0, 36.0, 28.0, 36.0, 50.0, 30.0, 56.0, 32.0, 31.0, 41.0, 25.0, 18.0, 40.0, 21.0, 63.0, 35.0, 39.0, 46.0, 60.0, 19.0, 35.0, 69.0, 36.0, 38.0, 60.0, 24.0, 29.0, 60.0, 25.0, 33.0, 53.0, 53.0, 22.0, 18.0, 20.0, 48.0, 32.0, 41.0, 21.0, 33.0, 38.0, 30.0, 36.0, 40.0, 37.0, 18.0, 22.0, 21.0, 57.0, 24.0, 22.0, 67.0, 29.0, 32.0, 39.0, 41.0, 65.0, 28.0, 40.0, 53.0, 26.0, 40.0, 33.0, 20.0, 30.0, 20.0, 46.0, 21.0, 45.0, 60.0, 36.0, 18.0, 21.0, 23.0, 30.0, 53.0, 36.0, 45.0, 45.0, 18.0, 60.0, 29.0, 37.0, 28.0, 27.0, 32.0, 35.0, 36.0, 19.0, 26.0, 35.0, 25.0, 38.0, 22.0, 27.0, 19.0, 56.0, 39.0, 58.0, 39.0, 25.0, 60.0, 49.0, 68.0, 23.0, 50.0], \"yaxis\": \"y\"}, {\"alignmentgroup\": \"True\", \"hoverlabel\": {\"namelength\": 0}, \"hovertemplate\": \"vote=YUA<br>population=%{x}\", \"legendgroup\": \"vote=YUA\", \"marker\": {\"color\": \"#EF553B\", \"symbol\": \"circle\"}, \"name\": \"vote=YUA\", \"notched\": true, \"offsetgroup\": \"vote=YUA\", \"showlegend\": false, \"type\": \"box\", \"x\": [250000, 25000, 125000, 25000, 15000, 15000, 25000, 15000, 250000, 25000, 25000, 25000, 25000, 250000, 175000, 15000, 15000, 25000, 250000, 15000, 125000, 250000, 250000, 25000, 250000, 250000, 250000, 125000, 250000, 250000, 250000, 15000, 25000, 25000, 250000, 175000, 45000, 250000, 25000, 250000, 15000, 175000, 8750, 45000, 250000, 175000, 87500, 125000, 125000, 15000, 250000, 175000, 87500, 250000, 125000, 25000, 15000, 250000, 25000, 25000, 250000, 250000, 175000, 125000, 250000, 45000, 250000, 250000, 15000, 250000, 250000, 15000, 45000, 25000, 125000, 250000, 125000, 250000, 62500, 125000, 15000, 125000, 25000, 250000, 125000, 3750, 250000, 25000, 15000, 125000, 25000, 87500, 250000, 62500, 25000, 25000, 250000, 25000, 250000, 15000, 250000, 175000, 125000, 250000, 250000, 125000, 25000, 250000, 250000, 8750, 62500, 250000, 250000, 25000, 15000, 87500, 87500, 250000, 250000, 250000, 250000, 175000, 125000, 250000, 250000, 45000, 125000, 250000, 250000, 250000, 25000, 15000, 125000, 15000, 87500, 125000, 250000, 125000, 8750, 15000, 25000, 25000, 45000, 25000, 175000, 250000, 250000, 250000, 25000, 125000, 250000, 15000, 250000, 25000, 250000, 250000, 62500, 125000, 45000, 250000, 250000, 15000, 250000, 25000, 25000, 250000, 250000, 45000, 250000, 250000, 250000, 25000, 125000, 15000, 125000, 250000, 45000, 62500, 15000, 15000, 15000, 250000, 250000, 250000, 250000, 250000, 15000, 250000, 62500, 250000, 250000, 250000, 8750, 175000, 45000, 25000, 250000, 250000, 62500, 15000, 250000, 15000, 15000, 175000, 25000, 250000, 250000, 125000, 250000, 25000, 250000, 250000, 250000, 125000, 250000, 15000, 15000, 250000, 25000, 175000, 250000, 250000, 250000, 45000, 125000, 62500, 45000, 250000, 25000, 175000, 250000, 125000, 250000, 15000, 250000, 250000, 87500, 25000, 25000, 250000, 250000, 250000, 25000, 15000, 15000, 25000, 250000, 8750, 15000, 25000, 175000, 45000, 250000, 45000, 250000, 250000, 250000, 250000, 250000, 25000, 250000, 25000, 15000, 15000, 250000, 45000, 250000, 250000, 250000, 125000, 25000, 250000, 15000, 25000, 250000, 25000, 15000, 250000, 250000, 25000, 175000, 250000, 250000, 87500, 250000, 175000, 8750, 8750, 250000, 250000, 15000, 125000, 15000, 250000, 250000, 250000, 15000, 15000, 125000, 87500, 175000, 250000, 250000, 125000, 250000, 62500, 250000, 25000, 125000, 250000, 250000, 250000, 87500, 62500, 8750, 250000, 25000, 45000, 15000, 15000, 8750, 175000, 250000, 45000, 25000, 125000, 25000, 250000, 25000, 45000, 250000, 15000, 250000, 25000, 25000, 15000, 250000, 250000, 25000, 250000, 250000, 8750, 250000, 25000, 15000, 15000, 175000, 125000, 250000, 250000, 250000, 15000, 125000, 125000, 175000, 250000, 25000, 250000, 87500, 25000, 15000, 125000, 175000, 250000, 250000, 25000, 250000, 3750, 15000, 25000, 15000, 125000, 125000, 15000, 15000, 25000, 8750, 15000, 250000, 175000, 25000, 125000, 250000, 3750, 175000, 250000, 250000, 250000, 15000, 250000, 175000, 250000, 8750, 250000, 125000, 25000, 250000, 250000, 250000, 250000, 250000, 8750, 250000, 250000, 250000, 125000, 15000, 250000, 250000, 250000, 25000, 250000, 250000, 250000, 250000, 250000, 250000, 15000, 15000, 15000, 125000, 250000, 250000, 250000, 25000, 250000, 15000, 15000, 250000, 25000, 250000, 250000, 250000, 8750, 25000, 250000, 125000, 250000, 250000, 250000, 250000, 125000, 25000, 15000, 250000, 250000, 250000, 250000, 250000, 250000, 250000, 25000, 125000, 250000, 15000, 125000, 45000, 250000, 250000, 250000, 250000, 8750, 125000, 62500, 15000, 250000, 25000, 15000, 250000, 25000, 250000, 125000, 25000, 45000, 250000, 250000, 250000, 125000, 25000, 250000, 15000, 15000, 250000, 3750, 250000, 25000, 250000, 25000, 15000, 250000, 250000, 25000, 250000, 87500, 250000, 250000, 25000, 15000, 25000, 25000, 250000, 250000, 250000, 15000, 62500, 250000, 250000, 250000, 125000, 15000, 250000, 175000, 3750, 250000, 175000, 25000, 15000, 250000, 125000, 250000, 250000, 15000, 45000, 250000, 15000, 250000, 250000, 25000, 87500, 87500, 125000, 125000, 250000, 25000, 15000, 250000, 62500, 87500, 15000, 15000, 250000, 250000, 125000, 250000, 250000, 250000, 250000, 15000, 250000, 125000, 45000, 15000, 125000, 175000, 45000, 250000, 250000, 250000, 25000, 62500, 45000, 25000, 45000, 125000, 45000, 15000, 250000, 45000, 175000, 250000, 250000, 250000, 250000, 62500, 62500, 15000, 25000, 250000, 25000, 25000, 250000, 25000, 87500, 15000, 87500, 175000, 250000, 125000, 25000, 250000, 125000, 125000, 250000, 250000, 15000, 25000, 250000, 125000, 87500, 250000, 25000, 25000, 25000, 125000, 250000, 15000, 250000, 25000, 25000, 8750, 45000, 250000, 87500, 250000, 15000, 25000, 250000, 25000, 250000, 250000, 62500, 250000, 25000, 62500, 250000, 250000, 250000, 175000, 3750, 250000, 25000, 25000, 250000, 250000, 25000, 250000, 250000, 250000, 250000, 250000, 15000, 250000, 125000, 125000, 250000, 25000, 45000, 15000, 15000, 250000, 15000, 250000, 15000, 125000, 250000, 25000, 125000, 250000, 125000, 25000, 25000, 62500, 250000, 15000, 250000, 175000, 250000, 250000, 15000, 25000, 62500, 15000, 250000, 250000, 25000, 250000, 15000, 250000, 250000, 25000, 15000, 250000, 25000, 250000, 250000, 250000, 125000, 25000, 250000, 45000, 175000, 250000, 250000, 250000, 15000, 250000, 15000, 45000, 250000, 250000, 250000, 250000, 25000, 250000, 250000, 250000, 15000, 125000, 250000, 62500, 45000, 45000, 250000, 250000, 125000, 25000, 250000, 250000, 25000, 250000, 125000, 250000, 87500, 250000, 175000, 15000, 45000, 62500, 25000, 250000, 250000, 87500, 250000, 15000, 87500, 175000, 250000, 25000, 125000, 25000, 250000, 250000, 250000, 45000, 125000, 250000, 250000, 15000, 250000, 175000, 250000, 250000, 15000, 15000, 250000, 125000, 15000, 125000, 8750, 250000, 15000, 250000, 250000, 250000, 250000, 175000, 250000, 8750, 250000, 25000, 25000, 25000, 250000, 250000, 87500, 25000, 175000, 250000, 250000, 15000, 250000, 25000, 15000, 8750, 125000, 15000, 250000, 250000, 15000, 175000, 25000, 25000, 250000, 175000, 250000, 250000, 62500, 250000, 250000, 250000, 25000, 250000, 250000, 250000, 25000, 250000, 250000, 8750, 250000, 250000, 25000, 25000, 250000, 250000, 87500, 250000, 250000, 250000, 25000, 250000, 250000, 25000, 15000, 125000, 250000, 250000, 250000, 250000, 25000, 25000, 250000, 125000, 15000, 25000, 25000, 45000, 62500, 25000, 15000, 250000, 250000, 250000, 250000, 8750, 250000, 250000, 15000, 250000, 250000, 250000, 125000, 8750, 250000, 250000, 25000, 25000, 25000, 15000, 250000, 15000, 250000, 250000, 15000, 250000, 25000, 250000, 15000, 125000, 15000, 250000, 15000, 250000, 250000, 125000, 250000, 250000, 25000, 250000, 87500, 250000, 175000, 125000, 62500, 250000, 15000, 125000, 8750, 250000, 125000, 25000, 250000, 25000, 125000, 250000, 25000, 8750, 25000, 175000, 250000, 250000, 250000, 250000, 25000, 250000, 25000, 125000, 125000, 250000, 250000, 15000, 250000, 250000, 125000, 250000, 87500, 25000, 175000, 25000, 125000, 250000, 250000, 8750, 25000, 250000, 250000, 250000, 250000, 15000, 25000, 175000, 8750, 250000, 250000, 250000, 8750, 15000, 250000, 25000, 250000, 125000, 87500, 87500, 125000, 25000, 87500, 45000, 250000, 175000, 175000, 250000, 125000, 15000, 25000, 250000, 25000, 45000, 250000, 250000, 25000, 250000, 25000, 175000, 87500, 87500, 250000, 175000, 250000, 8750, 250000, 25000, 250000, 25000, 250000, 8750, 250000, 15000, 250000, 87500, 250000, 15000, 175000, 8750, 25000, 62500, 250000, 62500, 45000, 250000, 250000, 15000, 45000, 125000, 250000, 250000, 250000, 25000, 250000, 125000, 45000, 125000, 25000, 250000, 45000, 175000, 250000, 3750, 45000, 125000, 250000, 45000, 125000, 125000, 15000, 250000, 250000, 25000, 250000, 250000, 175000, 250000, 45000, 25000, 250000, 25000, 250000, 250000, 250000, 250000, 175000, 175000, 87500, 250000, 125000, 25000, 250000, 87500, 45000, 87500, 175000, 250000, 125000, 25000, 62500, 250000, 15000, 250000, 250000, 45000, 250000, 175000, 250000], \"xaxis\": \"x3\", \"yaxis\": \"y3\"}, {\"alignmentgroup\": \"True\", \"bingroup\": \"y\", \"hoverlabel\": {\"namelength\": 0}, \"hovertemplate\": \"vote=YUA<br>age=%{y}<br>count=%{x}\", \"legendgroup\": \"vote=YUA\", \"marker\": {\"color\": \"#EF553B\"}, \"name\": \"vote=YUA\", \"offsetgroup\": \"vote=YUA\", \"opacity\": 0.5, \"showlegend\": false, \"type\": \"histogram\", \"xaxis\": \"x2\", \"y\": [36.0, 50.0, 18.0, 37.0, 52.0, 32.0, 22.0, 66.0, 37.0, 51.0, 44.0, 56.0, 47.0, 62.0, 18.0, 36.0, 44.0, 33.0, 56.0, 68.0, 40.0, 65.0, 18.0, 27.0, 36.0, 23.0, 42.0, 59.0, 43.0, 47.0, 42.0, 46.0, 19.0, 21.0, 53.0, 20.0, 19.0, 40.0, 39.0, 44.0, 57.0, 25.0, 24.0, 34.0, 23.0, 30.0, 42.0, 23.0, 59.0, 69.0, 25.0, 67.0, 22.0, 70.0, 21.0, 19.0, 25.0, 70.0, 52.0, 43.0, 56.0, 48.0, 36.0, 35.0, 69.0, 19.0, 44.0, 41.0, 33.0, 58.0, 57.0, 21.0, 60.0, 59.0, 61.0, 47.0, 18.0, 42.0, 29.0, 53.0, 24.0, 44.0, 70.0, 59.0, 37.0, 18.0, 30.0, 27.0, 37.0, 21.0, 32.0, 42.0, 39.0, 66.0, 31.0, 35.0, 42.0, 28.0, 70.0, 23.0, 31.0, 45.0, 64.0, 45.0, 61.0, 48.0, 70.0, 28.0, 19.0, 38.0, 60.0, 37.0, 43.0, 28.0, 35.0, 31.0, 36.0, 55.0, 29.0, 59.0, 70.0, 65.0, 20.0, 68.0, 49.0, 26.0, 24.0, 18.0, 59.0, 44.0, 60.0, 50.0, 23.0, 54.0, 44.0, 26.0, 38.0, 23.0, 58.0, 18.0, 68.0, 20.0, 32.0, 29.0, 55.0, 18.0, 39.0, 39.0, 57.0, 59.0, 48.0, 49.0, 28.0, 47.0, 69.0, 39.0, 29.0, 48.0, 28.0, 25.0, 70.0, 70.0, 36.0, 22.0, 18.0, 28.0, 61.0, 46.0, 36.0, 55.0, 31.0, 64.0, 39.0, 54.0, 70.0, 66.0, 60.0, 29.0, 58.0, 56.0, 58.0, 45.0, 63.0, 42.0, 23.0, 45.0, 43.0, 40.0, 46.0, 36.0, 58.0, 20.0, 69.0, 19.0, 25.0, 30.0, 22.0, 53.0, 52.0, 60.0, 39.0, 29.0, 53.0, 64.0, 64.0, 21.0, 49.0, 65.0, 38.0, 28.0, 21.0, 40.0, 22.0, 38.0, 51.0, 47.0, 35.0, 36.0, 29.0, 46.0, 35.0, 18.0, 60.0, 25.0, 40.0, 57.0, 25.0, 32.0, 34.0, 36.0, 18.0, 38.0, 21.0, 45.0, 65.0, 67.0, 28.0, 24.0, 70.0, 35.0, 31.0, 31.0, 67.0, 35.0, 37.0, 21.0, 48.0, 26.0, 26.0, 28.0, 38.0, 20.0, 60.0, 32.0, 29.0, 35.0, 35.0, 44.0, 57.0, 18.0, 32.0, 59.0, 65.0, 29.0, 42.0, 22.0, 45.0, 39.0, 45.0, 58.0, 43.0, 29.0, 22.0, 30.0, 50.0, 41.0, 19.0, 25.0, 18.0, 19.0, 36.0, 67.0, 24.0, 50.0, 39.0, 46.0, 26.0, 29.0, 31.0, 64.0, 21.0, 47.0, 27.0, 39.0, 24.0, 28.0, 30.0, 29.0, 29.0, 26.0, 24.0, 42.0, 53.0, 22.0, 19.0, 40.0, 46.0, 60.0, 38.0, 57.0, 20.0, 22.0, 47.0, 36.0, 70.0, 25.0, 45.0, 66.0, 43.0, 19.0, 24.0, 31.0, 21.0, 45.0, 65.0, 19.0, 54.0, 20.0, 25.0, 25.0, 23.0, 20.0, 22.0, 57.0, 55.0, 58.0, 48.0, 60.0, 36.0, 43.0, 23.0, 48.0, 35.0, 51.0, 20.0, 37.0, 66.0, 21.0, 46.0, 56.0, 30.0, 57.0, 25.0, 28.0, 39.0, 58.0, 28.0, 29.0, 38.0, 49.0, 36.0, 29.0, 39.0, 41.0, 23.0, 61.0, 44.0, 59.0, 32.0, 21.0, 62.0, 19.0, 42.0, 36.0, 23.0, 42.0, 40.0, 32.0, 40.0, 19.0, 45.0, 37.0, 40.0, 53.0, 19.0, 42.0, 48.0, 42.0, 29.0, 24.0, 43.0, 34.0, 46.0, 54.0, 33.0, 31.0, 25.0, 66.0, 40.0, 18.0, 19.0, 28.0, 38.0, 63.0, 35.0, 33.0, 50.0, 61.0, 43.0, 60.0, 24.0, 68.0, 34.0, 50.0, 43.0, 46.0, 45.0, 69.0, 27.0, 35.0, 18.0, 21.0, 24.0, 31.0, 67.0, 35.0, 34.0, 29.0, 50.0, 37.0, 61.0, 24.0, 35.0, 28.0, 27.0, 37.0, 51.0, 37.0, 49.0, 70.0, 70.0, 21.0, 49.0, 60.0, 31.0, 37.0, 54.0, 55.0, 43.0, 49.0, 59.0, 48.0, 44.0, 63.0, 37.0, 62.0, 63.0, 36.0, 48.0, 39.0, 36.0, 40.0, 67.0, 21.0, 25.0, 46.0, 57.0, 70.0, 34.0, 28.0, 20.0, 42.0, 40.0, 44.0, 36.0, 58.0, 48.0, 34.0, 58.0, 22.0, 59.0, 25.0, 59.0, 27.0, 50.0, 66.0, 53.0, 21.0, 33.0, 27.0, 30.0, 67.0, 37.0, 30.0, 41.0, 28.0, 35.0, 59.0, 27.0, 20.0, 35.0, 23.0, 25.0, 33.0, 42.0, 25.0, 69.0, 70.0, 47.0, 38.0, 64.0, 28.0, 49.0, 36.0, 56.0, 36.0, 62.0, 34.0, 24.0, 36.0, 26.0, 70.0, 26.0, 56.0, 33.0, 20.0, 19.0, 23.0, 60.0, 29.0, 31.0, 32.0, 39.0, 32.0, 33.0, 36.0, 38.0, 48.0, 47.0, 40.0, 62.0, 58.0, 52.0, 21.0, 18.0, 19.0, 57.0, 22.0, 70.0, 68.0, 60.0, 64.0, 32.0, 20.0, 48.0, 58.0, 44.0, 19.0, 36.0, 60.0, 31.0, 37.0, 40.0, 54.0, 40.0, 25.0, 48.0, 39.0, 46.0, 22.0, 19.0, 21.0, 56.0, 18.0, 40.0, 26.0, 35.0, 53.0, 20.0, 28.0, 33.0, 37.0, 21.0, 39.0, 51.0, 21.0, 24.0, 54.0, 22.0, 41.0, 35.0, 28.0, 40.0, 44.0, 27.0, 69.0, 49.0, 48.0, 26.0, 45.0, 66.0, 57.0, 24.0, 42.0, 39.0, 21.0, 58.0, 33.0, 27.0, 25.0, 18.0, 70.0, 70.0, 24.0, 23.0, 52.0, 21.0, 25.0, 59.0, 18.0, 33.0, 59.0, 26.0, 20.0, 27.0, 49.0, 33.0, 55.0, 64.0, 52.0, 49.0, 33.0, 62.0, 59.0, 45.0, 18.0, 47.0, 60.0, 44.0, 25.0, 31.0, 19.0, 66.0, 37.0, 48.0, 36.0, 58.0, 64.0, 44.0, 62.0, 22.0, 57.0, 67.0, 54.0, 43.0, 26.0, 51.0, 26.0, 24.0, 55.0, 21.0, 21.0, 41.0, 19.0, 44.0, 41.0, 70.0, 50.0, 27.0, 54.0, 48.0, 38.0, 24.0, 66.0, 44.0, 26.0, 48.0, 36.0, 20.0, 49.0, 39.0, 26.0, 27.0, 36.0, 20.0, 65.0, 49.0, 37.0, 20.0, 63.0, 37.0, 68.0, 34.0, 21.0, 43.0, 37.0, 30.0, 46.0, 62.0, 37.0, 60.0, 47.0, 58.0, 46.0, 31.0, 31.0, 34.0, 63.0, 36.0, 26.0, 27.0, 19.0, 27.0, 47.0, 36.0, 45.0, 39.0, 33.0, 59.0, 33.0, 25.0, 64.0, 58.0, 66.0, 49.0, 33.0, 42.0, 47.0, 45.0, 21.0, 48.0, 23.0, 32.0, 44.0, 40.0, 53.0, 33.0, 58.0, 38.0, 19.0, 50.0, 18.0, 70.0, 54.0, 19.0, 30.0, 54.0, 54.0, 22.0, 20.0, 25.0, 24.0, 22.0, 19.0, 35.0, 70.0, 55.0, 52.0, 39.0, 33.0, 31.0, 19.0, 67.0, 44.0, 52.0, 58.0, 46.0, 59.0, 27.0, 37.0, 22.0, 50.0, 45.0, 60.0, 18.0, 29.0, 30.0, 36.0, 42.0, 30.0, 29.0, 30.0, 30.0, 34.0, 66.0, 28.0, 27.0, 32.0, 31.0, 44.0, 55.0, 56.0, 35.0, 27.0, 34.0, 30.0, 40.0, 62.0, 52.0, 68.0, 37.0, 38.0, 62.0, 36.0, 47.0, 23.0, null, 31.0, 70.0, 46.0, 40.0, 53.0, 18.0, 22.0, 64.0, 29.0, 50.0, 30.0, 38.0, 37.0, 45.0, 41.0, 33.0, 68.0, 26.0, 28.0, 40.0, 48.0, 32.0, 23.0, 56.0, 49.0, 48.0, 23.0, 25.0, 57.0, 27.0, 35.0, 28.0, 22.0, 35.0, 64.0, 70.0, 37.0, 25.0, 57.0, 27.0, 18.0, 55.0, 21.0, 43.0, 60.0, 32.0, 53.0, 34.0, 30.0, 42.0, 70.0, 54.0, 41.0, 42.0, 39.0, 33.0, 36.0, 29.0, 37.0, 63.0, 42.0, 27.0, 45.0, 38.0, 37.0, 39.0, 50.0, 20.0, 36.0, 31.0, 48.0, 27.0, 25.0, 37.0, 45.0, 30.0, 69.0, 59.0, 39.0, 37.0, 44.0, 28.0, 33.0, 31.0, 64.0, 31.0, 60.0, 38.0, 33.0, 40.0, 41.0, 60.0, 51.0, 26.0, 24.0, 69.0, 35.0, 47.0, 34.0, 32.0, 61.0, 23.0, 61.0, 21.0, 25.0, 24.0, 28.0, 57.0, 38.0, 28.0, 59.0, 52.0, 70.0, 22.0, 60.0, 63.0, 27.0, 38.0, 42.0, 60.0, 42.0, 30.0, 29.0, 70.0, 50.0, 69.0, 22.0, 19.0, 63.0, 44.0, 50.0, 27.0, 41.0, 21.0, 19.0, 51.0, 40.0, 30.0, 34.0, 36.0, 28.0, 36.0, 50.0, 30.0, 56.0, 32.0, 31.0, 41.0, 25.0, 18.0, 40.0, 21.0, 63.0, 35.0, 39.0, 46.0, 60.0, 19.0, 35.0, 69.0, 36.0, 38.0, 60.0, 24.0, 29.0, 60.0, 25.0, 33.0, 53.0, 53.0, 22.0, 18.0, 20.0, 48.0, 32.0, 41.0, 21.0, 33.0, 38.0, 30.0, 36.0, 40.0, 37.0, 18.0, 22.0, 21.0, 57.0, 24.0, 22.0, 67.0, 29.0, 32.0, 39.0, 41.0, 65.0, 28.0, 40.0, 53.0, 26.0, 40.0, 33.0, 20.0, 30.0, 20.0, 46.0, 21.0, 45.0, 60.0, 36.0, 18.0, 21.0, 23.0, 30.0, 53.0, 36.0, 45.0, 45.0, 18.0, 60.0, 29.0, 37.0, 28.0, 27.0, 32.0, 35.0, 36.0, 19.0, 26.0, 35.0, 25.0, 38.0, 22.0, 27.0, 19.0, 56.0, 39.0, 58.0, 39.0, 25.0, 60.0, 49.0, 68.0, 23.0, 50.0], \"yaxis\": \"y2\"}, {\"hoverlabel\": {\"namelength\": 0}, \"hovertemplate\": \"<b>OLS trendline</b><br>age = nan * population + nan<br>R<sup>2</sup>=nan<br><br>vote=YUA<br>population=%{x}<br>age=%{y} <b>(trend)</b>\", \"legendgroup\": \"vote=YUA\", \"marker\": {\"color\": \"#EF553B\", \"symbol\": \"circle\"}, \"mode\": \"lines\", \"name\": \"vote=YUA\", \"showlegend\": false, \"type\": \"scattergl\", \"x\": [3750, 3750, 3750, 3750, 3750, 3750, 3750, 8750, 8750, 8750, 8750, 8750, 8750, 8750, 8750, 8750, 8750, 8750, 8750, 8750, 8750, 8750, 8750, 8750, 8750, 8750, 8750, 8750, 8750, 8750, 8750, 8750, 8750, 8750, 8750, 8750, 8750, 15000, 15000, 15000, 15000, 15000, 15000, 15000, 15000, 15000, 15000, 15000, 15000, 15000, 15000, 15000, 15000, 15000, 15000, 15000, 15000, 15000, 15000, 15000, 15000, 15000, 15000, 15000, 15000, 15000, 15000, 15000, 15000, 15000, 15000, 15000, 15000, 15000, 15000, 15000, 15000, 15000, 15000, 15000, 15000, 15000, 15000, 15000, 15000, 15000, 15000, 15000, 15000, 15000, 15000, 15000, 15000, 15000, 15000, 15000, 15000, 15000, 15000, 15000, 15000, 15000, 15000, 15000, 15000, 15000, 15000, 15000, 15000, 15000, 15000, 15000, 15000, 15000, 15000, 15000, 15000, 15000, 15000, 15000, 15000, 15000, 15000, 15000, 15000, 15000, 15000, 15000, 15000, 15000, 15000, 15000, 15000, 15000, 15000, 15000, 15000, 15000, 15000, 15000, 15000, 15000, 15000, 15000, 15000, 15000, 15000, 15000, 15000, 15000, 15000, 15000, 15000, 15000, 15000, 15000, 15000, 15000, 15000, 15000, 15000, 15000, 15000, 15000, 15000, 15000, 15000, 15000, 25000, 25000, 25000, 25000, 25000, 25000, 25000, 25000, 25000, 25000, 25000, 25000, 25000, 25000, 25000, 25000, 25000, 25000, 25000, 25000, 25000, 25000, 25000, 25000, 25000, 25000, 25000, 25000, 25000, 25000, 25000, 25000, 25000, 25000, 25000, 25000, 25000, 25000, 25000, 25000, 25000, 25000, 25000, 25000, 25000, 25000, 25000, 25000, 25000, 25000, 25000, 25000, 25000, 25000, 25000, 25000, 25000, 25000, 25000, 25000, 25000, 25000, 25000, 25000, 25000, 25000, 25000, 25000, 25000, 25000, 25000, 25000, 25000, 25000, 25000, 25000, 25000, 25000, 25000, 25000, 25000, 25000, 25000, 25000, 25000, 25000, 25000, 25000, 25000, 25000, 25000, 25000, 25000, 25000, 25000, 25000, 25000, 25000, 25000, 25000, 25000, 25000, 25000, 25000, 25000, 25000, 25000, 25000, 25000, 25000, 25000, 25000, 25000, 25000, 25000, 25000, 25000, 25000, 25000, 25000, 25000, 25000, 25000, 25000, 25000, 25000, 25000, 25000, 25000, 25000, 25000, 25000, 25000, 25000, 25000, 25000, 25000, 25000, 25000, 25000, 25000, 25000, 25000, 25000, 25000, 25000, 25000, 25000, 25000, 25000, 25000, 25000, 25000, 25000, 25000, 25000, 25000, 25000, 25000, 25000, 25000, 25000, 25000, 25000, 25000, 25000, 25000, 45000, 45000, 45000, 45000, 45000, 45000, 45000, 45000, 45000, 45000, 45000, 45000, 45000, 45000, 45000, 45000, 45000, 45000, 45000, 45000, 45000, 45000, 45000, 45000, 45000, 45000, 45000, 45000, 45000, 45000, 45000, 45000, 45000, 45000, 45000, 45000, 45000, 45000, 45000, 45000, 45000, 45000, 45000, 45000, 45000, 45000, 45000, 62500, 62500, 62500, 62500, 62500, 62500, 62500, 62500, 62500, 62500, 62500, 62500, 62500, 62500, 62500, 62500, 62500, 62500, 62500, 62500, 62500, 62500, 62500, 62500, 62500, 62500, 62500, 62500, 87500, 87500, 87500, 87500, 87500, 87500, 87500, 87500, 87500, 87500, 87500, 87500, 87500, 87500, 87500, 87500, 87500, 87500, 87500, 87500, 87500, 87500, 87500, 87500, 87500, 87500, 87500, 87500, 87500, 87500, 87500, 87500, 87500, 87500, 87500, 125000, 125000, 125000, 125000, 125000, 125000, 125000, 125000, 125000, 125000, 125000, 125000, 125000, 125000, 125000, 125000, 125000, 125000, 125000, 125000, 125000, 125000, 125000, 125000, 125000, 125000, 125000, 125000, 125000, 125000, 125000, 125000, 125000, 125000, 125000, 125000, 125000, 125000, 125000, 125000, 125000, 125000, 125000, 125000, 125000, 125000, 125000, 125000, 125000, 125000, 125000, 125000, 125000, 125000, 125000, 125000, 125000, 125000, 125000, 125000, 125000, 125000, 125000, 125000, 125000, 125000, 125000, 125000, 125000, 125000, 125000, 125000, 125000, 125000, 125000, 125000, 125000, 125000, 125000, 125000, 125000, 125000, 125000, 125000, 125000, 125000, 125000, 125000, 125000, 125000, 125000, 125000, 125000, 125000, 125000, 125000, 125000, 125000, 125000, 125000, 125000, 125000, 175000, 175000, 175000, 175000, 175000, 175000, 175000, 175000, 175000, 175000, 175000, 175000, 175000, 175000, 175000, 175000, 175000, 175000, 175000, 175000, 175000, 175000, 175000, 175000, 175000, 175000, 175000, 175000, 175000, 175000, 175000, 175000, 175000, 175000, 175000, 175000, 175000, 175000, 175000, 175000, 175000, 175000, 175000, 175000, 175000, 175000, 175000, 175000, 175000, 175000, 175000, 175000, 175000, 175000, 250000, 250000, 250000, 250000, 250000, 250000, 250000, 250000, 250000, 250000, 250000, 250000, 250000, 250000, 250000, 250000, 250000, 250000, 250000, 250000, 250000, 250000, 250000, 250000, 250000, 250000, 250000, 250000, 250000, 250000, 250000, 250000, 250000, 250000, 250000, 250000, 250000, 250000, 250000, 250000, 250000, 250000, 250000, 250000, 250000, 250000, 250000, 250000, 250000, 250000, 250000, 250000, 250000, 250000, 250000, 250000, 250000, 250000, 250000, 250000, 250000, 250000, 250000, 250000, 250000, 250000, 250000, 250000, 250000, 250000, 250000, 250000, 250000, 250000, 250000, 250000, 250000, 250000, 250000, 250000, 250000, 250000, 250000, 250000, 250000, 250000, 250000, 250000, 250000, 250000, 250000, 250000, 250000, 250000, 250000, 250000, 250000, 250000, 250000, 250000, 250000, 250000, 250000, 250000, 250000, 250000, 250000, 250000, 250000, 250000, 250000, 250000, 250000, 250000, 250000, 250000, 250000, 250000, 250000, 250000, 250000, 250000, 250000, 250000, 250000, 250000, 250000, 250000, 250000, 250000, 250000, 250000, 250000, 250000, 250000, 250000, 250000, 250000, 250000, 250000, 250000, 250000, 250000, 250000, 250000, 250000, 250000, 250000, 250000, 250000, 250000, 250000, 250000, 250000, 250000, 250000, 250000, 250000, 250000, 250000, 250000, 250000, 250000, 250000, 250000, 250000, 250000, 250000, 250000, 250000, 250000, 250000, 250000, 250000, 250000, 250000, 250000, 250000, 250000, 250000, 250000, 250000, 250000, 250000, 250000, 250000, 250000, 250000, 250000, 250000, 250000, 250000, 250000, 250000, 250000, 250000, 250000, 250000, 250000, 250000, 250000, 250000, 250000, 250000, 250000, 250000, 250000, 250000, 250000, 250000, 250000, 250000, 250000, 250000, 250000, 250000, 250000, 250000, 250000, 250000, 250000, 250000, 250000, 250000, 250000, 250000, 250000, 250000, 250000, 250000, 250000, 250000, 250000, 250000, 250000, 250000, 250000, 250000, 250000, 250000, 250000, 250000, 250000, 250000, 250000, 250000, 250000, 250000, 250000, 250000, 250000, 250000, 250000, 250000, 250000, 250000, 250000, 250000, 250000, 250000, 250000, 250000, 250000, 250000, 250000, 250000, 250000, 250000, 250000, 250000, 250000, 250000, 250000, 250000, 250000, 250000, 250000, 250000, 250000, 250000, 250000, 250000, 250000, 250000, 250000, 250000, 250000, 250000, 250000, 250000, 250000, 250000, 250000, 250000, 250000, 250000, 250000, 250000, 250000, 250000, 250000, 250000, 250000, 250000, 250000, 250000, 250000, 250000, 250000, 250000, 250000, 250000, 250000, 250000, 250000, 250000, 250000, 250000, 250000, 250000, 250000, 250000, 250000, 250000, 250000, 250000, 250000, 250000, 250000, 250000, 250000, 250000, 250000, 250000, 250000, 250000, 250000, 250000, 250000, 250000, 250000, 250000, 250000, 250000, 250000, 250000, 250000, 250000, 250000, 250000, 250000, 250000, 250000, 250000, 250000, 250000, 250000, 250000, 250000, 250000, 250000, 250000, 250000, 250000, 250000, 250000, 250000, 250000, 250000, 250000, 250000, 250000, 250000, 250000, 250000, 250000, 250000, 250000, 250000, 250000, 250000, 250000, 250000, 250000, 250000, 250000, 250000, 250000, 250000, 250000, 250000, 250000, 250000, 250000, 250000, 250000, 250000, 250000, 250000, 250000, 250000, 250000, 250000, 250000, 250000, 250000, 250000, 250000, 250000, 250000, 250000, 250000, 250000, 250000, 250000, 250000, 250000, 250000, 250000, 250000, 250000, 250000, 250000, 250000, 250000, 250000, 250000, 250000, 250000, 250000, 250000, 250000, 250000, 250000, 250000, 250000, 250000, 250000, 250000, 250000, 250000, 250000, 250000, 250000, 250000, 250000, 250000, 250000, 250000, 250000], \"xaxis\": \"x\", \"y\": [null, null, null, null, null, null, null, null, null, null, null, null, null, null, null, null, null, null, null, null, null, null, null, null, null, null, null, null, null, null, null, null, null, null, null, null, null, null, null, null, null, null, null, null, null, null, null, null, null, null, null, null, null, null, null, null, null, null, null, null, null, null, null, null, null, null, null, null, null, null, null, null, null, null, null, null, null, null, null, null, null, null, null, null, null, null, null, null, null, null, null, null, null, null, null, null, null, null, null, null, null, null, null, null, null, null, null, null, null, null, null, null, null, null, null, null, null, null, null, null, null, null, null, null, null, null, null, null, null, null, null, null, null, null, null, null, null, null, null, null, null, null, null, null, null, null, null, null, null, null, null, null, null, null, null, null, null, null, null, null, null, null, null, null, null, null, null, null, null, null, null, null, null, null, null, null, null, null, null, null, null, null, null, null, null, null, null, null, null, null, null, null, null, null, null, null, null, null, null, null, null, null, null, null, null, null, null, null, null, null, null, null, null, null, null, null, null, null, null, null, null, null, null, null, null, null, null, null, null, null, null, null, null, null, null, null, null, null, null, null, null, null, null, null, null, null, null, null, null, null, null, null, null, null, null, null, null, null, null, null, null, null, null, null, null, null, null, null, null, null, null, null, null, null, null, null, null, null, null, null, null, null, null, null, null, null, null, null, null, null, null, null, null, null, null, null, null, null, null, null, null, null, null, null, null, null, null, null, null, null, null, null, null, null, null, null, null, null, null, null, null, null, null, null, null, null, null, null, null, null, null, null, null, null, null, null, null, null, null, null, null, null, null, null, null, null, null, null, null, null, null, null, null, null, null, null, null, null, null, null, null, null, null, null, null, null, null, null, null, null, null, null, null, null, null, null, null, null, null, null, null, null, null, null, null, null, null, null, null, null, null, null, null, null, null, null, null, null, null, null, null, null, null, null, null, null, null, null, null, null, null, null, null, null, null, null, null, null, null, null, null, null, null, null, null, null, null, null, null, null, null, null, null, null, null, null, null, null, null, null, null, null, null, null, null, null, null, null, null, null, null, null, null, null, null, null, null, null, null, null, null, null, null, null, null, null, null, null, null, null, null, null, null, null, null, null, null, null, null, null, null, null, null, null, null, null, null, null, null, null, null, null, null, null, null, null, null, null, null, null, null, null, null, null, null, null, null, null, null, null, null, null, null, null, null, null, null, null, null, null, null, null, null, null, null, null, null, null, null, null, null, null, null, null, null, null, null, null, null, null, null, null, null, null, null, null, null, null, null, null, null, null, null, null, null, null, null, null, null, null, null, null, null, null, null, null, null, null, null, null, null, null, null, null, null, null, null, null, null, null, null, null, null, null, null, null, null, null, null, null, null, null, null, null, null, null, null, null, null, null, null, null, null, null, null, null, null, null, null, null, null, null, null, null, null, null, null, null, null, null, null, null, null, null, null, null, null, null, null, null, null, null, null, null, null, null, null, null, null, null, null, null, null, null, null, null, null, null, null, null, null, null, null, null, null, null, null, null, null, null, null, null, null, null, null, null, null, null, null, null, null, null, null, null, null, null, null, null, null, null, null, null, null, null, null, null, null, null, null, null, null, null, null, null, null, null, null, null, null, null, null, null, null, null, null, null, null, null, null, null, null, null, null, null, null, null, null, null, null, null, null, null, null, null, null, null, null, null, null, null, null, null, null, null, null, null, null, null, null, null, null, null, null, null, null, null, null, null, null, null, null, null, null, null, null, null, null, null, null, null, null, null, null, null, null, null, null, null, null, null, null, null, null, null, null, null, null, null, null, null, null, null, null, null, null, null, null, null, null, null, null, null, null, null, null, null, null, null, null, null, null, null, null, null, null, null, null, null, null, null, null, null, null, null, null, null, null, null, null, null, null, null, null, null, null, null, null, null, null, null, null, null, null, null, null, null, null, null, null, null, null, null, null, null, null, null, null, null, null, null, null, null, null, null, null, null, null, null, null, null, null, null, null, null, null, null, null, null, null, null, null, null, null, null, null, null, null, null, null, null, null, null, null, null, null, null, null, null, null, null, null, null, null, null, null, null, null, null, null, null, null, null, null, null, null, null, null, null, null, null, null, null, null, null, null, null, null, null, null, null, null, null, null, null, null, null, null, null, null, null, null, null, null, null, null, null, null, null, null, null, null, null, null, null, null, null, null, null, null, null, null, null, null, null, null, null, null, null, null, null, null, null, null, null, null, null, null, null, null, null, null, null, null, null, null, null, null, null, null, null, null, null, null, null, null, null, null, null, null, null, null, null, null, null, null, null, null, null, null, null, null, null, null, null, null, null, null, null, null, null, null, null, null, null, null, null, null, null, null, null, null, null, null, null, null, null, null, null, null, null, null, null, null, null, null, null, null, null, null, null, null, null, null, null, null, null, null, null, null, null, null], \"yaxis\": \"y\"}],\n",
              "                        {\"barmode\": \"overlay\", \"height\": 600, \"legend\": {\"tracegroupgap\": 0}, \"margin\": {\"t\": 60}, \"template\": {\"data\": {\"bar\": [{\"error_x\": {\"color\": \"#2a3f5f\"}, \"error_y\": {\"color\": \"#2a3f5f\"}, \"marker\": {\"line\": {\"color\": \"#E5ECF6\", \"width\": 0.5}}, \"type\": \"bar\"}], \"barpolar\": [{\"marker\": {\"line\": {\"color\": \"#E5ECF6\", \"width\": 0.5}}, \"type\": \"barpolar\"}], \"carpet\": [{\"aaxis\": {\"endlinecolor\": \"#2a3f5f\", \"gridcolor\": \"white\", \"linecolor\": \"white\", \"minorgridcolor\": \"white\", \"startlinecolor\": \"#2a3f5f\"}, \"baxis\": {\"endlinecolor\": \"#2a3f5f\", \"gridcolor\": \"white\", \"linecolor\": \"white\", \"minorgridcolor\": \"white\", \"startlinecolor\": \"#2a3f5f\"}, \"type\": \"carpet\"}], \"choropleth\": [{\"colorbar\": {\"outlinewidth\": 0, \"ticks\": \"\"}, \"type\": \"choropleth\"}], \"contour\": [{\"colorbar\": {\"outlinewidth\": 0, \"ticks\": \"\"}, \"colorscale\": [[0.0, \"#0d0887\"], [0.1111111111111111, \"#46039f\"], [0.2222222222222222, \"#7201a8\"], [0.3333333333333333, \"#9c179e\"], [0.4444444444444444, \"#bd3786\"], [0.5555555555555556, \"#d8576b\"], [0.6666666666666666, \"#ed7953\"], [0.7777777777777778, \"#fb9f3a\"], [0.8888888888888888, \"#fdca26\"], [1.0, \"#f0f921\"]], \"type\": \"contour\"}], \"contourcarpet\": [{\"colorbar\": {\"outlinewidth\": 0, \"ticks\": \"\"}, \"type\": \"contourcarpet\"}], \"heatmap\": [{\"colorbar\": {\"outlinewidth\": 0, \"ticks\": \"\"}, \"colorscale\": [[0.0, \"#0d0887\"], [0.1111111111111111, \"#46039f\"], [0.2222222222222222, \"#7201a8\"], [0.3333333333333333, \"#9c179e\"], [0.4444444444444444, \"#bd3786\"], [0.5555555555555556, \"#d8576b\"], [0.6666666666666666, \"#ed7953\"], [0.7777777777777778, \"#fb9f3a\"], [0.8888888888888888, \"#fdca26\"], [1.0, \"#f0f921\"]], \"type\": \"heatmap\"}], \"heatmapgl\": [{\"colorbar\": {\"outlinewidth\": 0, \"ticks\": \"\"}, \"colorscale\": [[0.0, \"#0d0887\"], [0.1111111111111111, \"#46039f\"], [0.2222222222222222, \"#7201a8\"], [0.3333333333333333, \"#9c179e\"], [0.4444444444444444, \"#bd3786\"], [0.5555555555555556, \"#d8576b\"], [0.6666666666666666, \"#ed7953\"], [0.7777777777777778, \"#fb9f3a\"], [0.8888888888888888, \"#fdca26\"], [1.0, \"#f0f921\"]], \"type\": \"heatmapgl\"}], \"histogram\": [{\"marker\": {\"colorbar\": {\"outlinewidth\": 0, \"ticks\": \"\"}}, \"type\": \"histogram\"}], \"histogram2d\": [{\"colorbar\": {\"outlinewidth\": 0, \"ticks\": \"\"}, \"colorscale\": [[0.0, \"#0d0887\"], [0.1111111111111111, \"#46039f\"], [0.2222222222222222, \"#7201a8\"], [0.3333333333333333, \"#9c179e\"], [0.4444444444444444, \"#bd3786\"], [0.5555555555555556, \"#d8576b\"], [0.6666666666666666, \"#ed7953\"], [0.7777777777777778, \"#fb9f3a\"], [0.8888888888888888, \"#fdca26\"], [1.0, \"#f0f921\"]], \"type\": \"histogram2d\"}], \"histogram2dcontour\": [{\"colorbar\": {\"outlinewidth\": 0, \"ticks\": \"\"}, \"colorscale\": [[0.0, \"#0d0887\"], [0.1111111111111111, \"#46039f\"], [0.2222222222222222, \"#7201a8\"], [0.3333333333333333, \"#9c179e\"], [0.4444444444444444, \"#bd3786\"], [0.5555555555555556, \"#d8576b\"], [0.6666666666666666, \"#ed7953\"], [0.7777777777777778, \"#fb9f3a\"], [0.8888888888888888, \"#fdca26\"], [1.0, \"#f0f921\"]], \"type\": \"histogram2dcontour\"}], \"mesh3d\": [{\"colorbar\": {\"outlinewidth\": 0, \"ticks\": \"\"}, \"type\": \"mesh3d\"}], \"parcoords\": [{\"line\": {\"colorbar\": {\"outlinewidth\": 0, \"ticks\": \"\"}}, \"type\": \"parcoords\"}], \"scatter\": [{\"marker\": {\"colorbar\": {\"outlinewidth\": 0, \"ticks\": \"\"}}, \"type\": \"scatter\"}], \"scatter3d\": [{\"line\": {\"colorbar\": {\"outlinewidth\": 0, \"ticks\": \"\"}}, \"marker\": {\"colorbar\": {\"outlinewidth\": 0, \"ticks\": \"\"}}, \"type\": \"scatter3d\"}], \"scattercarpet\": [{\"marker\": {\"colorbar\": {\"outlinewidth\": 0, \"ticks\": \"\"}}, \"type\": \"scattercarpet\"}], \"scattergeo\": [{\"marker\": {\"colorbar\": {\"outlinewidth\": 0, \"ticks\": \"\"}}, \"type\": \"scattergeo\"}], \"scattergl\": [{\"marker\": {\"colorbar\": {\"outlinewidth\": 0, \"ticks\": \"\"}}, \"type\": \"scattergl\"}], \"scattermapbox\": [{\"marker\": {\"colorbar\": {\"outlinewidth\": 0, \"ticks\": \"\"}}, \"type\": \"scattermapbox\"}], \"scatterpolar\": [{\"marker\": {\"colorbar\": {\"outlinewidth\": 0, \"ticks\": \"\"}}, \"type\": \"scatterpolar\"}], \"scatterpolargl\": [{\"marker\": {\"colorbar\": {\"outlinewidth\": 0, \"ticks\": \"\"}}, \"type\": \"scatterpolargl\"}], \"scatterternary\": [{\"marker\": {\"colorbar\": {\"outlinewidth\": 0, \"ticks\": \"\"}}, \"type\": \"scatterternary\"}], \"surface\": [{\"colorbar\": {\"outlinewidth\": 0, \"ticks\": \"\"}, \"colorscale\": [[0.0, \"#0d0887\"], [0.1111111111111111, \"#46039f\"], [0.2222222222222222, \"#7201a8\"], [0.3333333333333333, \"#9c179e\"], [0.4444444444444444, \"#bd3786\"], [0.5555555555555556, \"#d8576b\"], [0.6666666666666666, \"#ed7953\"], [0.7777777777777778, \"#fb9f3a\"], [0.8888888888888888, \"#fdca26\"], [1.0, \"#f0f921\"]], \"type\": \"surface\"}], \"table\": [{\"cells\": {\"fill\": {\"color\": \"#EBF0F8\"}, \"line\": {\"color\": \"white\"}}, \"header\": {\"fill\": {\"color\": \"#C8D4E3\"}, \"line\": {\"color\": \"white\"}}, \"type\": \"table\"}]}, \"layout\": {\"annotationdefaults\": {\"arrowcolor\": \"#2a3f5f\", \"arrowhead\": 0, \"arrowwidth\": 1}, \"colorscale\": {\"diverging\": [[0, \"#8e0152\"], [0.1, \"#c51b7d\"], [0.2, \"#de77ae\"], [0.3, \"#f1b6da\"], [0.4, \"#fde0ef\"], [0.5, \"#f7f7f7\"], [0.6, \"#e6f5d0\"], [0.7, \"#b8e186\"], [0.8, \"#7fbc41\"], [0.9, \"#4d9221\"], [1, \"#276419\"]], \"sequential\": [[0.0, \"#0d0887\"], [0.1111111111111111, \"#46039f\"], [0.2222222222222222, \"#7201a8\"], [0.3333333333333333, \"#9c179e\"], [0.4444444444444444, \"#bd3786\"], [0.5555555555555556, \"#d8576b\"], [0.6666666666666666, \"#ed7953\"], [0.7777777777777778, \"#fb9f3a\"], [0.8888888888888888, \"#fdca26\"], [1.0, \"#f0f921\"]], \"sequentialminus\": [[0.0, \"#0d0887\"], [0.1111111111111111, \"#46039f\"], [0.2222222222222222, \"#7201a8\"], [0.3333333333333333, \"#9c179e\"], [0.4444444444444444, \"#bd3786\"], [0.5555555555555556, \"#d8576b\"], [0.6666666666666666, \"#ed7953\"], [0.7777777777777778, \"#fb9f3a\"], [0.8888888888888888, \"#fdca26\"], [1.0, \"#f0f921\"]]}, \"colorway\": [\"#636efa\", \"#EF553B\", \"#00cc96\", \"#ab63fa\", \"#FFA15A\", \"#19d3f3\", \"#FF6692\", \"#B6E880\", \"#FF97FF\", \"#FECB52\"], \"font\": {\"color\": \"#2a3f5f\"}, \"geo\": {\"bgcolor\": \"white\", \"lakecolor\": \"white\", \"landcolor\": \"#E5ECF6\", \"showlakes\": true, \"showland\": true, \"subunitcolor\": \"white\"}, \"hoverlabel\": {\"align\": \"left\"}, \"hovermode\": \"closest\", \"mapbox\": {\"style\": \"light\"}, \"paper_bgcolor\": \"white\", \"plot_bgcolor\": \"#E5ECF6\", \"polar\": {\"angularaxis\": {\"gridcolor\": \"white\", \"linecolor\": \"white\", \"ticks\": \"\"}, \"bgcolor\": \"#E5ECF6\", \"radialaxis\": {\"gridcolor\": \"white\", \"linecolor\": \"white\", \"ticks\": \"\"}}, \"scene\": {\"xaxis\": {\"backgroundcolor\": \"#E5ECF6\", \"gridcolor\": \"white\", \"gridwidth\": 2, \"linecolor\": \"white\", \"showbackground\": true, \"ticks\": \"\", \"zerolinecolor\": \"white\"}, \"yaxis\": {\"backgroundcolor\": \"#E5ECF6\", \"gridcolor\": \"white\", \"gridwidth\": 2, \"linecolor\": \"white\", \"showbackground\": true, \"ticks\": \"\", \"zerolinecolor\": \"white\"}, \"zaxis\": {\"backgroundcolor\": \"#E5ECF6\", \"gridcolor\": \"white\", \"gridwidth\": 2, \"linecolor\": \"white\", \"showbackground\": true, \"ticks\": \"\", \"zerolinecolor\": \"white\"}}, \"shapedefaults\": {\"line\": {\"color\": \"#2a3f5f\"}}, \"ternary\": {\"aaxis\": {\"gridcolor\": \"white\", \"linecolor\": \"white\", \"ticks\": \"\"}, \"baxis\": {\"gridcolor\": \"white\", \"linecolor\": \"white\", \"ticks\": \"\"}, \"bgcolor\": \"#E5ECF6\", \"caxis\": {\"gridcolor\": \"white\", \"linecolor\": \"white\", \"ticks\": \"\"}}, \"title\": {\"x\": 0.05}, \"xaxis\": {\"automargin\": true, \"gridcolor\": \"white\", \"linecolor\": \"white\", \"ticks\": \"\", \"zerolinecolor\": \"white\", \"zerolinewidth\": 2}, \"yaxis\": {\"automargin\": true, \"gridcolor\": \"white\", \"linecolor\": \"white\", \"ticks\": \"\", \"zerolinecolor\": \"white\", \"zerolinewidth\": 2}}}, \"xaxis\": {\"anchor\": \"y\", \"domain\": [0.0, 0.7215], \"title\": {\"text\": \"population\"}}, \"xaxis2\": {\"anchor\": \"y2\", \"domain\": [0.7265, 0.98], \"matches\": \"x2\", \"showgrid\": true, \"showticklabels\": false}, \"xaxis3\": {\"anchor\": \"y3\", \"domain\": [0.0, 0.7215], \"matches\": \"x\", \"showgrid\": true, \"showticklabels\": false}, \"xaxis4\": {\"anchor\": \"y4\", \"domain\": [0.7265, 0.98], \"matches\": \"x2\", \"showgrid\": true, \"showticklabels\": false}, \"yaxis\": {\"anchor\": \"x\", \"domain\": [0.0, 0.7326], \"title\": {\"text\": \"age\"}}, \"yaxis2\": {\"anchor\": \"x2\", \"domain\": [0.0, 0.7326], \"matches\": \"y\", \"showgrid\": true, \"showticklabels\": false}, \"yaxis3\": {\"anchor\": \"x3\", \"domain\": [0.7426, 1.0], \"matches\": \"y3\", \"showgrid\": false, \"showticklabels\": false}, \"yaxis4\": {\"anchor\": \"x4\", \"domain\": [0.7426, 1.0], \"matches\": \"y3\", \"showgrid\": true, \"showticklabels\": false}},\n",
              "                        {\"responsive\": true}\n",
              "                    ).then(function(){\n",
              "                            \n",
              "var gd = document.getElementById('1b958b91-f3cf-4c50-b881-f539dc961b3a');\n",
              "var x = new MutationObserver(function (mutations, observer) {{\n",
              "        var display = window.getComputedStyle(gd).display;\n",
              "        if (!display || display === 'none') {{\n",
              "            console.log([gd, 'removed!']);\n",
              "            Plotly.purge(gd);\n",
              "            observer.disconnect();\n",
              "        }}\n",
              "}});\n",
              "\n",
              "// Listen for the removal of the full notebook cells\n",
              "var notebookContainer = gd.closest('#notebook-container');\n",
              "if (notebookContainer) {{\n",
              "    x.observe(notebookContainer, {childList: true});\n",
              "}}\n",
              "\n",
              "// Listen for the clearing of the current output cell\n",
              "var outputEl = gd.closest('.output');\n",
              "if (outputEl) {{\n",
              "    x.observe(outputEl, {childList: true});\n",
              "}}\n",
              "\n",
              "                        })\n",
              "                };\n",
              "                \n",
              "            </script>\n",
              "        </div>\n",
              "</body>\n",
              "</html>"
            ]
          },
          "metadata": {
            "tags": []
          }
        }
      ]
    },
    {
      "cell_type": "code",
      "metadata": {
        "id": "2kKIB7pums4q",
        "colab_type": "code",
        "colab": {
          "base_uri": "https://localhost:8080/",
          "height": 617
        },
        "outputId": "ee621e90-b460-446c-a6b7-20076cc0ef84"
      },
      "source": [
        "fig = px.histogram(df, x=\"education\", color=\"vote\")\n",
        "fig.show()"
      ],
      "execution_count": 61,
      "outputs": [
        {
          "output_type": "display_data",
          "data": {
            "text/html": [
              "<html>\n",
              "<head><meta charset=\"utf-8\" /></head>\n",
              "<body>\n",
              "    <div>\n",
              "            <script src=\"https://cdnjs.cloudflare.com/ajax/libs/mathjax/2.7.5/MathJax.js?config=TeX-AMS-MML_SVG\"></script><script type=\"text/javascript\">if (window.MathJax) {MathJax.Hub.Config({SVG: {font: \"STIX-Web\"}});}</script>\n",
              "                <script type=\"text/javascript\">window.PlotlyConfig = {MathJaxConfig: 'local'};</script>\n",
              "        <script src=\"https://cdn.plot.ly/plotly-latest.min.js\"></script>    \n",
              "            <div id=\"00baf789-adb3-429b-afd7-489f86ea49ca\" class=\"plotly-graph-div\" style=\"height:600px; width:100%;\"></div>\n",
              "            <script type=\"text/javascript\">\n",
              "                \n",
              "                    window.PLOTLYENV=window.PLOTLYENV || {};\n",
              "                    \n",
              "                if (document.getElementById(\"00baf789-adb3-429b-afd7-489f86ea49ca\")) {\n",
              "                    Plotly.newPlot(\n",
              "                        '00baf789-adb3-429b-afd7-489f86ea49ca',\n",
              "                        [{\"alignmentgroup\": \"True\", \"bingroup\": \"x\", \"hoverlabel\": {\"namelength\": 0}, \"hovertemplate\": \"vote=contra-Pinochet<br>education=%{x}<br>count=%{y}\", \"legendgroup\": \"vote=contra-Pinochet\", \"marker\": {\"color\": \"#636efa\"}, \"name\": \"vote=contra-Pinochet\", \"offsetgroup\": \"vote=contra-Pinochet\", \"orientation\": \"v\", \"showlegend\": true, \"type\": \"histogram\", \"x\": [\"S\", \"S\", \"P\", \"S\", \"PS\", \"S\", \"S\", \"PS\", \"PS\", \"PS\", \"P\", \"P\", \"PS\", \"PS\", \"P\", \"P\", \"PS\", \"S\", \"S\", \"S\", \"S\", \"P\", \"P\", \"P\", \"P\", \"P\", \"S\", \"S\", \"S\", \"S\", \"PS\", \"S\", \"S\", \"P\", \"S\", \"PS\", \"S\", \"S\", \"PS\", \"PS\", \"S\", \"P\", \"PS\", \"S\", \"P\", \"PS\", \"S\", \"S\", \"S\", \"P\", \"P\", \"S\", \"S\", \"S\", \"P\", \"P\", \"S\", \"S\", \"S\", \"S\", \"P\", \"P\", \"S\", \"S\", \"PS\", \"S\", \"S\", \"S\", \"PS\", \"P\", null, \"P\", \"P\", \"P\", \"PS\", \"S\", \"S\", \"P\", \"P\", \"PS\", \"P\", \"S\", \"P\", \"PS\", \"PS\", \"P\", \"S\", \"PS\", \"S\", \"PS\", \"S\", \"P\", \"P\", \"PS\", \"S\", \"S\", \"PS\", \"S\", \"PS\", \"P\", \"P\", \"PS\", \"PS\", \"S\", \"S\", \"P\", \"P\", \"S\", \"PS\", \"PS\", \"S\", \"S\", \"P\", \"S\", \"S\", \"PS\", \"S\", \"S\", \"P\", \"S\", \"S\", \"PS\", \"S\", \"PS\", \"S\", \"P\", \"PS\", \"PS\", \"S\", \"P\", \"S\", \"P\", \"S\", \"S\", \"P\", \"S\", \"P\", \"PS\", \"S\", \"PS\", \"S\", \"S\", \"P\", \"PS\", \"S\", \"P\", \"PS\", \"PS\", \"P\", \"PS\", \"PS\", \"S\", \"PS\", \"P\", \"P\", \"P\", \"S\", \"P\", \"S\", \"S\", \"S\", \"PS\", \"PS\", \"S\", \"P\", \"S\", \"S\", \"PS\", \"P\", \"S\", \"P\", \"PS\", \"S\", \"P\", \"PS\", \"P\", \"S\", \"PS\", \"P\", \"S\", \"S\", \"PS\", \"P\", \"S\", \"S\", \"P\", \"S\", \"S\", \"PS\", \"S\", \"S\", \"PS\", \"P\", \"P\", \"P\", \"S\", \"S\", \"S\", \"P\", \"S\", \"S\", \"PS\", \"PS\", \"S\", \"S\", \"P\", \"P\", \"S\", \"P\", \"P\", \"S\", \"P\", \"S\", \"S\", \"S\", \"P\", \"S\", \"PS\", \"PS\", \"PS\", \"S\", \"P\", \"P\", \"S\", \"PS\", \"P\", \"P\", \"PS\", \"PS\", \"PS\", \"P\", \"S\", \"S\", \"P\", \"P\", \"S\", \"PS\", \"S\", \"S\", \"PS\", \"S\", \"P\", \"S\", \"P\", \"PS\", \"PS\", \"P\", \"P\", \"P\", \"P\", \"P\", \"S\", \"P\", \"P\", \"PS\", \"PS\", \"PS\", \"P\", \"S\", \"P\", \"S\", \"S\", \"P\", \"S\", \"S\", \"S\", \"S\", \"S\", \"S\", \"PS\", \"PS\", \"S\", \"S\", \"S\", \"S\", \"PS\", \"P\", \"S\", \"P\", \"PS\", \"P\", \"S\", \"P\", \"PS\", \"P\", \"S\", \"PS\", \"P\", \"P\", \"S\", \"S\", \"PS\", \"P\", \"S\", \"PS\", \"S\", \"S\", \"PS\", \"PS\", \"PS\", \"S\", \"S\", \"P\", \"S\", \"S\", \"S\", \"PS\", \"P\", \"S\", \"PS\", \"S\", \"S\", \"PS\", \"S\", \"S\", \"PS\", \"P\", \"P\", \"S\", \"S\", \"S\", \"S\", \"P\", \"P\", \"P\", \"PS\", \"S\", \"P\", \"S\", \"S\", \"S\", \"PS\", \"S\", \"P\", \"P\", \"PS\", \"S\", \"PS\", \"P\", \"P\", \"PS\", \"P\", \"S\", \"S\", \"P\", \"S\", \"S\", \"S\", \"S\", \"P\", \"S\", \"S\", \"S\", \"S\", \"S\", \"S\", \"S\", \"S\", \"PS\", \"S\", \"S\", \"S\", \"S\", \"P\", \"P\", \"P\", \"S\", null, \"P\", \"S\", \"P\", \"P\", \"S\", \"S\", \"S\", \"S\", \"P\", \"S\", \"P\", \"S\", \"S\", \"PS\", \"S\", \"S\", \"P\", \"PS\", \"P\", \"S\", \"P\", \"PS\", \"S\", \"S\", \"S\", \"P\", \"PS\", \"P\", \"P\", \"P\", \"PS\", \"P\", \"P\", \"PS\", \"S\", \"P\", \"P\", \"P\", \"PS\", \"S\", \"S\", \"S\", \"PS\", \"P\", \"P\", \"P\", \"PS\", \"P\", \"S\", \"PS\", \"P\", \"P\", \"S\", \"S\", \"PS\", \"P\", \"P\", \"S\", \"P\", \"S\", \"S\", \"PS\", \"P\", \"P\", \"S\", \"P\", \"S\", \"P\", \"P\", \"PS\", \"S\", \"S\", \"S\", \"PS\", \"S\", \"S\", \"S\", \"P\", \"PS\", \"S\", \"S\", \"P\", \"S\", \"S\", \"P\", \"PS\", \"PS\", \"S\", \"PS\", \"PS\", \"PS\", \"S\", \"PS\", \"S\", \"PS\", \"S\", \"PS\", \"S\", \"S\", \"P\", \"S\", \"S\", \"S\", \"P\", \"P\", \"PS\", \"S\", \"PS\", \"S\", \"S\", \"S\", \"P\", \"S\", \"PS\", \"P\", \"PS\", \"PS\", \"S\", \"S\", \"PS\", \"PS\", \"S\", \"S\", \"P\", \"S\", \"S\", \"P\", \"P\", \"S\", \"S\", \"P\", \"S\", \"P\", \"PS\", \"P\", \"S\", \"P\", \"S\", \"S\", \"S\", \"PS\", \"PS\", \"P\", \"S\", \"S\", \"PS\", \"S\", \"P\", \"PS\", \"PS\", \"P\", \"P\", \"S\", \"S\", \"S\", \"S\", \"PS\", \"PS\", \"S\", \"S\", \"PS\", \"S\", \"PS\", \"S\", \"PS\", \"P\", \"S\", \"S\", \"S\", \"S\", \"P\", \"S\", \"S\", \"P\", \"S\", \"S\", \"S\", \"PS\", \"S\", \"S\", \"P\", \"S\", \"PS\", \"PS\", \"P\", \"P\", \"S\", \"S\", \"P\", \"S\", \"PS\", \"S\", \"PS\", \"S\", \"P\", \"PS\", \"P\", \"S\", \"P\", \"P\", \"PS\"], \"xaxis\": \"x\", \"yaxis\": \"y\"}, {\"alignmentgroup\": \"True\", \"bingroup\": \"x\", \"hoverlabel\": {\"namelength\": 0}, \"hovertemplate\": \"vote=YUA<br>education=%{x}<br>count=%{y}\", \"legendgroup\": \"vote=YUA\", \"marker\": {\"color\": \"#EF553B\"}, \"name\": \"vote=YUA\", \"offsetgroup\": \"vote=YUA\", \"orientation\": \"v\", \"showlegend\": true, \"type\": \"histogram\", \"x\": [\"S\", \"P\", \"S\", \"PS\", \"P\", \"S\", \"S\", \"P\", \"S\", \"P\", \"P\", \"S\", \"P\", \"S\", \"S\", \"S\", \"P\", \"S\", \"P\", \"S\", \"PS\", \"P\", \"S\", \"S\", \"S\", \"P\", \"P\", \"P\", \"S\", \"S\", \"PS\", \"P\", \"P\", \"P\", \"PS\", \"P\", \"S\", \"PS\", \"P\", \"S\", \"S\", \"S\", \"P\", \"S\", \"PS\", \"P\", \"P\", \"P\", \"P\", \"P\", \"PS\", \"P\", \"P\", \"S\", \"P\", \"S\", \"P\", \"S\", \"P\", \"P\", \"P\", \"S\", \"P\", \"P\", \"S\", \"S\", \"P\", \"PS\", \"S\", \"P\", \"P\", \"S\", \"P\", \"P\", \"P\", \"S\", \"S\", \"P\", \"P\", \"P\", \"S\", \"P\", \"P\", \"P\", \"P\", \"P\", \"S\", \"P\", \"S\", \"S\", \"S\", \"P\", \"P\", \"P\", \"S\", \"P\", \"S\", \"P\", \"S\", \"S\", \"S\", \"P\", \"P\", \"S\", null, \"P\", \"P\", \"S\", \"S\", \"P\", \"P\", \"P\", \"S\", \"P\", \"S\", \"P\", \"PS\", \"S\", \"PS\", \"PS\", \"P\", \"P\", \"P\", \"S\", \"S\", \"S\", \"S\", \"S\", \"S\", \"S\", \"S\", \"P\", \"S\", \"P\", \"P\", \"S\", \"S\", \"PS\", \"P\", \"S\", \"P\", \"P\", \"S\", \"P\", \"P\", \"S\", \"P\", \"S\", \"P\", \"P\", \"P\", \"P\", \"S\", \"P\", \"P\", \"S\", \"P\", \"PS\", \"S\", \"PS\", \"S\", \"P\", \"PS\", \"PS\", \"PS\", \"PS\", \"P\", \"PS\", \"S\", \"S\", \"P\", \"PS\", \"S\", \"P\", \"P\", \"S\", \"P\", \"PS\", \"P\", \"P\", \"P\", \"P\", \"P\", \"P\", \"PS\", \"S\", \"P\", \"P\", \"P\", \"PS\", \"P\", \"S\", \"P\", \"S\", \"PS\", \"P\", \"S\", \"P\", \"P\", \"S\", \"S\", \"P\", \"S\", \"P\", \"P\", \"S\", \"P\", \"S\", \"PS\", \"P\", \"S\", \"P\", \"S\", \"P\", \"P\", \"P\", \"P\", \"P\", \"S\", \"S\", \"P\", \"S\", \"P\", \"P\", \"S\", \"S\", \"P\", \"P\", \"PS\", \"PS\", \"S\", \"P\", \"PS\", \"P\", \"PS\", \"P\", \"P\", \"PS\", \"P\", \"PS\", \"S\", \"S\", \"P\", \"PS\", \"P\", \"P\", \"S\", \"S\", \"P\", \"S\", \"S\", \"S\", \"P\", \"S\", \"S\", \"S\", \"PS\", \"P\", \"P\", \"S\", \"S\", \"P\", \"S\", \"S\", \"P\", \"P\", \"PS\", \"P\", \"S\", \"PS\", \"P\", \"S\", \"P\", \"S\", \"P\", \"P\", \"P\", \"S\", \"S\", \"S\", \"S\", \"P\", \"P\", \"P\", \"S\", \"P\", \"P\", \"P\", \"P\", \"P\", \"S\", \"P\", \"PS\", \"PS\", \"PS\", \"S\", \"S\", \"P\", \"P\", \"S\", \"S\", \"S\", \"P\", \"PS\", \"S\", \"P\", \"P\", \"P\", \"S\", \"S\", \"PS\", \"PS\", \"P\", \"PS\", \"P\", \"PS\", \"P\", \"P\", \"P\", \"S\", \"P\", \"PS\", \"PS\", \"P\", \"P\", \"S\", \"P\", \"PS\", \"P\", \"PS\", \"P\", \"PS\", \"P\", \"P\", \"P\", \"P\", \"P\", \"P\", \"P\", \"P\", \"PS\", \"S\", \"PS\", \"PS\", \"S\", \"PS\", \"P\", \"P\", \"S\", \"P\", \"P\", \"P\", \"P\", \"P\", \"S\", \"P\", \"S\", \"P\", \"P\", \"P\", \"P\", \"S\", \"P\", \"PS\", \"P\", \"P\", \"P\", \"P\", \"S\", \"S\", \"P\", \"S\", \"P\", \"P\", \"S\", \"P\", \"P\", \"P\", \"P\", \"PS\", \"P\", \"P\", \"S\", null, \"S\", \"S\", \"P\", \"P\", \"P\", \"S\", \"P\", \"P\", \"S\", \"P\", \"S\", \"P\", \"S\", \"P\", \"S\", \"S\", \"S\", \"S\", \"S\", \"S\", \"S\", \"PS\", \"S\", \"P\", \"S\", \"P\", \"P\", \"S\", \"PS\", \"P\", \"P\", \"PS\", \"P\", \"P\", \"P\", \"P\", \"P\", \"S\", \"S\", \"S\", \"P\", \"S\", \"P\", \"P\", \"S\", \"P\", \"P\", \"PS\", \"P\", \"S\", \"P\", \"S\", \"P\", \"PS\", \"P\", \"P\", \"P\", \"PS\", \"S\", \"P\", \"S\", \"S\", \"PS\", \"P\", \"P\", \"P\", \"S\", \"P\", \"P\", \"P\", \"P\", \"P\", \"P\", \"P\", \"P\", \"S\", \"P\", \"S\", \"P\", \"S\", \"P\", \"S\", \"P\", \"P\", \"P\", \"P\", \"S\", \"PS\", \"P\", \"P\", \"S\", \"S\", \"P\", \"S\", \"P\", \"S\", \"P\", \"S\", \"P\", \"S\", \"S\", \"P\", \"P\", \"P\", \"S\", \"P\", \"S\", \"P\", \"P\", \"P\", \"P\", \"S\", \"P\", \"P\", \"P\", \"S\", \"S\", \"S\", \"P\", \"P\", \"S\", \"PS\", \"S\", \"PS\", \"P\", \"P\", \"P\", \"PS\", \"P\", \"S\", \"P\", \"S\", \"P\", \"S\", \"S\", \"S\", \"S\", \"PS\", \"P\", \"PS\", \"P\", \"S\", \"S\", \"P\", \"P\", \"P\", \"S\", \"PS\", \"S\", \"P\", \"S\", \"S\", \"S\", \"P\", \"S\", \"S\", \"S\", \"S\", \"P\", \"S\", \"S\", \"S\", \"P\", \"S\", \"P\", \"P\", \"P\", \"P\", \"S\", \"S\", \"P\", \"P\", \"P\", \"P\", \"S\", \"P\", \"PS\", \"S\", \"P\", \"P\", \"P\", \"P\", \"P\", \"P\", \"P\", \"PS\", \"PS\", \"PS\", \"S\", \"P\", \"P\", \"S\", \"S\", \"PS\", \"S\", \"P\", \"S\", \"P\", \"P\", \"P\", \"P\", \"PS\", \"S\", \"P\", \"S\", \"PS\", \"S\", \"S\", \"P\", \"P\", \"S\", \"P\", \"P\", \"P\", \"S\", \"S\", \"P\", \"P\", \"PS\", \"PS\", \"S\", \"S\", \"P\", \"P\", \"S\", \"S\", \"S\", \"P\", \"P\", \"S\", \"P\", \"P\", \"P\", \"P\", \"P\", \"S\", \"P\", \"P\", \"P\", \"S\", \"S\", \"S\", \"PS\", \"PS\", \"P\", \"S\", \"P\", \"P\", \"P\", \"P\", \"P\", \"S\", \"P\", \"P\", \"PS\", \"PS\", \"S\", \"PS\", \"P\", \"S\", \"S\", \"PS\", \"P\", \"P\", \"P\", \"P\", \"P\", \"S\", \"S\", \"P\", \"PS\", \"PS\", \"S\", \"P\", \"S\", \"P\", \"P\", \"S\", \"PS\", \"P\", \"PS\", \"PS\", \"PS\", \"P\", \"P\", \"P\", \"S\", \"S\", \"S\", \"P\", \"S\", \"S\", \"P\", \"PS\", \"S\", \"P\", \"P\", \"P\", \"S\", \"S\", \"S\", \"P\", \"P\", \"P\", \"S\", \"P\", \"S\", \"P\", \"P\", \"PS\", \"P\", \"P\", \"S\", \"P\", \"P\", \"S\", \"P\", \"P\", \"S\", \"S\", \"S\", \"P\", \"S\", \"P\", \"S\", \"P\", \"S\", \"PS\", \"PS\", \"P\", \"S\", \"S\", \"S\", \"P\", \"S\", \"S\", \"S\", \"S\", \"P\", \"P\", \"P\", \"P\", \"P\", \"P\", \"P\", \"S\", \"PS\", \"P\", \"PS\", \"P\", \"S\", \"PS\", \"S\", \"P\", \"S\", \"S\", \"P\", \"S\", \"P\", \"P\", \"S\", \"S\", \"S\", \"PS\", \"S\", \"S\", \"S\", \"PS\", \"PS\", \"S\", \"P\", \"P\", \"P\", \"P\", \"P\", \"P\", \"S\", \"S\", null, \"PS\", \"P\", \"P\", \"PS\", \"P\", \"S\", \"P\", \"P\", \"S\", \"P\", \"S\", \"P\", \"S\", \"S\", \"S\", \"S\", \"P\", \"S\", \"S\", \"S\", \"PS\", \"P\", \"P\", \"PS\", \"S\", \"P\", \"S\", \"P\", \"P\", \"P\", \"PS\", \"P\", \"S\", \"P\", \"S\", \"S\", null, \"S\", \"PS\", \"P\", \"PS\", \"S\", \"S\", \"P\", \"S\", \"P\", \"S\", \"P\", \"S\", \"PS\", \"S\", \"P\", \"S\", \"P\", \"P\", \"P\", \"S\", \"P\", \"S\", \"P\", \"P\", \"S\", \"S\", \"PS\", \"S\", \"S\", \"S\", \"P\", \"P\", \"P\", \"P\", \"S\", \"PS\", \"P\", \"S\", \"P\", \"PS\", \"S\", \"P\", \"P\", \"P\", \"S\", \"S\", \"P\", \"PS\", \"P\", \"S\", \"P\", \"P\", \"S\", \"PS\", \"S\", \"P\", \"S\", \"P\", \"P\", \"P\", \"S\", \"P\", \"P\", \"PS\", \"P\", \"S\", \"P\", \"PS\", \"P\", \"S\", \"P\", \"S\", \"PS\", \"P\", \"S\", \"S\", \"P\", \"P\", \"S\", \"S\", \"P\", \"P\", \"S\", \"S\", \"P\", \"P\", \"S\", \"PS\", \"S\", \"P\", \"PS\", \"P\", \"S\", \"PS\", \"P\", \"S\", \"P\", \"P\", \"P\", \"P\", \"PS\", \"S\", \"S\", \"P\", \"PS\", \"P\", \"P\", \"P\", \"S\", \"P\", \"P\", \"S\", \"S\", \"PS\", \"P\", \"P\", \"S\", \"P\", \"S\", \"S\", \"P\", \"S\", \"S\", \"PS\", \"S\", \"S\", \"S\", \"S\", \"S\", \"PS\", \"P\", \"P\", \"P\", \"S\", \"P\", \"P\", \"S\", \"P\", \"P\", \"P\", \"S\", \"S\", \"S\", \"P\", \"P\", \"S\", \"S\", \"S\", \"S\", \"S\", \"S\", \"P\", \"S\", \"S\", \"S\", \"PS\", \"S\", \"P\", \"S\", \"S\", \"PS\", \"S\", \"P\", \"P\", \"S\", \"P\", \"S\", \"P\", \"P\", \"P\", \"S\", \"S\", \"P\", \"S\", \"S\", \"P\", \"PS\", \"P\", \"S\", \"S\", \"S\", \"P\", \"S\", \"S\", \"S\", \"S\", \"P\", \"S\", \"S\", \"P\", \"S\", \"P\", \"S\", \"P\", \"PS\", \"P\", \"PS\", \"S\", \"P\", \"P\", \"P\", \"P\", \"S\", \"P\", \"P\", \"P\", \"PS\", \"S\", \"S\", \"P\", \"S\", \"S\", \"S\", \"P\", \"S\", \"P\", \"S\", \"PS\", \"S\", \"S\", \"P\", \"S\", \"S\", \"S\", \"S\", \"P\", \"S\", \"P\", \"PS\", \"S\", \"PS\", \"S\", \"S\", \"PS\", \"S\", \"P\", \"P\", \"P\", \"S\", \"S\", \"PS\", \"P\", \"S\", \"S\", \"P\", \"S\", \"P\", \"P\", \"P\", \"S\", \"S\"], \"xaxis\": \"x\", \"yaxis\": \"y\"}],\n",
              "                        {\"barmode\": \"relative\", \"height\": 600, \"legend\": {\"tracegroupgap\": 0}, \"margin\": {\"t\": 60}, \"template\": {\"data\": {\"bar\": [{\"error_x\": {\"color\": \"#2a3f5f\"}, \"error_y\": {\"color\": \"#2a3f5f\"}, \"marker\": {\"line\": {\"color\": \"#E5ECF6\", \"width\": 0.5}}, \"type\": \"bar\"}], \"barpolar\": [{\"marker\": {\"line\": {\"color\": \"#E5ECF6\", \"width\": 0.5}}, \"type\": \"barpolar\"}], \"carpet\": [{\"aaxis\": {\"endlinecolor\": \"#2a3f5f\", \"gridcolor\": \"white\", \"linecolor\": \"white\", \"minorgridcolor\": \"white\", \"startlinecolor\": \"#2a3f5f\"}, \"baxis\": {\"endlinecolor\": \"#2a3f5f\", \"gridcolor\": \"white\", \"linecolor\": \"white\", \"minorgridcolor\": \"white\", \"startlinecolor\": \"#2a3f5f\"}, \"type\": \"carpet\"}], \"choropleth\": [{\"colorbar\": {\"outlinewidth\": 0, \"ticks\": \"\"}, \"type\": \"choropleth\"}], \"contour\": [{\"colorbar\": {\"outlinewidth\": 0, \"ticks\": \"\"}, \"colorscale\": [[0.0, \"#0d0887\"], [0.1111111111111111, \"#46039f\"], [0.2222222222222222, \"#7201a8\"], [0.3333333333333333, \"#9c179e\"], [0.4444444444444444, \"#bd3786\"], [0.5555555555555556, \"#d8576b\"], [0.6666666666666666, \"#ed7953\"], [0.7777777777777778, \"#fb9f3a\"], [0.8888888888888888, \"#fdca26\"], [1.0, \"#f0f921\"]], \"type\": \"contour\"}], \"contourcarpet\": [{\"colorbar\": {\"outlinewidth\": 0, \"ticks\": \"\"}, \"type\": \"contourcarpet\"}], \"heatmap\": [{\"colorbar\": {\"outlinewidth\": 0, \"ticks\": \"\"}, \"colorscale\": [[0.0, \"#0d0887\"], [0.1111111111111111, \"#46039f\"], [0.2222222222222222, \"#7201a8\"], [0.3333333333333333, \"#9c179e\"], [0.4444444444444444, \"#bd3786\"], [0.5555555555555556, \"#d8576b\"], [0.6666666666666666, \"#ed7953\"], [0.7777777777777778, \"#fb9f3a\"], [0.8888888888888888, \"#fdca26\"], [1.0, \"#f0f921\"]], \"type\": \"heatmap\"}], \"heatmapgl\": [{\"colorbar\": {\"outlinewidth\": 0, \"ticks\": \"\"}, \"colorscale\": [[0.0, \"#0d0887\"], [0.1111111111111111, \"#46039f\"], [0.2222222222222222, \"#7201a8\"], [0.3333333333333333, \"#9c179e\"], [0.4444444444444444, \"#bd3786\"], [0.5555555555555556, \"#d8576b\"], [0.6666666666666666, \"#ed7953\"], [0.7777777777777778, \"#fb9f3a\"], [0.8888888888888888, \"#fdca26\"], [1.0, \"#f0f921\"]], \"type\": \"heatmapgl\"}], \"histogram\": [{\"marker\": {\"colorbar\": {\"outlinewidth\": 0, \"ticks\": \"\"}}, \"type\": \"histogram\"}], \"histogram2d\": [{\"colorbar\": {\"outlinewidth\": 0, \"ticks\": \"\"}, \"colorscale\": [[0.0, \"#0d0887\"], [0.1111111111111111, \"#46039f\"], [0.2222222222222222, \"#7201a8\"], [0.3333333333333333, \"#9c179e\"], [0.4444444444444444, \"#bd3786\"], [0.5555555555555556, \"#d8576b\"], [0.6666666666666666, \"#ed7953\"], [0.7777777777777778, \"#fb9f3a\"], [0.8888888888888888, \"#fdca26\"], [1.0, \"#f0f921\"]], \"type\": \"histogram2d\"}], \"histogram2dcontour\": [{\"colorbar\": {\"outlinewidth\": 0, \"ticks\": \"\"}, \"colorscale\": [[0.0, \"#0d0887\"], [0.1111111111111111, \"#46039f\"], [0.2222222222222222, \"#7201a8\"], [0.3333333333333333, \"#9c179e\"], [0.4444444444444444, \"#bd3786\"], [0.5555555555555556, \"#d8576b\"], [0.6666666666666666, \"#ed7953\"], [0.7777777777777778, \"#fb9f3a\"], [0.8888888888888888, \"#fdca26\"], [1.0, \"#f0f921\"]], \"type\": \"histogram2dcontour\"}], \"mesh3d\": [{\"colorbar\": {\"outlinewidth\": 0, \"ticks\": \"\"}, \"type\": \"mesh3d\"}], \"parcoords\": [{\"line\": {\"colorbar\": {\"outlinewidth\": 0, \"ticks\": \"\"}}, \"type\": \"parcoords\"}], \"scatter\": [{\"marker\": {\"colorbar\": {\"outlinewidth\": 0, \"ticks\": \"\"}}, \"type\": \"scatter\"}], \"scatter3d\": [{\"line\": {\"colorbar\": {\"outlinewidth\": 0, \"ticks\": \"\"}}, \"marker\": {\"colorbar\": {\"outlinewidth\": 0, \"ticks\": \"\"}}, \"type\": \"scatter3d\"}], \"scattercarpet\": [{\"marker\": {\"colorbar\": {\"outlinewidth\": 0, \"ticks\": \"\"}}, \"type\": \"scattercarpet\"}], \"scattergeo\": [{\"marker\": {\"colorbar\": {\"outlinewidth\": 0, \"ticks\": \"\"}}, \"type\": \"scattergeo\"}], \"scattergl\": [{\"marker\": {\"colorbar\": {\"outlinewidth\": 0, \"ticks\": \"\"}}, \"type\": \"scattergl\"}], \"scattermapbox\": [{\"marker\": {\"colorbar\": {\"outlinewidth\": 0, \"ticks\": \"\"}}, \"type\": \"scattermapbox\"}], \"scatterpolar\": [{\"marker\": {\"colorbar\": {\"outlinewidth\": 0, \"ticks\": \"\"}}, \"type\": \"scatterpolar\"}], \"scatterpolargl\": [{\"marker\": {\"colorbar\": {\"outlinewidth\": 0, \"ticks\": \"\"}}, \"type\": \"scatterpolargl\"}], \"scatterternary\": [{\"marker\": {\"colorbar\": {\"outlinewidth\": 0, \"ticks\": \"\"}}, \"type\": \"scatterternary\"}], \"surface\": [{\"colorbar\": {\"outlinewidth\": 0, \"ticks\": \"\"}, \"colorscale\": [[0.0, \"#0d0887\"], [0.1111111111111111, \"#46039f\"], [0.2222222222222222, \"#7201a8\"], [0.3333333333333333, \"#9c179e\"], [0.4444444444444444, \"#bd3786\"], [0.5555555555555556, \"#d8576b\"], [0.6666666666666666, \"#ed7953\"], [0.7777777777777778, \"#fb9f3a\"], [0.8888888888888888, \"#fdca26\"], [1.0, \"#f0f921\"]], \"type\": \"surface\"}], \"table\": [{\"cells\": {\"fill\": {\"color\": \"#EBF0F8\"}, \"line\": {\"color\": \"white\"}}, \"header\": {\"fill\": {\"color\": \"#C8D4E3\"}, \"line\": {\"color\": \"white\"}}, \"type\": \"table\"}]}, \"layout\": {\"annotationdefaults\": {\"arrowcolor\": \"#2a3f5f\", \"arrowhead\": 0, \"arrowwidth\": 1}, \"colorscale\": {\"diverging\": [[0, \"#8e0152\"], [0.1, \"#c51b7d\"], [0.2, \"#de77ae\"], [0.3, \"#f1b6da\"], [0.4, \"#fde0ef\"], [0.5, \"#f7f7f7\"], [0.6, \"#e6f5d0\"], [0.7, \"#b8e186\"], [0.8, \"#7fbc41\"], [0.9, \"#4d9221\"], [1, \"#276419\"]], \"sequential\": [[0.0, \"#0d0887\"], [0.1111111111111111, \"#46039f\"], [0.2222222222222222, \"#7201a8\"], [0.3333333333333333, \"#9c179e\"], [0.4444444444444444, \"#bd3786\"], [0.5555555555555556, \"#d8576b\"], [0.6666666666666666, \"#ed7953\"], [0.7777777777777778, \"#fb9f3a\"], [0.8888888888888888, \"#fdca26\"], [1.0, \"#f0f921\"]], \"sequentialminus\": [[0.0, \"#0d0887\"], [0.1111111111111111, \"#46039f\"], [0.2222222222222222, \"#7201a8\"], [0.3333333333333333, \"#9c179e\"], [0.4444444444444444, \"#bd3786\"], [0.5555555555555556, \"#d8576b\"], [0.6666666666666666, \"#ed7953\"], [0.7777777777777778, \"#fb9f3a\"], [0.8888888888888888, \"#fdca26\"], [1.0, \"#f0f921\"]]}, \"colorway\": [\"#636efa\", \"#EF553B\", \"#00cc96\", \"#ab63fa\", \"#FFA15A\", \"#19d3f3\", \"#FF6692\", \"#B6E880\", \"#FF97FF\", \"#FECB52\"], \"font\": {\"color\": \"#2a3f5f\"}, \"geo\": {\"bgcolor\": \"white\", \"lakecolor\": \"white\", \"landcolor\": \"#E5ECF6\", \"showlakes\": true, \"showland\": true, \"subunitcolor\": \"white\"}, \"hoverlabel\": {\"align\": \"left\"}, \"hovermode\": \"closest\", \"mapbox\": {\"style\": \"light\"}, \"paper_bgcolor\": \"white\", \"plot_bgcolor\": \"#E5ECF6\", \"polar\": {\"angularaxis\": {\"gridcolor\": \"white\", \"linecolor\": \"white\", \"ticks\": \"\"}, \"bgcolor\": \"#E5ECF6\", \"radialaxis\": {\"gridcolor\": \"white\", \"linecolor\": \"white\", \"ticks\": \"\"}}, \"scene\": {\"xaxis\": {\"backgroundcolor\": \"#E5ECF6\", \"gridcolor\": \"white\", \"gridwidth\": 2, \"linecolor\": \"white\", \"showbackground\": true, \"ticks\": \"\", \"zerolinecolor\": \"white\"}, \"yaxis\": {\"backgroundcolor\": \"#E5ECF6\", \"gridcolor\": \"white\", \"gridwidth\": 2, \"linecolor\": \"white\", \"showbackground\": true, \"ticks\": \"\", \"zerolinecolor\": \"white\"}, \"zaxis\": {\"backgroundcolor\": \"#E5ECF6\", \"gridcolor\": \"white\", \"gridwidth\": 2, \"linecolor\": \"white\", \"showbackground\": true, \"ticks\": \"\", \"zerolinecolor\": \"white\"}}, \"shapedefaults\": {\"line\": {\"color\": \"#2a3f5f\"}}, \"ternary\": {\"aaxis\": {\"gridcolor\": \"white\", \"linecolor\": \"white\", \"ticks\": \"\"}, \"baxis\": {\"gridcolor\": \"white\", \"linecolor\": \"white\", \"ticks\": \"\"}, \"bgcolor\": \"#E5ECF6\", \"caxis\": {\"gridcolor\": \"white\", \"linecolor\": \"white\", \"ticks\": \"\"}}, \"title\": {\"x\": 0.05}, \"xaxis\": {\"automargin\": true, \"gridcolor\": \"white\", \"linecolor\": \"white\", \"ticks\": \"\", \"zerolinecolor\": \"white\", \"zerolinewidth\": 2}, \"yaxis\": {\"automargin\": true, \"gridcolor\": \"white\", \"linecolor\": \"white\", \"ticks\": \"\", \"zerolinecolor\": \"white\", \"zerolinewidth\": 2}}}, \"xaxis\": {\"anchor\": \"y\", \"domain\": [0.0, 0.98], \"title\": {\"text\": \"education\"}}, \"yaxis\": {\"anchor\": \"x\", \"domain\": [0.0, 1.0], \"title\": {\"text\": \"count\"}}},\n",
              "                        {\"responsive\": true}\n",
              "                    ).then(function(){\n",
              "                            \n",
              "var gd = document.getElementById('00baf789-adb3-429b-afd7-489f86ea49ca');\n",
              "var x = new MutationObserver(function (mutations, observer) {{\n",
              "        var display = window.getComputedStyle(gd).display;\n",
              "        if (!display || display === 'none') {{\n",
              "            console.log([gd, 'removed!']);\n",
              "            Plotly.purge(gd);\n",
              "            observer.disconnect();\n",
              "        }}\n",
              "}});\n",
              "\n",
              "// Listen for the removal of the full notebook cells\n",
              "var notebookContainer = gd.closest('#notebook-container');\n",
              "if (notebookContainer) {{\n",
              "    x.observe(notebookContainer, {childList: true});\n",
              "}}\n",
              "\n",
              "// Listen for the clearing of the current output cell\n",
              "var outputEl = gd.closest('.output');\n",
              "if (outputEl) {{\n",
              "    x.observe(outputEl, {childList: true});\n",
              "}}\n",
              "\n",
              "                        })\n",
              "                };\n",
              "                \n",
              "            </script>\n",
              "        </div>\n",
              "</body>\n",
              "</html>"
            ]
          },
          "metadata": {
            "tags": []
          }
        }
      ]
    }
  ]
}